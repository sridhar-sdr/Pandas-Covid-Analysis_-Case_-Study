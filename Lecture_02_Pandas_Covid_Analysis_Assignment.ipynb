{
 "cells": [
  {
   "cell_type": "markdown",
   "metadata": {},
   "source": [
    "# Task: Covid-19 Data Analysis\n",
    "### This notebook is used to understand the comprehension of Data Analysis techniques using Pandas library."
   ]
  },
  {
   "cell_type": "markdown",
   "metadata": {},
   "source": [
    "### Data Source: \n",
    "https://github.com/CSSEGISandData/COVID-19/tree/master/csse_covid_19_data/csse_covid_19_daily_reports\n",
    "\n",
    "### File naming convention\n",
    "\n",
    "MM-DD-YYYY.csv in UTC.\n",
    "\n",
    "### Field description\n",
    "\n",
    "- Province_State: China - province name; US/Canada/Australia/ - city name, state/province name; Others - name of the event (e.g., \"Diamond Princess\" cruise ship); other countries - blank.\n",
    "\n",
    "- Country_Region: country/region name conforming to WHO (will be updated).\n",
    "\n",
    "- Last_Update: MM/DD/YYYY HH:mm (24 hour format, in UTC).\n",
    "\n",
    "- Confirmed: the number of confirmed cases. For Hubei Province: from Feb 13 (GMT +8), we report both clinically diagnosed and lab-confirmed cases. For lab-confirmed cases only (Before Feb 17), please refer to who_covid_19_situation_reports. For Italy, diagnosis standard might be changed since Feb 27 to \"slow the growth of new case numbers.\" (Source)\n",
    "\n",
    "- Deaths: the number of deaths.\n",
    "\n",
    "- Recovered: the number of recovered cases."
   ]
  },
  {
   "cell_type": "markdown",
   "metadata": {},
   "source": [
    "### Question 1"
   ]
  },
  {
   "cell_type": "markdown",
   "metadata": {},
   "source": [
    "#### Read the dataset"
   ]
  },
  {
   "cell_type": "code",
   "execution_count": 95,
   "metadata": {},
   "outputs": [
    {
     "data": {
      "text/html": [
       "<div>\n",
       "<style scoped>\n",
       "    .dataframe tbody tr th:only-of-type {\n",
       "        vertical-align: middle;\n",
       "    }\n",
       "\n",
       "    .dataframe tbody tr th {\n",
       "        vertical-align: top;\n",
       "    }\n",
       "\n",
       "    .dataframe thead th {\n",
       "        text-align: right;\n",
       "    }\n",
       "</style>\n",
       "<table border=\"1\" class=\"dataframe\">\n",
       "  <thead>\n",
       "    <tr style=\"text-align: right;\">\n",
       "      <th></th>\n",
       "      <th>FIPS</th>\n",
       "      <th>Admin2</th>\n",
       "      <th>Province_State</th>\n",
       "      <th>Country_Region</th>\n",
       "      <th>Last_Update</th>\n",
       "      <th>Lat</th>\n",
       "      <th>Long_</th>\n",
       "      <th>Confirmed</th>\n",
       "      <th>Deaths</th>\n",
       "      <th>Recovered</th>\n",
       "      <th>Active</th>\n",
       "      <th>Combined_Key</th>\n",
       "      <th>Incident_Rate</th>\n",
       "      <th>Case_Fatality_Ratio</th>\n",
       "    </tr>\n",
       "  </thead>\n",
       "  <tbody>\n",
       "    <tr>\n",
       "      <th>0</th>\n",
       "      <td>NaN</td>\n",
       "      <td>NaN</td>\n",
       "      <td>NaN</td>\n",
       "      <td>Afghanistan</td>\n",
       "      <td>2021-01-22 05:22:10</td>\n",
       "      <td>33.939110</td>\n",
       "      <td>67.709953</td>\n",
       "      <td>54403</td>\n",
       "      <td>2363</td>\n",
       "      <td>46887</td>\n",
       "      <td>5153.0</td>\n",
       "      <td>Afghanistan</td>\n",
       "      <td>139.751653</td>\n",
       "      <td>4.343510</td>\n",
       "    </tr>\n",
       "    <tr>\n",
       "      <th>1</th>\n",
       "      <td>NaN</td>\n",
       "      <td>NaN</td>\n",
       "      <td>NaN</td>\n",
       "      <td>Albania</td>\n",
       "      <td>2021-01-22 05:22:10</td>\n",
       "      <td>41.153300</td>\n",
       "      <td>20.168300</td>\n",
       "      <td>69916</td>\n",
       "      <td>1296</td>\n",
       "      <td>42426</td>\n",
       "      <td>26194.0</td>\n",
       "      <td>Albania</td>\n",
       "      <td>2429.494753</td>\n",
       "      <td>1.853653</td>\n",
       "    </tr>\n",
       "    <tr>\n",
       "      <th>2</th>\n",
       "      <td>NaN</td>\n",
       "      <td>NaN</td>\n",
       "      <td>NaN</td>\n",
       "      <td>Algeria</td>\n",
       "      <td>2021-01-22 05:22:10</td>\n",
       "      <td>28.033900</td>\n",
       "      <td>1.659600</td>\n",
       "      <td>104852</td>\n",
       "      <td>2853</td>\n",
       "      <td>71343</td>\n",
       "      <td>30656.0</td>\n",
       "      <td>Algeria</td>\n",
       "      <td>239.109478</td>\n",
       "      <td>2.720978</td>\n",
       "    </tr>\n",
       "    <tr>\n",
       "      <th>3</th>\n",
       "      <td>NaN</td>\n",
       "      <td>NaN</td>\n",
       "      <td>NaN</td>\n",
       "      <td>Andorra</td>\n",
       "      <td>2021-01-22 05:22:10</td>\n",
       "      <td>42.506300</td>\n",
       "      <td>1.521800</td>\n",
       "      <td>9379</td>\n",
       "      <td>93</td>\n",
       "      <td>8474</td>\n",
       "      <td>812.0</td>\n",
       "      <td>Andorra</td>\n",
       "      <td>12138.743286</td>\n",
       "      <td>0.991577</td>\n",
       "    </tr>\n",
       "    <tr>\n",
       "      <th>4</th>\n",
       "      <td>NaN</td>\n",
       "      <td>NaN</td>\n",
       "      <td>NaN</td>\n",
       "      <td>Angola</td>\n",
       "      <td>2021-01-22 05:22:10</td>\n",
       "      <td>-11.202700</td>\n",
       "      <td>17.873900</td>\n",
       "      <td>19177</td>\n",
       "      <td>448</td>\n",
       "      <td>17176</td>\n",
       "      <td>1553.0</td>\n",
       "      <td>Angola</td>\n",
       "      <td>58.348578</td>\n",
       "      <td>2.336132</td>\n",
       "    </tr>\n",
       "    <tr>\n",
       "      <th>5</th>\n",
       "      <td>NaN</td>\n",
       "      <td>NaN</td>\n",
       "      <td>NaN</td>\n",
       "      <td>Antigua and Barbuda</td>\n",
       "      <td>2021-01-22 05:22:10</td>\n",
       "      <td>17.060800</td>\n",
       "      <td>-61.796400</td>\n",
       "      <td>192</td>\n",
       "      <td>6</td>\n",
       "      <td>162</td>\n",
       "      <td>24.0</td>\n",
       "      <td>Antigua and Barbuda</td>\n",
       "      <td>196.062413</td>\n",
       "      <td>3.125000</td>\n",
       "    </tr>\n",
       "    <tr>\n",
       "      <th>6</th>\n",
       "      <td>NaN</td>\n",
       "      <td>NaN</td>\n",
       "      <td>NaN</td>\n",
       "      <td>Argentina</td>\n",
       "      <td>2021-01-22 05:22:10</td>\n",
       "      <td>-38.416100</td>\n",
       "      <td>-63.616700</td>\n",
       "      <td>1843077</td>\n",
       "      <td>46355</td>\n",
       "      <td>1625755</td>\n",
       "      <td>170967.0</td>\n",
       "      <td>Argentina</td>\n",
       "      <td>4077.984985</td>\n",
       "      <td>2.515088</td>\n",
       "    </tr>\n",
       "    <tr>\n",
       "      <th>7</th>\n",
       "      <td>NaN</td>\n",
       "      <td>NaN</td>\n",
       "      <td>NaN</td>\n",
       "      <td>Armenia</td>\n",
       "      <td>2021-01-22 05:22:10</td>\n",
       "      <td>40.069100</td>\n",
       "      <td>45.038200</td>\n",
       "      <td>165528</td>\n",
       "      <td>3021</td>\n",
       "      <td>154046</td>\n",
       "      <td>8461.0</td>\n",
       "      <td>Armenia</td>\n",
       "      <td>5586.059015</td>\n",
       "      <td>1.825069</td>\n",
       "    </tr>\n",
       "    <tr>\n",
       "      <th>8</th>\n",
       "      <td>NaN</td>\n",
       "      <td>NaN</td>\n",
       "      <td>Australian Capital Territory</td>\n",
       "      <td>Australia</td>\n",
       "      <td>2021-01-22 05:22:10</td>\n",
       "      <td>-35.473500</td>\n",
       "      <td>149.012400</td>\n",
       "      <td>118</td>\n",
       "      <td>3</td>\n",
       "      <td>115</td>\n",
       "      <td>0.0</td>\n",
       "      <td>Australian Capital Territory, Australia</td>\n",
       "      <td>27.563653</td>\n",
       "      <td>2.542373</td>\n",
       "    </tr>\n",
       "    <tr>\n",
       "      <th>9</th>\n",
       "      <td>NaN</td>\n",
       "      <td>NaN</td>\n",
       "      <td>New South Wales</td>\n",
       "      <td>Australia</td>\n",
       "      <td>2021-01-22 05:22:10</td>\n",
       "      <td>-33.868800</td>\n",
       "      <td>151.209300</td>\n",
       "      <td>5083</td>\n",
       "      <td>54</td>\n",
       "      <td>0</td>\n",
       "      <td>1793.0</td>\n",
       "      <td>New South Wales, Australia</td>\n",
       "      <td>62.613944</td>\n",
       "      <td>1.062365</td>\n",
       "    </tr>\n",
       "    <tr>\n",
       "      <th>10</th>\n",
       "      <td>NaN</td>\n",
       "      <td>NaN</td>\n",
       "      <td>Northern Territory</td>\n",
       "      <td>Australia</td>\n",
       "      <td>2021-01-22 05:22:10</td>\n",
       "      <td>-12.463400</td>\n",
       "      <td>130.845600</td>\n",
       "      <td>97</td>\n",
       "      <td>0</td>\n",
       "      <td>89</td>\n",
       "      <td>8.0</td>\n",
       "      <td>Northern Territory, Australia</td>\n",
       "      <td>39.495114</td>\n",
       "      <td>0.000000</td>\n",
       "    </tr>\n",
       "    <tr>\n",
       "      <th>11</th>\n",
       "      <td>NaN</td>\n",
       "      <td>NaN</td>\n",
       "      <td>Queensland</td>\n",
       "      <td>Australia</td>\n",
       "      <td>2021-01-22 05:22:10</td>\n",
       "      <td>-27.469800</td>\n",
       "      <td>153.025100</td>\n",
       "      <td>1303</td>\n",
       "      <td>6</td>\n",
       "      <td>1261</td>\n",
       "      <td>36.0</td>\n",
       "      <td>Queensland, Australia</td>\n",
       "      <td>25.471606</td>\n",
       "      <td>0.460476</td>\n",
       "    </tr>\n",
       "    <tr>\n",
       "      <th>12</th>\n",
       "      <td>NaN</td>\n",
       "      <td>NaN</td>\n",
       "      <td>South Australia</td>\n",
       "      <td>Australia</td>\n",
       "      <td>2021-01-22 05:22:10</td>\n",
       "      <td>-34.928500</td>\n",
       "      <td>138.600700</td>\n",
       "      <td>596</td>\n",
       "      <td>4</td>\n",
       "      <td>587</td>\n",
       "      <td>5.0</td>\n",
       "      <td>South Australia, Australia</td>\n",
       "      <td>33.931113</td>\n",
       "      <td>0.671141</td>\n",
       "    </tr>\n",
       "    <tr>\n",
       "      <th>13</th>\n",
       "      <td>NaN</td>\n",
       "      <td>NaN</td>\n",
       "      <td>Tasmania</td>\n",
       "      <td>Australia</td>\n",
       "      <td>2021-01-22 05:22:10</td>\n",
       "      <td>-42.882100</td>\n",
       "      <td>147.327200</td>\n",
       "      <td>234</td>\n",
       "      <td>13</td>\n",
       "      <td>221</td>\n",
       "      <td>0.0</td>\n",
       "      <td>Tasmania, Australia</td>\n",
       "      <td>43.697479</td>\n",
       "      <td>5.555556</td>\n",
       "    </tr>\n",
       "    <tr>\n",
       "      <th>14</th>\n",
       "      <td>NaN</td>\n",
       "      <td>NaN</td>\n",
       "      <td>Victoria</td>\n",
       "      <td>Australia</td>\n",
       "      <td>2021-01-22 05:22:10</td>\n",
       "      <td>-37.813600</td>\n",
       "      <td>144.963100</td>\n",
       "      <td>20434</td>\n",
       "      <td>820</td>\n",
       "      <td>19583</td>\n",
       "      <td>31.0</td>\n",
       "      <td>Victoria, Australia</td>\n",
       "      <td>308.209777</td>\n",
       "      <td>4.012920</td>\n",
       "    </tr>\n",
       "    <tr>\n",
       "      <th>15</th>\n",
       "      <td>NaN</td>\n",
       "      <td>NaN</td>\n",
       "      <td>Western Australia</td>\n",
       "      <td>Australia</td>\n",
       "      <td>2021-01-22 05:22:10</td>\n",
       "      <td>-31.950500</td>\n",
       "      <td>115.860500</td>\n",
       "      <td>890</td>\n",
       "      <td>9</td>\n",
       "      <td>869</td>\n",
       "      <td>12.0</td>\n",
       "      <td>Western Australia, Australia</td>\n",
       "      <td>33.832586</td>\n",
       "      <td>1.011236</td>\n",
       "    </tr>\n",
       "    <tr>\n",
       "      <th>16</th>\n",
       "      <td>NaN</td>\n",
       "      <td>NaN</td>\n",
       "      <td>NaN</td>\n",
       "      <td>Austria</td>\n",
       "      <td>2021-01-22 05:22:10</td>\n",
       "      <td>47.516200</td>\n",
       "      <td>14.550100</td>\n",
       "      <td>399798</td>\n",
       "      <td>7288</td>\n",
       "      <td>376360</td>\n",
       "      <td>16150.0</td>\n",
       "      <td>Austria</td>\n",
       "      <td>4439.043347</td>\n",
       "      <td>1.822921</td>\n",
       "    </tr>\n",
       "    <tr>\n",
       "      <th>17</th>\n",
       "      <td>NaN</td>\n",
       "      <td>NaN</td>\n",
       "      <td>NaN</td>\n",
       "      <td>Azerbaijan</td>\n",
       "      <td>2021-01-22 05:22:10</td>\n",
       "      <td>40.143100</td>\n",
       "      <td>47.576900</td>\n",
       "      <td>228246</td>\n",
       "      <td>3053</td>\n",
       "      <td>218387</td>\n",
       "      <td>6806.0</td>\n",
       "      <td>Azerbaijan</td>\n",
       "      <td>2251.129900</td>\n",
       "      <td>1.337592</td>\n",
       "    </tr>\n",
       "    <tr>\n",
       "      <th>18</th>\n",
       "      <td>NaN</td>\n",
       "      <td>NaN</td>\n",
       "      <td>NaN</td>\n",
       "      <td>Bahamas</td>\n",
       "      <td>2021-01-22 05:22:10</td>\n",
       "      <td>25.025885</td>\n",
       "      <td>-78.035889</td>\n",
       "      <td>8088</td>\n",
       "      <td>175</td>\n",
       "      <td>6720</td>\n",
       "      <td>1193.0</td>\n",
       "      <td>Bahamas</td>\n",
       "      <td>2056.717390</td>\n",
       "      <td>2.163699</td>\n",
       "    </tr>\n",
       "    <tr>\n",
       "      <th>19</th>\n",
       "      <td>NaN</td>\n",
       "      <td>NaN</td>\n",
       "      <td>NaN</td>\n",
       "      <td>Bahrain</td>\n",
       "      <td>2021-01-22 05:22:10</td>\n",
       "      <td>26.027500</td>\n",
       "      <td>50.550000</td>\n",
       "      <td>98878</td>\n",
       "      <td>366</td>\n",
       "      <td>95594</td>\n",
       "      <td>2918.0</td>\n",
       "      <td>Bahrain</td>\n",
       "      <td>5810.941929</td>\n",
       "      <td>0.370153</td>\n",
       "    </tr>\n",
       "    <tr>\n",
       "      <th>20</th>\n",
       "      <td>NaN</td>\n",
       "      <td>NaN</td>\n",
       "      <td>NaN</td>\n",
       "      <td>Bangladesh</td>\n",
       "      <td>2021-01-22 05:22:10</td>\n",
       "      <td>23.685000</td>\n",
       "      <td>90.356300</td>\n",
       "      <td>530271</td>\n",
       "      <td>7966</td>\n",
       "      <td>475074</td>\n",
       "      <td>47231.0</td>\n",
       "      <td>Bangladesh</td>\n",
       "      <td>321.982504</td>\n",
       "      <td>1.502251</td>\n",
       "    </tr>\n",
       "    <tr>\n",
       "      <th>21</th>\n",
       "      <td>NaN</td>\n",
       "      <td>NaN</td>\n",
       "      <td>NaN</td>\n",
       "      <td>Barbados</td>\n",
       "      <td>2021-01-22 05:22:10</td>\n",
       "      <td>13.193900</td>\n",
       "      <td>-59.543200</td>\n",
       "      <td>1156</td>\n",
       "      <td>9</td>\n",
       "      <td>493</td>\n",
       "      <td>654.0</td>\n",
       "      <td>Barbados</td>\n",
       "      <td>402.267452</td>\n",
       "      <td>0.778547</td>\n",
       "    </tr>\n",
       "    <tr>\n",
       "      <th>22</th>\n",
       "      <td>NaN</td>\n",
       "      <td>NaN</td>\n",
       "      <td>NaN</td>\n",
       "      <td>Belarus</td>\n",
       "      <td>2021-01-22 05:22:10</td>\n",
       "      <td>53.709800</td>\n",
       "      <td>27.953400</td>\n",
       "      <td>232298</td>\n",
       "      <td>1619</td>\n",
       "      <td>216744</td>\n",
       "      <td>13935.0</td>\n",
       "      <td>Belarus</td>\n",
       "      <td>2458.356532</td>\n",
       "      <td>0.696950</td>\n",
       "    </tr>\n",
       "    <tr>\n",
       "      <th>23</th>\n",
       "      <td>NaN</td>\n",
       "      <td>NaN</td>\n",
       "      <td>Antwerp</td>\n",
       "      <td>Belgium</td>\n",
       "      <td>2021-01-22 05:22:10</td>\n",
       "      <td>51.219500</td>\n",
       "      <td>4.402400</td>\n",
       "      <td>85350</td>\n",
       "      <td>0</td>\n",
       "      <td>0</td>\n",
       "      <td>85350.0</td>\n",
       "      <td>Antwerp, Belgium</td>\n",
       "      <td>4593.683698</td>\n",
       "      <td>0.000000</td>\n",
       "    </tr>\n",
       "    <tr>\n",
       "      <th>24</th>\n",
       "      <td>NaN</td>\n",
       "      <td>NaN</td>\n",
       "      <td>Brussels</td>\n",
       "      <td>Belgium</td>\n",
       "      <td>2021-01-22 05:22:10</td>\n",
       "      <td>50.850300</td>\n",
       "      <td>4.351700</td>\n",
       "      <td>86009</td>\n",
       "      <td>0</td>\n",
       "      <td>0</td>\n",
       "      <td>86009.0</td>\n",
       "      <td>Brussels, Belgium</td>\n",
       "      <td>7116.757217</td>\n",
       "      <td>0.000000</td>\n",
       "    </tr>\n",
       "    <tr>\n",
       "      <th>25</th>\n",
       "      <td>NaN</td>\n",
       "      <td>NaN</td>\n",
       "      <td>East Flanders</td>\n",
       "      <td>Belgium</td>\n",
       "      <td>2021-01-22 05:22:10</td>\n",
       "      <td>51.036200</td>\n",
       "      <td>3.737300</td>\n",
       "      <td>70572</td>\n",
       "      <td>0</td>\n",
       "      <td>0</td>\n",
       "      <td>70572.0</td>\n",
       "      <td>East Flanders, Belgium</td>\n",
       "      <td>4658.021047</td>\n",
       "      <td>0.000000</td>\n",
       "    </tr>\n",
       "    <tr>\n",
       "      <th>26</th>\n",
       "      <td>NaN</td>\n",
       "      <td>NaN</td>\n",
       "      <td>Flemish Brabant</td>\n",
       "      <td>Belgium</td>\n",
       "      <td>2021-01-22 05:22:10</td>\n",
       "      <td>50.916700</td>\n",
       "      <td>4.583300</td>\n",
       "      <td>52263</td>\n",
       "      <td>0</td>\n",
       "      <td>0</td>\n",
       "      <td>52263.0</td>\n",
       "      <td>Flemish Brabant, Belgium</td>\n",
       "      <td>4559.774903</td>\n",
       "      <td>0.000000</td>\n",
       "    </tr>\n",
       "    <tr>\n",
       "      <th>27</th>\n",
       "      <td>NaN</td>\n",
       "      <td>NaN</td>\n",
       "      <td>Hainaut</td>\n",
       "      <td>Belgium</td>\n",
       "      <td>2021-01-22 05:22:10</td>\n",
       "      <td>50.525700</td>\n",
       "      <td>4.062100</td>\n",
       "      <td>106426</td>\n",
       "      <td>0</td>\n",
       "      <td>0</td>\n",
       "      <td>106426.0</td>\n",
       "      <td>Hainaut, Belgium</td>\n",
       "      <td>7917.181517</td>\n",
       "      <td>0.000000</td>\n",
       "    </tr>\n",
       "    <tr>\n",
       "      <th>28</th>\n",
       "      <td>NaN</td>\n",
       "      <td>NaN</td>\n",
       "      <td>Liege</td>\n",
       "      <td>Belgium</td>\n",
       "      <td>2021-01-22 05:22:10</td>\n",
       "      <td>50.449600</td>\n",
       "      <td>5.849200</td>\n",
       "      <td>99865</td>\n",
       "      <td>0</td>\n",
       "      <td>0</td>\n",
       "      <td>99865.0</td>\n",
       "      <td>Liege, Belgium</td>\n",
       "      <td>9021.293740</td>\n",
       "      <td>0.000000</td>\n",
       "    </tr>\n",
       "    <tr>\n",
       "      <th>29</th>\n",
       "      <td>NaN</td>\n",
       "      <td>NaN</td>\n",
       "      <td>Limburg</td>\n",
       "      <td>Belgium</td>\n",
       "      <td>2021-01-22 05:22:10</td>\n",
       "      <td>50.973900</td>\n",
       "      <td>5.342000</td>\n",
       "      <td>32390</td>\n",
       "      <td>0</td>\n",
       "      <td>0</td>\n",
       "      <td>32390.0</td>\n",
       "      <td>Limburg, Belgium</td>\n",
       "      <td>3705.746138</td>\n",
       "      <td>0.000000</td>\n",
       "    </tr>\n",
       "    <tr>\n",
       "      <th>...</th>\n",
       "      <td>...</td>\n",
       "      <td>...</td>\n",
       "      <td>...</td>\n",
       "      <td>...</td>\n",
       "      <td>...</td>\n",
       "      <td>...</td>\n",
       "      <td>...</td>\n",
       "      <td>...</td>\n",
       "      <td>...</td>\n",
       "      <td>...</td>\n",
       "      <td>...</td>\n",
       "      <td>...</td>\n",
       "      <td>...</td>\n",
       "      <td>...</td>\n",
       "    </tr>\n",
       "    <tr>\n",
       "      <th>3957</th>\n",
       "      <td>NaN</td>\n",
       "      <td>NaN</td>\n",
       "      <td>British Virgin Islands</td>\n",
       "      <td>United Kingdom</td>\n",
       "      <td>2021-01-22 05:22:10</td>\n",
       "      <td>18.420700</td>\n",
       "      <td>-64.640000</td>\n",
       "      <td>114</td>\n",
       "      <td>1</td>\n",
       "      <td>95</td>\n",
       "      <td>18.0</td>\n",
       "      <td>British Virgin Islands, United Kingdom</td>\n",
       "      <td>377.021530</td>\n",
       "      <td>0.877193</td>\n",
       "    </tr>\n",
       "    <tr>\n",
       "      <th>3958</th>\n",
       "      <td>NaN</td>\n",
       "      <td>NaN</td>\n",
       "      <td>Cayman Islands</td>\n",
       "      <td>United Kingdom</td>\n",
       "      <td>2021-01-22 05:22:10</td>\n",
       "      <td>19.313300</td>\n",
       "      <td>-81.254600</td>\n",
       "      <td>382</td>\n",
       "      <td>2</td>\n",
       "      <td>346</td>\n",
       "      <td>34.0</td>\n",
       "      <td>Cayman Islands, United Kingdom</td>\n",
       "      <td>581.253804</td>\n",
       "      <td>0.523560</td>\n",
       "    </tr>\n",
       "    <tr>\n",
       "      <th>3959</th>\n",
       "      <td>NaN</td>\n",
       "      <td>NaN</td>\n",
       "      <td>Channel Islands</td>\n",
       "      <td>United Kingdom</td>\n",
       "      <td>2021-01-22 05:22:10</td>\n",
       "      <td>49.372300</td>\n",
       "      <td>-2.364400</td>\n",
       "      <td>3407</td>\n",
       "      <td>78</td>\n",
       "      <td>3148</td>\n",
       "      <td>181.0</td>\n",
       "      <td>Channel Islands, United Kingdom</td>\n",
       "      <td>1998.252189</td>\n",
       "      <td>2.289404</td>\n",
       "    </tr>\n",
       "    <tr>\n",
       "      <th>3960</th>\n",
       "      <td>NaN</td>\n",
       "      <td>NaN</td>\n",
       "      <td>England</td>\n",
       "      <td>United Kingdom</td>\n",
       "      <td>2021-01-22 05:22:10</td>\n",
       "      <td>52.355500</td>\n",
       "      <td>-1.174300</td>\n",
       "      <td>3092041</td>\n",
       "      <td>82939</td>\n",
       "      <td>0</td>\n",
       "      <td>3009102.0</td>\n",
       "      <td>England, United Kingdom</td>\n",
       "      <td>5523.750741</td>\n",
       "      <td>2.682338</td>\n",
       "    </tr>\n",
       "    <tr>\n",
       "      <th>3961</th>\n",
       "      <td>NaN</td>\n",
       "      <td>NaN</td>\n",
       "      <td>Falkland Islands (Malvinas)</td>\n",
       "      <td>United Kingdom</td>\n",
       "      <td>2021-01-22 05:22:10</td>\n",
       "      <td>-51.796300</td>\n",
       "      <td>-59.523600</td>\n",
       "      <td>35</td>\n",
       "      <td>0</td>\n",
       "      <td>29</td>\n",
       "      <td>6.0</td>\n",
       "      <td>Falkland Islands (Malvinas), United Kingdom</td>\n",
       "      <td>1004.880850</td>\n",
       "      <td>0.000000</td>\n",
       "    </tr>\n",
       "    <tr>\n",
       "      <th>3962</th>\n",
       "      <td>NaN</td>\n",
       "      <td>NaN</td>\n",
       "      <td>Gibraltar</td>\n",
       "      <td>United Kingdom</td>\n",
       "      <td>2021-01-22 05:22:10</td>\n",
       "      <td>36.140800</td>\n",
       "      <td>-5.353600</td>\n",
       "      <td>3881</td>\n",
       "      <td>59</td>\n",
       "      <td>3033</td>\n",
       "      <td>789.0</td>\n",
       "      <td>Gibraltar, United Kingdom</td>\n",
       "      <td>11519.396872</td>\n",
       "      <td>1.520227</td>\n",
       "    </tr>\n",
       "    <tr>\n",
       "      <th>3963</th>\n",
       "      <td>NaN</td>\n",
       "      <td>NaN</td>\n",
       "      <td>Isle of Man</td>\n",
       "      <td>United Kingdom</td>\n",
       "      <td>2021-01-22 05:22:10</td>\n",
       "      <td>54.236100</td>\n",
       "      <td>-4.548100</td>\n",
       "      <td>432</td>\n",
       "      <td>25</td>\n",
       "      <td>357</td>\n",
       "      <td>50.0</td>\n",
       "      <td>Isle of Man, United Kingdom</td>\n",
       "      <td>508.044030</td>\n",
       "      <td>5.787037</td>\n",
       "    </tr>\n",
       "    <tr>\n",
       "      <th>3964</th>\n",
       "      <td>NaN</td>\n",
       "      <td>NaN</td>\n",
       "      <td>Montserrat</td>\n",
       "      <td>United Kingdom</td>\n",
       "      <td>2021-01-22 05:22:10</td>\n",
       "      <td>16.742498</td>\n",
       "      <td>-62.187366</td>\n",
       "      <td>13</td>\n",
       "      <td>1</td>\n",
       "      <td>12</td>\n",
       "      <td>0.0</td>\n",
       "      <td>Montserrat, United Kingdom</td>\n",
       "      <td>260.052010</td>\n",
       "      <td>7.692308</td>\n",
       "    </tr>\n",
       "    <tr>\n",
       "      <th>3965</th>\n",
       "      <td>NaN</td>\n",
       "      <td>NaN</td>\n",
       "      <td>Northern Ireland</td>\n",
       "      <td>United Kingdom</td>\n",
       "      <td>2021-01-22 05:22:10</td>\n",
       "      <td>54.787700</td>\n",
       "      <td>-6.492300</td>\n",
       "      <td>98351</td>\n",
       "      <td>1692</td>\n",
       "      <td>0</td>\n",
       "      <td>96659.0</td>\n",
       "      <td>Northern Ireland, United Kingdom</td>\n",
       "      <td>5226.987670</td>\n",
       "      <td>1.720369</td>\n",
       "    </tr>\n",
       "    <tr>\n",
       "      <th>3966</th>\n",
       "      <td>NaN</td>\n",
       "      <td>NaN</td>\n",
       "      <td>Saint Helena, Ascension and Tristan da Cunha</td>\n",
       "      <td>United Kingdom</td>\n",
       "      <td>2021-01-22 05:22:10</td>\n",
       "      <td>-7.946700</td>\n",
       "      <td>-14.355900</td>\n",
       "      <td>4</td>\n",
       "      <td>0</td>\n",
       "      <td>4</td>\n",
       "      <td>0.0</td>\n",
       "      <td>Saint Helena, Ascension and Tristan da Cunha, ...</td>\n",
       "      <td>NaN</td>\n",
       "      <td>NaN</td>\n",
       "    </tr>\n",
       "    <tr>\n",
       "      <th>3967</th>\n",
       "      <td>NaN</td>\n",
       "      <td>NaN</td>\n",
       "      <td>Scotland</td>\n",
       "      <td>United Kingdom</td>\n",
       "      <td>2021-01-22 05:22:10</td>\n",
       "      <td>56.490700</td>\n",
       "      <td>-4.202600</td>\n",
       "      <td>168219</td>\n",
       "      <td>5557</td>\n",
       "      <td>0</td>\n",
       "      <td>162662.0</td>\n",
       "      <td>Scotland, United Kingdom</td>\n",
       "      <td>3079.073088</td>\n",
       "      <td>3.303432</td>\n",
       "    </tr>\n",
       "    <tr>\n",
       "      <th>3968</th>\n",
       "      <td>NaN</td>\n",
       "      <td>NaN</td>\n",
       "      <td>Turks and Caicos Islands</td>\n",
       "      <td>United Kingdom</td>\n",
       "      <td>2021-01-22 05:22:10</td>\n",
       "      <td>21.694000</td>\n",
       "      <td>-71.797900</td>\n",
       "      <td>1164</td>\n",
       "      <td>7</td>\n",
       "      <td>935</td>\n",
       "      <td>222.0</td>\n",
       "      <td>Turks and Caicos Islands, United Kingdom</td>\n",
       "      <td>3006.353634</td>\n",
       "      <td>0.601375</td>\n",
       "    </tr>\n",
       "    <tr>\n",
       "      <th>3969</th>\n",
       "      <td>NaN</td>\n",
       "      <td>NaN</td>\n",
       "      <td>Unknown</td>\n",
       "      <td>United Kingdom</td>\n",
       "      <td>2021-01-22 05:22:10</td>\n",
       "      <td>NaN</td>\n",
       "      <td>NaN</td>\n",
       "      <td>0</td>\n",
       "      <td>0</td>\n",
       "      <td>0</td>\n",
       "      <td>0.0</td>\n",
       "      <td>Unknown, United Kingdom</td>\n",
       "      <td>NaN</td>\n",
       "      <td>NaN</td>\n",
       "    </tr>\n",
       "    <tr>\n",
       "      <th>3970</th>\n",
       "      <td>NaN</td>\n",
       "      <td>NaN</td>\n",
       "      <td>Wales</td>\n",
       "      <td>United Kingdom</td>\n",
       "      <td>2021-01-22 05:22:10</td>\n",
       "      <td>52.130700</td>\n",
       "      <td>-3.783700</td>\n",
       "      <td>185035</td>\n",
       "      <td>4392</td>\n",
       "      <td>0</td>\n",
       "      <td>180643.0</td>\n",
       "      <td>Wales, United Kingdom</td>\n",
       "      <td>5895.462945</td>\n",
       "      <td>2.373605</td>\n",
       "    </tr>\n",
       "    <tr>\n",
       "      <th>3971</th>\n",
       "      <td>NaN</td>\n",
       "      <td>NaN</td>\n",
       "      <td>NaN</td>\n",
       "      <td>Uruguay</td>\n",
       "      <td>2021-01-22 05:22:10</td>\n",
       "      <td>-32.522800</td>\n",
       "      <td>-55.765800</td>\n",
       "      <td>34992</td>\n",
       "      <td>347</td>\n",
       "      <td>26927</td>\n",
       "      <td>7718.0</td>\n",
       "      <td>Uruguay</td>\n",
       "      <td>1007.333046</td>\n",
       "      <td>0.991655</td>\n",
       "    </tr>\n",
       "    <tr>\n",
       "      <th>3972</th>\n",
       "      <td>NaN</td>\n",
       "      <td>NaN</td>\n",
       "      <td>NaN</td>\n",
       "      <td>Uzbekistan</td>\n",
       "      <td>2021-01-22 05:22:10</td>\n",
       "      <td>41.377491</td>\n",
       "      <td>64.585262</td>\n",
       "      <td>78219</td>\n",
       "      <td>620</td>\n",
       "      <td>76655</td>\n",
       "      <td>944.0</td>\n",
       "      <td>Uzbekistan</td>\n",
       "      <td>233.704428</td>\n",
       "      <td>0.792646</td>\n",
       "    </tr>\n",
       "    <tr>\n",
       "      <th>3973</th>\n",
       "      <td>NaN</td>\n",
       "      <td>NaN</td>\n",
       "      <td>NaN</td>\n",
       "      <td>Vanuatu</td>\n",
       "      <td>2021-01-22 05:22:10</td>\n",
       "      <td>-15.376700</td>\n",
       "      <td>166.959200</td>\n",
       "      <td>1</td>\n",
       "      <td>0</td>\n",
       "      <td>1</td>\n",
       "      <td>0.0</td>\n",
       "      <td>Vanuatu</td>\n",
       "      <td>0.341670</td>\n",
       "      <td>0.000000</td>\n",
       "    </tr>\n",
       "    <tr>\n",
       "      <th>3974</th>\n",
       "      <td>NaN</td>\n",
       "      <td>NaN</td>\n",
       "      <td>NaN</td>\n",
       "      <td>Venezuela</td>\n",
       "      <td>2021-01-22 05:22:10</td>\n",
       "      <td>6.423800</td>\n",
       "      <td>-66.589700</td>\n",
       "      <td>122260</td>\n",
       "      <td>1129</td>\n",
       "      <td>114299</td>\n",
       "      <td>6832.0</td>\n",
       "      <td>Venezuela</td>\n",
       "      <td>429.948815</td>\n",
       "      <td>0.923442</td>\n",
       "    </tr>\n",
       "    <tr>\n",
       "      <th>3975</th>\n",
       "      <td>NaN</td>\n",
       "      <td>NaN</td>\n",
       "      <td>NaN</td>\n",
       "      <td>Vietnam</td>\n",
       "      <td>2021-01-22 05:22:10</td>\n",
       "      <td>14.058324</td>\n",
       "      <td>108.277199</td>\n",
       "      <td>1546</td>\n",
       "      <td>35</td>\n",
       "      <td>1411</td>\n",
       "      <td>100.0</td>\n",
       "      <td>Vietnam</td>\n",
       "      <td>1.588271</td>\n",
       "      <td>2.263907</td>\n",
       "    </tr>\n",
       "    <tr>\n",
       "      <th>3976</th>\n",
       "      <td>NaN</td>\n",
       "      <td>NaN</td>\n",
       "      <td>NaN</td>\n",
       "      <td>West Bank and Gaza</td>\n",
       "      <td>2021-01-22 05:22:10</td>\n",
       "      <td>31.952200</td>\n",
       "      <td>35.233200</td>\n",
       "      <td>154063</td>\n",
       "      <td>1757</td>\n",
       "      <td>142819</td>\n",
       "      <td>9487.0</td>\n",
       "      <td>West Bank and Gaza</td>\n",
       "      <td>3020.004642</td>\n",
       "      <td>1.140443</td>\n",
       "    </tr>\n",
       "    <tr>\n",
       "      <th>3977</th>\n",
       "      <td>NaN</td>\n",
       "      <td>NaN</td>\n",
       "      <td>NaN</td>\n",
       "      <td>Yemen</td>\n",
       "      <td>2021-01-22 05:22:10</td>\n",
       "      <td>15.552727</td>\n",
       "      <td>48.516388</td>\n",
       "      <td>2115</td>\n",
       "      <td>614</td>\n",
       "      <td>1423</td>\n",
       "      <td>78.0</td>\n",
       "      <td>Yemen</td>\n",
       "      <td>7.091136</td>\n",
       "      <td>29.030733</td>\n",
       "    </tr>\n",
       "    <tr>\n",
       "      <th>3978</th>\n",
       "      <td>NaN</td>\n",
       "      <td>NaN</td>\n",
       "      <td>NaN</td>\n",
       "      <td>Zambia</td>\n",
       "      <td>2021-01-22 05:22:10</td>\n",
       "      <td>-13.133897</td>\n",
       "      <td>27.849332</td>\n",
       "      <td>42213</td>\n",
       "      <td>597</td>\n",
       "      <td>31522</td>\n",
       "      <td>10094.0</td>\n",
       "      <td>Zambia</td>\n",
       "      <td>229.618696</td>\n",
       "      <td>1.414256</td>\n",
       "    </tr>\n",
       "    <tr>\n",
       "      <th>3979</th>\n",
       "      <td>NaN</td>\n",
       "      <td>NaN</td>\n",
       "      <td>NaN</td>\n",
       "      <td>Zimbabwe</td>\n",
       "      <td>2021-01-22 05:22:10</td>\n",
       "      <td>-19.015438</td>\n",
       "      <td>29.154857</td>\n",
       "      <td>30047</td>\n",
       "      <td>917</td>\n",
       "      <td>19569</td>\n",
       "      <td>9561.0</td>\n",
       "      <td>Zimbabwe</td>\n",
       "      <td>202.160718</td>\n",
       "      <td>3.051885</td>\n",
       "    </tr>\n",
       "    <tr>\n",
       "      <th>3980</th>\n",
       "      <td>2066.0</td>\n",
       "      <td>Copper River</td>\n",
       "      <td>Alaska</td>\n",
       "      <td>US</td>\n",
       "      <td>2021-04-02 15:13:53</td>\n",
       "      <td>60.388600</td>\n",
       "      <td>-162.890520</td>\n",
       "      <td>177</td>\n",
       "      <td>0</td>\n",
       "      <td>0</td>\n",
       "      <td>0.0</td>\n",
       "      <td>Copper River, Alaska, US</td>\n",
       "      <td>NaN</td>\n",
       "      <td>NaN</td>\n",
       "    </tr>\n",
       "    <tr>\n",
       "      <th>3981</th>\n",
       "      <td>2063.0</td>\n",
       "      <td>Chugach</td>\n",
       "      <td>Alaska</td>\n",
       "      <td>US</td>\n",
       "      <td>2021-04-02 15:13:53</td>\n",
       "      <td>61.166660</td>\n",
       "      <td>-149.900000</td>\n",
       "      <td>248</td>\n",
       "      <td>3</td>\n",
       "      <td>0</td>\n",
       "      <td>0.0</td>\n",
       "      <td>Chugach, Alaska, US</td>\n",
       "      <td>NaN</td>\n",
       "      <td>NaN</td>\n",
       "    </tr>\n",
       "    <tr>\n",
       "      <th>3982</th>\n",
       "      <td>NaN</td>\n",
       "      <td>NaN</td>\n",
       "      <td>Unknown</td>\n",
       "      <td>China</td>\n",
       "      <td>2021-01-22 05:22:10</td>\n",
       "      <td>NaN</td>\n",
       "      <td>NaN</td>\n",
       "      <td>0</td>\n",
       "      <td>0</td>\n",
       "      <td>0</td>\n",
       "      <td>0.0</td>\n",
       "      <td>Unknown, China</td>\n",
       "      <td>0.000000</td>\n",
       "      <td>0.000000</td>\n",
       "    </tr>\n",
       "    <tr>\n",
       "      <th>3983</th>\n",
       "      <td>NaN</td>\n",
       "      <td>NaN</td>\n",
       "      <td>NaN</td>\n",
       "      <td>Kiribati</td>\n",
       "      <td>2021-01-22 05:22:10</td>\n",
       "      <td>-3.370400</td>\n",
       "      <td>-168.734000</td>\n",
       "      <td>0</td>\n",
       "      <td>0</td>\n",
       "      <td>0</td>\n",
       "      <td>0.0</td>\n",
       "      <td>Kiribati</td>\n",
       "      <td>0.000000</td>\n",
       "      <td>0.000000</td>\n",
       "    </tr>\n",
       "    <tr>\n",
       "      <th>3984</th>\n",
       "      <td>NaN</td>\n",
       "      <td>NaN</td>\n",
       "      <td>NaN</td>\n",
       "      <td>Palau</td>\n",
       "      <td>2021-01-22 05:22:10</td>\n",
       "      <td>7.515000</td>\n",
       "      <td>134.582500</td>\n",
       "      <td>0</td>\n",
       "      <td>0</td>\n",
       "      <td>0</td>\n",
       "      <td>0.0</td>\n",
       "      <td>Palau</td>\n",
       "      <td>0.000000</td>\n",
       "      <td>0.000000</td>\n",
       "    </tr>\n",
       "    <tr>\n",
       "      <th>3985</th>\n",
       "      <td>NaN</td>\n",
       "      <td>NaN</td>\n",
       "      <td>Cook Islands</td>\n",
       "      <td>New Zealand</td>\n",
       "      <td>2021-01-22 05:22:10</td>\n",
       "      <td>-21.236700</td>\n",
       "      <td>-159.777700</td>\n",
       "      <td>0</td>\n",
       "      <td>0</td>\n",
       "      <td>0</td>\n",
       "      <td>0.0</td>\n",
       "      <td>Cook Islands, New Zealand</td>\n",
       "      <td>0.000000</td>\n",
       "      <td>0.000000</td>\n",
       "    </tr>\n",
       "    <tr>\n",
       "      <th>3986</th>\n",
       "      <td>NaN</td>\n",
       "      <td>NaN</td>\n",
       "      <td>NaN</td>\n",
       "      <td>Summer Olympics 2020</td>\n",
       "      <td>2021-01-22 05:22:10</td>\n",
       "      <td>35.649100</td>\n",
       "      <td>139.773700</td>\n",
       "      <td>0</td>\n",
       "      <td>0</td>\n",
       "      <td>0</td>\n",
       "      <td>0.0</td>\n",
       "      <td>Summer Olympics 2020</td>\n",
       "      <td>0.000000</td>\n",
       "      <td>0.000000</td>\n",
       "    </tr>\n",
       "  </tbody>\n",
       "</table>\n",
       "<p>3987 rows × 14 columns</p>\n",
       "</div>"
      ],
      "text/plain": [
       "        FIPS        Admin2                                Province_State  \\\n",
       "0        NaN           NaN                                           NaN   \n",
       "1        NaN           NaN                                           NaN   \n",
       "2        NaN           NaN                                           NaN   \n",
       "3        NaN           NaN                                           NaN   \n",
       "4        NaN           NaN                                           NaN   \n",
       "5        NaN           NaN                                           NaN   \n",
       "6        NaN           NaN                                           NaN   \n",
       "7        NaN           NaN                                           NaN   \n",
       "8        NaN           NaN                  Australian Capital Territory   \n",
       "9        NaN           NaN                               New South Wales   \n",
       "10       NaN           NaN                            Northern Territory   \n",
       "11       NaN           NaN                                    Queensland   \n",
       "12       NaN           NaN                               South Australia   \n",
       "13       NaN           NaN                                      Tasmania   \n",
       "14       NaN           NaN                                      Victoria   \n",
       "15       NaN           NaN                             Western Australia   \n",
       "16       NaN           NaN                                           NaN   \n",
       "17       NaN           NaN                                           NaN   \n",
       "18       NaN           NaN                                           NaN   \n",
       "19       NaN           NaN                                           NaN   \n",
       "20       NaN           NaN                                           NaN   \n",
       "21       NaN           NaN                                           NaN   \n",
       "22       NaN           NaN                                           NaN   \n",
       "23       NaN           NaN                                       Antwerp   \n",
       "24       NaN           NaN                                      Brussels   \n",
       "25       NaN           NaN                                 East Flanders   \n",
       "26       NaN           NaN                               Flemish Brabant   \n",
       "27       NaN           NaN                                       Hainaut   \n",
       "28       NaN           NaN                                         Liege   \n",
       "29       NaN           NaN                                       Limburg   \n",
       "...      ...           ...                                           ...   \n",
       "3957     NaN           NaN                        British Virgin Islands   \n",
       "3958     NaN           NaN                                Cayman Islands   \n",
       "3959     NaN           NaN                               Channel Islands   \n",
       "3960     NaN           NaN                                       England   \n",
       "3961     NaN           NaN                   Falkland Islands (Malvinas)   \n",
       "3962     NaN           NaN                                     Gibraltar   \n",
       "3963     NaN           NaN                                   Isle of Man   \n",
       "3964     NaN           NaN                                    Montserrat   \n",
       "3965     NaN           NaN                              Northern Ireland   \n",
       "3966     NaN           NaN  Saint Helena, Ascension and Tristan da Cunha   \n",
       "3967     NaN           NaN                                      Scotland   \n",
       "3968     NaN           NaN                      Turks and Caicos Islands   \n",
       "3969     NaN           NaN                                       Unknown   \n",
       "3970     NaN           NaN                                         Wales   \n",
       "3971     NaN           NaN                                           NaN   \n",
       "3972     NaN           NaN                                           NaN   \n",
       "3973     NaN           NaN                                           NaN   \n",
       "3974     NaN           NaN                                           NaN   \n",
       "3975     NaN           NaN                                           NaN   \n",
       "3976     NaN           NaN                                           NaN   \n",
       "3977     NaN           NaN                                           NaN   \n",
       "3978     NaN           NaN                                           NaN   \n",
       "3979     NaN           NaN                                           NaN   \n",
       "3980  2066.0  Copper River                                        Alaska   \n",
       "3981  2063.0       Chugach                                        Alaska   \n",
       "3982     NaN           NaN                                       Unknown   \n",
       "3983     NaN           NaN                                           NaN   \n",
       "3984     NaN           NaN                                           NaN   \n",
       "3985     NaN           NaN                                  Cook Islands   \n",
       "3986     NaN           NaN                                           NaN   \n",
       "\n",
       "            Country_Region          Last_Update        Lat       Long_  \\\n",
       "0              Afghanistan  2021-01-22 05:22:10  33.939110   67.709953   \n",
       "1                  Albania  2021-01-22 05:22:10  41.153300   20.168300   \n",
       "2                  Algeria  2021-01-22 05:22:10  28.033900    1.659600   \n",
       "3                  Andorra  2021-01-22 05:22:10  42.506300    1.521800   \n",
       "4                   Angola  2021-01-22 05:22:10 -11.202700   17.873900   \n",
       "5      Antigua and Barbuda  2021-01-22 05:22:10  17.060800  -61.796400   \n",
       "6                Argentina  2021-01-22 05:22:10 -38.416100  -63.616700   \n",
       "7                  Armenia  2021-01-22 05:22:10  40.069100   45.038200   \n",
       "8                Australia  2021-01-22 05:22:10 -35.473500  149.012400   \n",
       "9                Australia  2021-01-22 05:22:10 -33.868800  151.209300   \n",
       "10               Australia  2021-01-22 05:22:10 -12.463400  130.845600   \n",
       "11               Australia  2021-01-22 05:22:10 -27.469800  153.025100   \n",
       "12               Australia  2021-01-22 05:22:10 -34.928500  138.600700   \n",
       "13               Australia  2021-01-22 05:22:10 -42.882100  147.327200   \n",
       "14               Australia  2021-01-22 05:22:10 -37.813600  144.963100   \n",
       "15               Australia  2021-01-22 05:22:10 -31.950500  115.860500   \n",
       "16                 Austria  2021-01-22 05:22:10  47.516200   14.550100   \n",
       "17              Azerbaijan  2021-01-22 05:22:10  40.143100   47.576900   \n",
       "18                 Bahamas  2021-01-22 05:22:10  25.025885  -78.035889   \n",
       "19                 Bahrain  2021-01-22 05:22:10  26.027500   50.550000   \n",
       "20              Bangladesh  2021-01-22 05:22:10  23.685000   90.356300   \n",
       "21                Barbados  2021-01-22 05:22:10  13.193900  -59.543200   \n",
       "22                 Belarus  2021-01-22 05:22:10  53.709800   27.953400   \n",
       "23                 Belgium  2021-01-22 05:22:10  51.219500    4.402400   \n",
       "24                 Belgium  2021-01-22 05:22:10  50.850300    4.351700   \n",
       "25                 Belgium  2021-01-22 05:22:10  51.036200    3.737300   \n",
       "26                 Belgium  2021-01-22 05:22:10  50.916700    4.583300   \n",
       "27                 Belgium  2021-01-22 05:22:10  50.525700    4.062100   \n",
       "28                 Belgium  2021-01-22 05:22:10  50.449600    5.849200   \n",
       "29                 Belgium  2021-01-22 05:22:10  50.973900    5.342000   \n",
       "...                    ...                  ...        ...         ...   \n",
       "3957        United Kingdom  2021-01-22 05:22:10  18.420700  -64.640000   \n",
       "3958        United Kingdom  2021-01-22 05:22:10  19.313300  -81.254600   \n",
       "3959        United Kingdom  2021-01-22 05:22:10  49.372300   -2.364400   \n",
       "3960        United Kingdom  2021-01-22 05:22:10  52.355500   -1.174300   \n",
       "3961        United Kingdom  2021-01-22 05:22:10 -51.796300  -59.523600   \n",
       "3962        United Kingdom  2021-01-22 05:22:10  36.140800   -5.353600   \n",
       "3963        United Kingdom  2021-01-22 05:22:10  54.236100   -4.548100   \n",
       "3964        United Kingdom  2021-01-22 05:22:10  16.742498  -62.187366   \n",
       "3965        United Kingdom  2021-01-22 05:22:10  54.787700   -6.492300   \n",
       "3966        United Kingdom  2021-01-22 05:22:10  -7.946700  -14.355900   \n",
       "3967        United Kingdom  2021-01-22 05:22:10  56.490700   -4.202600   \n",
       "3968        United Kingdom  2021-01-22 05:22:10  21.694000  -71.797900   \n",
       "3969        United Kingdom  2021-01-22 05:22:10        NaN         NaN   \n",
       "3970        United Kingdom  2021-01-22 05:22:10  52.130700   -3.783700   \n",
       "3971               Uruguay  2021-01-22 05:22:10 -32.522800  -55.765800   \n",
       "3972            Uzbekistan  2021-01-22 05:22:10  41.377491   64.585262   \n",
       "3973               Vanuatu  2021-01-22 05:22:10 -15.376700  166.959200   \n",
       "3974             Venezuela  2021-01-22 05:22:10   6.423800  -66.589700   \n",
       "3975               Vietnam  2021-01-22 05:22:10  14.058324  108.277199   \n",
       "3976    West Bank and Gaza  2021-01-22 05:22:10  31.952200   35.233200   \n",
       "3977                 Yemen  2021-01-22 05:22:10  15.552727   48.516388   \n",
       "3978                Zambia  2021-01-22 05:22:10 -13.133897   27.849332   \n",
       "3979              Zimbabwe  2021-01-22 05:22:10 -19.015438   29.154857   \n",
       "3980                    US  2021-04-02 15:13:53  60.388600 -162.890520   \n",
       "3981                    US  2021-04-02 15:13:53  61.166660 -149.900000   \n",
       "3982                 China  2021-01-22 05:22:10        NaN         NaN   \n",
       "3983              Kiribati  2021-01-22 05:22:10  -3.370400 -168.734000   \n",
       "3984                 Palau  2021-01-22 05:22:10   7.515000  134.582500   \n",
       "3985           New Zealand  2021-01-22 05:22:10 -21.236700 -159.777700   \n",
       "3986  Summer Olympics 2020  2021-01-22 05:22:10  35.649100  139.773700   \n",
       "\n",
       "      Confirmed  Deaths  Recovered     Active  \\\n",
       "0         54403    2363      46887     5153.0   \n",
       "1         69916    1296      42426    26194.0   \n",
       "2        104852    2853      71343    30656.0   \n",
       "3          9379      93       8474      812.0   \n",
       "4         19177     448      17176     1553.0   \n",
       "5           192       6        162       24.0   \n",
       "6       1843077   46355    1625755   170967.0   \n",
       "7        165528    3021     154046     8461.0   \n",
       "8           118       3        115        0.0   \n",
       "9          5083      54          0     1793.0   \n",
       "10           97       0         89        8.0   \n",
       "11         1303       6       1261       36.0   \n",
       "12          596       4        587        5.0   \n",
       "13          234      13        221        0.0   \n",
       "14        20434     820      19583       31.0   \n",
       "15          890       9        869       12.0   \n",
       "16       399798    7288     376360    16150.0   \n",
       "17       228246    3053     218387     6806.0   \n",
       "18         8088     175       6720     1193.0   \n",
       "19        98878     366      95594     2918.0   \n",
       "20       530271    7966     475074    47231.0   \n",
       "21         1156       9        493      654.0   \n",
       "22       232298    1619     216744    13935.0   \n",
       "23        85350       0          0    85350.0   \n",
       "24        86009       0          0    86009.0   \n",
       "25        70572       0          0    70572.0   \n",
       "26        52263       0          0    52263.0   \n",
       "27       106426       0          0   106426.0   \n",
       "28        99865       0          0    99865.0   \n",
       "29        32390       0          0    32390.0   \n",
       "...         ...     ...        ...        ...   \n",
       "3957        114       1         95       18.0   \n",
       "3958        382       2        346       34.0   \n",
       "3959       3407      78       3148      181.0   \n",
       "3960    3092041   82939          0  3009102.0   \n",
       "3961         35       0         29        6.0   \n",
       "3962       3881      59       3033      789.0   \n",
       "3963        432      25        357       50.0   \n",
       "3964         13       1         12        0.0   \n",
       "3965      98351    1692          0    96659.0   \n",
       "3966          4       0          4        0.0   \n",
       "3967     168219    5557          0   162662.0   \n",
       "3968       1164       7        935      222.0   \n",
       "3969          0       0          0        0.0   \n",
       "3970     185035    4392          0   180643.0   \n",
       "3971      34992     347      26927     7718.0   \n",
       "3972      78219     620      76655      944.0   \n",
       "3973          1       0          1        0.0   \n",
       "3974     122260    1129     114299     6832.0   \n",
       "3975       1546      35       1411      100.0   \n",
       "3976     154063    1757     142819     9487.0   \n",
       "3977       2115     614       1423       78.0   \n",
       "3978      42213     597      31522    10094.0   \n",
       "3979      30047     917      19569     9561.0   \n",
       "3980        177       0          0        0.0   \n",
       "3981        248       3          0        0.0   \n",
       "3982          0       0          0        0.0   \n",
       "3983          0       0          0        0.0   \n",
       "3984          0       0          0        0.0   \n",
       "3985          0       0          0        0.0   \n",
       "3986          0       0          0        0.0   \n",
       "\n",
       "                                           Combined_Key  Incident_Rate  \\\n",
       "0                                           Afghanistan     139.751653   \n",
       "1                                               Albania    2429.494753   \n",
       "2                                               Algeria     239.109478   \n",
       "3                                               Andorra   12138.743286   \n",
       "4                                                Angola      58.348578   \n",
       "5                                   Antigua and Barbuda     196.062413   \n",
       "6                                             Argentina    4077.984985   \n",
       "7                                               Armenia    5586.059015   \n",
       "8               Australian Capital Territory, Australia      27.563653   \n",
       "9                            New South Wales, Australia      62.613944   \n",
       "10                        Northern Territory, Australia      39.495114   \n",
       "11                                Queensland, Australia      25.471606   \n",
       "12                           South Australia, Australia      33.931113   \n",
       "13                                  Tasmania, Australia      43.697479   \n",
       "14                                  Victoria, Australia     308.209777   \n",
       "15                         Western Australia, Australia      33.832586   \n",
       "16                                              Austria    4439.043347   \n",
       "17                                           Azerbaijan    2251.129900   \n",
       "18                                              Bahamas    2056.717390   \n",
       "19                                              Bahrain    5810.941929   \n",
       "20                                           Bangladesh     321.982504   \n",
       "21                                             Barbados     402.267452   \n",
       "22                                              Belarus    2458.356532   \n",
       "23                                     Antwerp, Belgium    4593.683698   \n",
       "24                                    Brussels, Belgium    7116.757217   \n",
       "25                               East Flanders, Belgium    4658.021047   \n",
       "26                             Flemish Brabant, Belgium    4559.774903   \n",
       "27                                     Hainaut, Belgium    7917.181517   \n",
       "28                                       Liege, Belgium    9021.293740   \n",
       "29                                     Limburg, Belgium    3705.746138   \n",
       "...                                                 ...            ...   \n",
       "3957             British Virgin Islands, United Kingdom     377.021530   \n",
       "3958                     Cayman Islands, United Kingdom     581.253804   \n",
       "3959                    Channel Islands, United Kingdom    1998.252189   \n",
       "3960                            England, United Kingdom    5523.750741   \n",
       "3961        Falkland Islands (Malvinas), United Kingdom    1004.880850   \n",
       "3962                          Gibraltar, United Kingdom   11519.396872   \n",
       "3963                        Isle of Man, United Kingdom     508.044030   \n",
       "3964                         Montserrat, United Kingdom     260.052010   \n",
       "3965                   Northern Ireland, United Kingdom    5226.987670   \n",
       "3966  Saint Helena, Ascension and Tristan da Cunha, ...            NaN   \n",
       "3967                           Scotland, United Kingdom    3079.073088   \n",
       "3968           Turks and Caicos Islands, United Kingdom    3006.353634   \n",
       "3969                            Unknown, United Kingdom            NaN   \n",
       "3970                              Wales, United Kingdom    5895.462945   \n",
       "3971                                            Uruguay    1007.333046   \n",
       "3972                                         Uzbekistan     233.704428   \n",
       "3973                                            Vanuatu       0.341670   \n",
       "3974                                          Venezuela     429.948815   \n",
       "3975                                            Vietnam       1.588271   \n",
       "3976                                 West Bank and Gaza    3020.004642   \n",
       "3977                                              Yemen       7.091136   \n",
       "3978                                             Zambia     229.618696   \n",
       "3979                                           Zimbabwe     202.160718   \n",
       "3980                           Copper River, Alaska, US            NaN   \n",
       "3981                                Chugach, Alaska, US            NaN   \n",
       "3982                                     Unknown, China       0.000000   \n",
       "3983                                           Kiribati       0.000000   \n",
       "3984                                              Palau       0.000000   \n",
       "3985                          Cook Islands, New Zealand       0.000000   \n",
       "3986                               Summer Olympics 2020       0.000000   \n",
       "\n",
       "      Case_Fatality_Ratio  \n",
       "0                4.343510  \n",
       "1                1.853653  \n",
       "2                2.720978  \n",
       "3                0.991577  \n",
       "4                2.336132  \n",
       "5                3.125000  \n",
       "6                2.515088  \n",
       "7                1.825069  \n",
       "8                2.542373  \n",
       "9                1.062365  \n",
       "10               0.000000  \n",
       "11               0.460476  \n",
       "12               0.671141  \n",
       "13               5.555556  \n",
       "14               4.012920  \n",
       "15               1.011236  \n",
       "16               1.822921  \n",
       "17               1.337592  \n",
       "18               2.163699  \n",
       "19               0.370153  \n",
       "20               1.502251  \n",
       "21               0.778547  \n",
       "22               0.696950  \n",
       "23               0.000000  \n",
       "24               0.000000  \n",
       "25               0.000000  \n",
       "26               0.000000  \n",
       "27               0.000000  \n",
       "28               0.000000  \n",
       "29               0.000000  \n",
       "...                   ...  \n",
       "3957             0.877193  \n",
       "3958             0.523560  \n",
       "3959             2.289404  \n",
       "3960             2.682338  \n",
       "3961             0.000000  \n",
       "3962             1.520227  \n",
       "3963             5.787037  \n",
       "3964             7.692308  \n",
       "3965             1.720369  \n",
       "3966                  NaN  \n",
       "3967             3.303432  \n",
       "3968             0.601375  \n",
       "3969                  NaN  \n",
       "3970             2.373605  \n",
       "3971             0.991655  \n",
       "3972             0.792646  \n",
       "3973             0.000000  \n",
       "3974             0.923442  \n",
       "3975             2.263907  \n",
       "3976             1.140443  \n",
       "3977            29.030733  \n",
       "3978             1.414256  \n",
       "3979             3.051885  \n",
       "3980                  NaN  \n",
       "3981                  NaN  \n",
       "3982             0.000000  \n",
       "3983             0.000000  \n",
       "3984             0.000000  \n",
       "3985             0.000000  \n",
       "3986             0.000000  \n",
       "\n",
       "[3987 rows x 14 columns]"
      ]
     },
     "execution_count": 95,
     "metadata": {},
     "output_type": "execute_result"
    }
   ],
   "source": [
    "import pandas as pd\n",
    "import numpy as np\n",
    "import matplotlib.pyplot as plt\n",
    "from collections import Counter\n",
    "\n",
    "# set this so the \n",
    "%matplotlib inline\n",
    "\n",
    "\n",
    "data = pd.read_csv('https://raw.githubusercontent.com/CSSEGISandData/COVID-19/master/csse_covid_19_data/csse_covid_19_daily_reports/01-21-2021.csv')\n",
    "data\n"
   ]
  },
  {
   "cell_type": "markdown",
   "metadata": {},
   "source": [
    "#### Display the top 5 rows in the data"
   ]
  },
  {
   "cell_type": "code",
   "execution_count": 24,
   "metadata": {},
   "outputs": [
    {
     "data": {
      "text/html": [
       "<div>\n",
       "<style scoped>\n",
       "    .dataframe tbody tr th:only-of-type {\n",
       "        vertical-align: middle;\n",
       "    }\n",
       "\n",
       "    .dataframe tbody tr th {\n",
       "        vertical-align: top;\n",
       "    }\n",
       "\n",
       "    .dataframe thead th {\n",
       "        text-align: right;\n",
       "    }\n",
       "</style>\n",
       "<table border=\"1\" class=\"dataframe\">\n",
       "  <thead>\n",
       "    <tr style=\"text-align: right;\">\n",
       "      <th></th>\n",
       "      <th>FIPS</th>\n",
       "      <th>Admin2</th>\n",
       "      <th>Province_State</th>\n",
       "      <th>Country_Region</th>\n",
       "      <th>Last_Update</th>\n",
       "      <th>Lat</th>\n",
       "      <th>Long_</th>\n",
       "      <th>Confirmed</th>\n",
       "      <th>Deaths</th>\n",
       "      <th>Recovered</th>\n",
       "      <th>Active</th>\n",
       "      <th>Combined_Key</th>\n",
       "      <th>Incident_Rate</th>\n",
       "      <th>Case_Fatality_Ratio</th>\n",
       "    </tr>\n",
       "  </thead>\n",
       "  <tbody>\n",
       "    <tr>\n",
       "      <th>0</th>\n",
       "      <td>NaN</td>\n",
       "      <td>NaN</td>\n",
       "      <td>NaN</td>\n",
       "      <td>Afghanistan</td>\n",
       "      <td>2021-01-22 05:22:10</td>\n",
       "      <td>33.93911</td>\n",
       "      <td>67.709953</td>\n",
       "      <td>54403</td>\n",
       "      <td>2363</td>\n",
       "      <td>46887</td>\n",
       "      <td>5153.0</td>\n",
       "      <td>Afghanistan</td>\n",
       "      <td>139.751653</td>\n",
       "      <td>4.343510</td>\n",
       "    </tr>\n",
       "    <tr>\n",
       "      <th>1</th>\n",
       "      <td>NaN</td>\n",
       "      <td>NaN</td>\n",
       "      <td>NaN</td>\n",
       "      <td>Albania</td>\n",
       "      <td>2021-01-22 05:22:10</td>\n",
       "      <td>41.15330</td>\n",
       "      <td>20.168300</td>\n",
       "      <td>69916</td>\n",
       "      <td>1296</td>\n",
       "      <td>42426</td>\n",
       "      <td>26194.0</td>\n",
       "      <td>Albania</td>\n",
       "      <td>2429.494753</td>\n",
       "      <td>1.853653</td>\n",
       "    </tr>\n",
       "    <tr>\n",
       "      <th>2</th>\n",
       "      <td>NaN</td>\n",
       "      <td>NaN</td>\n",
       "      <td>NaN</td>\n",
       "      <td>Algeria</td>\n",
       "      <td>2021-01-22 05:22:10</td>\n",
       "      <td>28.03390</td>\n",
       "      <td>1.659600</td>\n",
       "      <td>104852</td>\n",
       "      <td>2853</td>\n",
       "      <td>71343</td>\n",
       "      <td>30656.0</td>\n",
       "      <td>Algeria</td>\n",
       "      <td>239.109478</td>\n",
       "      <td>2.720978</td>\n",
       "    </tr>\n",
       "    <tr>\n",
       "      <th>3</th>\n",
       "      <td>NaN</td>\n",
       "      <td>NaN</td>\n",
       "      <td>NaN</td>\n",
       "      <td>Andorra</td>\n",
       "      <td>2021-01-22 05:22:10</td>\n",
       "      <td>42.50630</td>\n",
       "      <td>1.521800</td>\n",
       "      <td>9379</td>\n",
       "      <td>93</td>\n",
       "      <td>8474</td>\n",
       "      <td>812.0</td>\n",
       "      <td>Andorra</td>\n",
       "      <td>12138.743286</td>\n",
       "      <td>0.991577</td>\n",
       "    </tr>\n",
       "    <tr>\n",
       "      <th>4</th>\n",
       "      <td>NaN</td>\n",
       "      <td>NaN</td>\n",
       "      <td>NaN</td>\n",
       "      <td>Angola</td>\n",
       "      <td>2021-01-22 05:22:10</td>\n",
       "      <td>-11.20270</td>\n",
       "      <td>17.873900</td>\n",
       "      <td>19177</td>\n",
       "      <td>448</td>\n",
       "      <td>17176</td>\n",
       "      <td>1553.0</td>\n",
       "      <td>Angola</td>\n",
       "      <td>58.348578</td>\n",
       "      <td>2.336132</td>\n",
       "    </tr>\n",
       "  </tbody>\n",
       "</table>\n",
       "</div>"
      ],
      "text/plain": [
       "   FIPS Admin2 Province_State Country_Region          Last_Update       Lat  \\\n",
       "0   NaN    NaN            NaN    Afghanistan  2021-01-22 05:22:10  33.93911   \n",
       "1   NaN    NaN            NaN        Albania  2021-01-22 05:22:10  41.15330   \n",
       "2   NaN    NaN            NaN        Algeria  2021-01-22 05:22:10  28.03390   \n",
       "3   NaN    NaN            NaN        Andorra  2021-01-22 05:22:10  42.50630   \n",
       "4   NaN    NaN            NaN         Angola  2021-01-22 05:22:10 -11.20270   \n",
       "\n",
       "       Long_  Confirmed  Deaths  Recovered   Active Combined_Key  \\\n",
       "0  67.709953      54403    2363      46887   5153.0  Afghanistan   \n",
       "1  20.168300      69916    1296      42426  26194.0      Albania   \n",
       "2   1.659600     104852    2853      71343  30656.0      Algeria   \n",
       "3   1.521800       9379      93       8474    812.0      Andorra   \n",
       "4  17.873900      19177     448      17176   1553.0       Angola   \n",
       "\n",
       "   Incident_Rate  Case_Fatality_Ratio  \n",
       "0     139.751653             4.343510  \n",
       "1    2429.494753             1.853653  \n",
       "2     239.109478             2.720978  \n",
       "3   12138.743286             0.991577  \n",
       "4      58.348578             2.336132  "
      ]
     },
     "execution_count": 24,
     "metadata": {},
     "output_type": "execute_result"
    }
   ],
   "source": [
    "data.head(5)"
   ]
  },
  {
   "cell_type": "markdown",
   "metadata": {},
   "source": [
    "#### Show the information of the dataset"
   ]
  },
  {
   "cell_type": "code",
   "execution_count": 21,
   "metadata": {},
   "outputs": [
    {
     "name": "stdout",
     "output_type": "stream",
     "text": [
      "<class 'pandas.core.frame.DataFrame'>\n",
      "RangeIndex: 3987 entries, 0 to 3986\n",
      "Data columns (total 14 columns):\n",
      "FIPS                   3266 non-null float64\n",
      "Admin2                 3271 non-null object\n",
      "Province_State         3813 non-null object\n",
      "Country_Region         3987 non-null object\n",
      "Last_Update            3987 non-null object\n",
      "Lat                    3899 non-null float64\n",
      "Long_                  3899 non-null float64\n",
      "Confirmed              3987 non-null int64\n",
      "Deaths                 3987 non-null int64\n",
      "Recovered              3987 non-null int64\n",
      "Active                 3985 non-null float64\n",
      "Combined_Key           3987 non-null object\n",
      "Incident_Rate          3897 non-null float64\n",
      "Case_Fatality_Ratio    3944 non-null float64\n",
      "dtypes: float64(6), int64(3), object(5)\n",
      "memory usage: 436.2+ KB\n"
     ]
    }
   ],
   "source": [
    "data.info()"
   ]
  },
  {
   "cell_type": "markdown",
   "metadata": {},
   "source": [
    "#### Show the sum of missing values of features in the dataset"
   ]
  },
  {
   "cell_type": "code",
   "execution_count": 41,
   "metadata": {},
   "outputs": [
    {
     "data": {
      "text/plain": [
       "FIPS                   721\n",
       "Admin2                 716\n",
       "Province_State         174\n",
       "Country_Region           0\n",
       "Last_Update              0\n",
       "Lat                     88\n",
       "Long_                   88\n",
       "Confirmed                0\n",
       "Deaths                   0\n",
       "Recovered                0\n",
       "Active                   2\n",
       "Combined_Key             0\n",
       "Incident_Rate           90\n",
       "Case_Fatality_Ratio     43\n",
       "dtype: int64"
      ]
     },
     "execution_count": 41,
     "metadata": {},
     "output_type": "execute_result"
    }
   ],
   "source": [
    "len(data)\n",
    "data.count()\n",
    "count_nan = len(data) - data.count()\n",
    "count_nan"
   ]
  },
  {
   "cell_type": "markdown",
   "metadata": {},
   "source": [
    "### Question 2"
   ]
  },
  {
   "cell_type": "markdown",
   "metadata": {},
   "source": [
    "#### Show the number of Confirmed cases by Country"
   ]
  },
  {
   "cell_type": "code",
   "execution_count": 45,
   "metadata": {},
   "outputs": [
    {
     "data": {
      "text/html": [
       "<div>\n",
       "<style scoped>\n",
       "    .dataframe tbody tr th:only-of-type {\n",
       "        vertical-align: middle;\n",
       "    }\n",
       "\n",
       "    .dataframe tbody tr th {\n",
       "        vertical-align: top;\n",
       "    }\n",
       "\n",
       "    .dataframe thead th {\n",
       "        text-align: right;\n",
       "    }\n",
       "</style>\n",
       "<table border=\"1\" class=\"dataframe\">\n",
       "  <thead>\n",
       "    <tr style=\"text-align: right;\">\n",
       "      <th></th>\n",
       "      <th>Country_Region</th>\n",
       "      <th>Confirmed</th>\n",
       "    </tr>\n",
       "  </thead>\n",
       "  <tbody>\n",
       "    <tr>\n",
       "      <th>0</th>\n",
       "      <td>Afghanistan</td>\n",
       "      <td>54403</td>\n",
       "    </tr>\n",
       "    <tr>\n",
       "      <th>1</th>\n",
       "      <td>Albania</td>\n",
       "      <td>69916</td>\n",
       "    </tr>\n",
       "    <tr>\n",
       "      <th>2</th>\n",
       "      <td>Algeria</td>\n",
       "      <td>104852</td>\n",
       "    </tr>\n",
       "    <tr>\n",
       "      <th>3</th>\n",
       "      <td>Andorra</td>\n",
       "      <td>9379</td>\n",
       "    </tr>\n",
       "    <tr>\n",
       "      <th>4</th>\n",
       "      <td>Angola</td>\n",
       "      <td>19177</td>\n",
       "    </tr>\n",
       "    <tr>\n",
       "      <th>5</th>\n",
       "      <td>Antigua and Barbuda</td>\n",
       "      <td>192</td>\n",
       "    </tr>\n",
       "    <tr>\n",
       "      <th>6</th>\n",
       "      <td>Argentina</td>\n",
       "      <td>1843077</td>\n",
       "    </tr>\n",
       "    <tr>\n",
       "      <th>7</th>\n",
       "      <td>Armenia</td>\n",
       "      <td>165528</td>\n",
       "    </tr>\n",
       "    <tr>\n",
       "      <th>8</th>\n",
       "      <td>Australia</td>\n",
       "      <td>118</td>\n",
       "    </tr>\n",
       "    <tr>\n",
       "      <th>9</th>\n",
       "      <td>Australia</td>\n",
       "      <td>5083</td>\n",
       "    </tr>\n",
       "    <tr>\n",
       "      <th>10</th>\n",
       "      <td>Australia</td>\n",
       "      <td>97</td>\n",
       "    </tr>\n",
       "    <tr>\n",
       "      <th>11</th>\n",
       "      <td>Australia</td>\n",
       "      <td>1303</td>\n",
       "    </tr>\n",
       "    <tr>\n",
       "      <th>12</th>\n",
       "      <td>Australia</td>\n",
       "      <td>596</td>\n",
       "    </tr>\n",
       "    <tr>\n",
       "      <th>13</th>\n",
       "      <td>Australia</td>\n",
       "      <td>234</td>\n",
       "    </tr>\n",
       "    <tr>\n",
       "      <th>14</th>\n",
       "      <td>Australia</td>\n",
       "      <td>20434</td>\n",
       "    </tr>\n",
       "    <tr>\n",
       "      <th>15</th>\n",
       "      <td>Australia</td>\n",
       "      <td>890</td>\n",
       "    </tr>\n",
       "    <tr>\n",
       "      <th>16</th>\n",
       "      <td>Austria</td>\n",
       "      <td>399798</td>\n",
       "    </tr>\n",
       "    <tr>\n",
       "      <th>17</th>\n",
       "      <td>Azerbaijan</td>\n",
       "      <td>228246</td>\n",
       "    </tr>\n",
       "    <tr>\n",
       "      <th>18</th>\n",
       "      <td>Bahamas</td>\n",
       "      <td>8088</td>\n",
       "    </tr>\n",
       "    <tr>\n",
       "      <th>19</th>\n",
       "      <td>Bahrain</td>\n",
       "      <td>98878</td>\n",
       "    </tr>\n",
       "    <tr>\n",
       "      <th>20</th>\n",
       "      <td>Bangladesh</td>\n",
       "      <td>530271</td>\n",
       "    </tr>\n",
       "    <tr>\n",
       "      <th>21</th>\n",
       "      <td>Barbados</td>\n",
       "      <td>1156</td>\n",
       "    </tr>\n",
       "    <tr>\n",
       "      <th>22</th>\n",
       "      <td>Belarus</td>\n",
       "      <td>232298</td>\n",
       "    </tr>\n",
       "    <tr>\n",
       "      <th>23</th>\n",
       "      <td>Belgium</td>\n",
       "      <td>85350</td>\n",
       "    </tr>\n",
       "    <tr>\n",
       "      <th>24</th>\n",
       "      <td>Belgium</td>\n",
       "      <td>86009</td>\n",
       "    </tr>\n",
       "    <tr>\n",
       "      <th>25</th>\n",
       "      <td>Belgium</td>\n",
       "      <td>70572</td>\n",
       "    </tr>\n",
       "    <tr>\n",
       "      <th>26</th>\n",
       "      <td>Belgium</td>\n",
       "      <td>52263</td>\n",
       "    </tr>\n",
       "    <tr>\n",
       "      <th>27</th>\n",
       "      <td>Belgium</td>\n",
       "      <td>106426</td>\n",
       "    </tr>\n",
       "    <tr>\n",
       "      <th>28</th>\n",
       "      <td>Belgium</td>\n",
       "      <td>99865</td>\n",
       "    </tr>\n",
       "    <tr>\n",
       "      <th>29</th>\n",
       "      <td>Belgium</td>\n",
       "      <td>32390</td>\n",
       "    </tr>\n",
       "    <tr>\n",
       "      <th>...</th>\n",
       "      <td>...</td>\n",
       "      <td>...</td>\n",
       "    </tr>\n",
       "    <tr>\n",
       "      <th>3957</th>\n",
       "      <td>United Kingdom</td>\n",
       "      <td>114</td>\n",
       "    </tr>\n",
       "    <tr>\n",
       "      <th>3958</th>\n",
       "      <td>United Kingdom</td>\n",
       "      <td>382</td>\n",
       "    </tr>\n",
       "    <tr>\n",
       "      <th>3959</th>\n",
       "      <td>United Kingdom</td>\n",
       "      <td>3407</td>\n",
       "    </tr>\n",
       "    <tr>\n",
       "      <th>3960</th>\n",
       "      <td>United Kingdom</td>\n",
       "      <td>3092041</td>\n",
       "    </tr>\n",
       "    <tr>\n",
       "      <th>3961</th>\n",
       "      <td>United Kingdom</td>\n",
       "      <td>35</td>\n",
       "    </tr>\n",
       "    <tr>\n",
       "      <th>3962</th>\n",
       "      <td>United Kingdom</td>\n",
       "      <td>3881</td>\n",
       "    </tr>\n",
       "    <tr>\n",
       "      <th>3963</th>\n",
       "      <td>United Kingdom</td>\n",
       "      <td>432</td>\n",
       "    </tr>\n",
       "    <tr>\n",
       "      <th>3964</th>\n",
       "      <td>United Kingdom</td>\n",
       "      <td>13</td>\n",
       "    </tr>\n",
       "    <tr>\n",
       "      <th>3965</th>\n",
       "      <td>United Kingdom</td>\n",
       "      <td>98351</td>\n",
       "    </tr>\n",
       "    <tr>\n",
       "      <th>3966</th>\n",
       "      <td>United Kingdom</td>\n",
       "      <td>4</td>\n",
       "    </tr>\n",
       "    <tr>\n",
       "      <th>3967</th>\n",
       "      <td>United Kingdom</td>\n",
       "      <td>168219</td>\n",
       "    </tr>\n",
       "    <tr>\n",
       "      <th>3968</th>\n",
       "      <td>United Kingdom</td>\n",
       "      <td>1164</td>\n",
       "    </tr>\n",
       "    <tr>\n",
       "      <th>3969</th>\n",
       "      <td>United Kingdom</td>\n",
       "      <td>0</td>\n",
       "    </tr>\n",
       "    <tr>\n",
       "      <th>3970</th>\n",
       "      <td>United Kingdom</td>\n",
       "      <td>185035</td>\n",
       "    </tr>\n",
       "    <tr>\n",
       "      <th>3971</th>\n",
       "      <td>Uruguay</td>\n",
       "      <td>34992</td>\n",
       "    </tr>\n",
       "    <tr>\n",
       "      <th>3972</th>\n",
       "      <td>Uzbekistan</td>\n",
       "      <td>78219</td>\n",
       "    </tr>\n",
       "    <tr>\n",
       "      <th>3973</th>\n",
       "      <td>Vanuatu</td>\n",
       "      <td>1</td>\n",
       "    </tr>\n",
       "    <tr>\n",
       "      <th>3974</th>\n",
       "      <td>Venezuela</td>\n",
       "      <td>122260</td>\n",
       "    </tr>\n",
       "    <tr>\n",
       "      <th>3975</th>\n",
       "      <td>Vietnam</td>\n",
       "      <td>1546</td>\n",
       "    </tr>\n",
       "    <tr>\n",
       "      <th>3976</th>\n",
       "      <td>West Bank and Gaza</td>\n",
       "      <td>154063</td>\n",
       "    </tr>\n",
       "    <tr>\n",
       "      <th>3977</th>\n",
       "      <td>Yemen</td>\n",
       "      <td>2115</td>\n",
       "    </tr>\n",
       "    <tr>\n",
       "      <th>3978</th>\n",
       "      <td>Zambia</td>\n",
       "      <td>42213</td>\n",
       "    </tr>\n",
       "    <tr>\n",
       "      <th>3979</th>\n",
       "      <td>Zimbabwe</td>\n",
       "      <td>30047</td>\n",
       "    </tr>\n",
       "    <tr>\n",
       "      <th>3980</th>\n",
       "      <td>US</td>\n",
       "      <td>177</td>\n",
       "    </tr>\n",
       "    <tr>\n",
       "      <th>3981</th>\n",
       "      <td>US</td>\n",
       "      <td>248</td>\n",
       "    </tr>\n",
       "    <tr>\n",
       "      <th>3982</th>\n",
       "      <td>China</td>\n",
       "      <td>0</td>\n",
       "    </tr>\n",
       "    <tr>\n",
       "      <th>3983</th>\n",
       "      <td>Kiribati</td>\n",
       "      <td>0</td>\n",
       "    </tr>\n",
       "    <tr>\n",
       "      <th>3984</th>\n",
       "      <td>Palau</td>\n",
       "      <td>0</td>\n",
       "    </tr>\n",
       "    <tr>\n",
       "      <th>3985</th>\n",
       "      <td>New Zealand</td>\n",
       "      <td>0</td>\n",
       "    </tr>\n",
       "    <tr>\n",
       "      <th>3986</th>\n",
       "      <td>Summer Olympics 2020</td>\n",
       "      <td>0</td>\n",
       "    </tr>\n",
       "  </tbody>\n",
       "</table>\n",
       "<p>3987 rows × 2 columns</p>\n",
       "</div>"
      ],
      "text/plain": [
       "            Country_Region  Confirmed\n",
       "0              Afghanistan      54403\n",
       "1                  Albania      69916\n",
       "2                  Algeria     104852\n",
       "3                  Andorra       9379\n",
       "4                   Angola      19177\n",
       "5      Antigua and Barbuda        192\n",
       "6                Argentina    1843077\n",
       "7                  Armenia     165528\n",
       "8                Australia        118\n",
       "9                Australia       5083\n",
       "10               Australia         97\n",
       "11               Australia       1303\n",
       "12               Australia        596\n",
       "13               Australia        234\n",
       "14               Australia      20434\n",
       "15               Australia        890\n",
       "16                 Austria     399798\n",
       "17              Azerbaijan     228246\n",
       "18                 Bahamas       8088\n",
       "19                 Bahrain      98878\n",
       "20              Bangladesh     530271\n",
       "21                Barbados       1156\n",
       "22                 Belarus     232298\n",
       "23                 Belgium      85350\n",
       "24                 Belgium      86009\n",
       "25                 Belgium      70572\n",
       "26                 Belgium      52263\n",
       "27                 Belgium     106426\n",
       "28                 Belgium      99865\n",
       "29                 Belgium      32390\n",
       "...                    ...        ...\n",
       "3957        United Kingdom        114\n",
       "3958        United Kingdom        382\n",
       "3959        United Kingdom       3407\n",
       "3960        United Kingdom    3092041\n",
       "3961        United Kingdom         35\n",
       "3962        United Kingdom       3881\n",
       "3963        United Kingdom        432\n",
       "3964        United Kingdom         13\n",
       "3965        United Kingdom      98351\n",
       "3966        United Kingdom          4\n",
       "3967        United Kingdom     168219\n",
       "3968        United Kingdom       1164\n",
       "3969        United Kingdom          0\n",
       "3970        United Kingdom     185035\n",
       "3971               Uruguay      34992\n",
       "3972            Uzbekistan      78219\n",
       "3973               Vanuatu          1\n",
       "3974             Venezuela     122260\n",
       "3975               Vietnam       1546\n",
       "3976    West Bank and Gaza     154063\n",
       "3977                 Yemen       2115\n",
       "3978                Zambia      42213\n",
       "3979              Zimbabwe      30047\n",
       "3980                    US        177\n",
       "3981                    US        248\n",
       "3982                 China          0\n",
       "3983              Kiribati          0\n",
       "3984                 Palau          0\n",
       "3985           New Zealand          0\n",
       "3986  Summer Olympics 2020          0\n",
       "\n",
       "[3987 rows x 2 columns]"
      ]
     },
     "execution_count": 45,
     "metadata": {},
     "output_type": "execute_result"
    }
   ],
   "source": [
    "data[['Country_Region', 'Confirmed']]\n"
   ]
  },
  {
   "cell_type": "markdown",
   "metadata": {},
   "source": [
    "#### Show the number of Deaths by Country"
   ]
  },
  {
   "cell_type": "code",
   "execution_count": 44,
   "metadata": {},
   "outputs": [
    {
     "data": {
      "text/html": [
       "<div>\n",
       "<style scoped>\n",
       "    .dataframe tbody tr th:only-of-type {\n",
       "        vertical-align: middle;\n",
       "    }\n",
       "\n",
       "    .dataframe tbody tr th {\n",
       "        vertical-align: top;\n",
       "    }\n",
       "\n",
       "    .dataframe thead th {\n",
       "        text-align: right;\n",
       "    }\n",
       "</style>\n",
       "<table border=\"1\" class=\"dataframe\">\n",
       "  <thead>\n",
       "    <tr style=\"text-align: right;\">\n",
       "      <th></th>\n",
       "      <th>Country_Region</th>\n",
       "      <th>Deaths</th>\n",
       "    </tr>\n",
       "  </thead>\n",
       "  <tbody>\n",
       "    <tr>\n",
       "      <th>0</th>\n",
       "      <td>Afghanistan</td>\n",
       "      <td>2363</td>\n",
       "    </tr>\n",
       "    <tr>\n",
       "      <th>1</th>\n",
       "      <td>Albania</td>\n",
       "      <td>1296</td>\n",
       "    </tr>\n",
       "    <tr>\n",
       "      <th>2</th>\n",
       "      <td>Algeria</td>\n",
       "      <td>2853</td>\n",
       "    </tr>\n",
       "    <tr>\n",
       "      <th>3</th>\n",
       "      <td>Andorra</td>\n",
       "      <td>93</td>\n",
       "    </tr>\n",
       "    <tr>\n",
       "      <th>4</th>\n",
       "      <td>Angola</td>\n",
       "      <td>448</td>\n",
       "    </tr>\n",
       "    <tr>\n",
       "      <th>5</th>\n",
       "      <td>Antigua and Barbuda</td>\n",
       "      <td>6</td>\n",
       "    </tr>\n",
       "    <tr>\n",
       "      <th>6</th>\n",
       "      <td>Argentina</td>\n",
       "      <td>46355</td>\n",
       "    </tr>\n",
       "    <tr>\n",
       "      <th>7</th>\n",
       "      <td>Armenia</td>\n",
       "      <td>3021</td>\n",
       "    </tr>\n",
       "    <tr>\n",
       "      <th>8</th>\n",
       "      <td>Australia</td>\n",
       "      <td>3</td>\n",
       "    </tr>\n",
       "    <tr>\n",
       "      <th>9</th>\n",
       "      <td>Australia</td>\n",
       "      <td>54</td>\n",
       "    </tr>\n",
       "    <tr>\n",
       "      <th>10</th>\n",
       "      <td>Australia</td>\n",
       "      <td>0</td>\n",
       "    </tr>\n",
       "    <tr>\n",
       "      <th>11</th>\n",
       "      <td>Australia</td>\n",
       "      <td>6</td>\n",
       "    </tr>\n",
       "    <tr>\n",
       "      <th>12</th>\n",
       "      <td>Australia</td>\n",
       "      <td>4</td>\n",
       "    </tr>\n",
       "    <tr>\n",
       "      <th>13</th>\n",
       "      <td>Australia</td>\n",
       "      <td>13</td>\n",
       "    </tr>\n",
       "    <tr>\n",
       "      <th>14</th>\n",
       "      <td>Australia</td>\n",
       "      <td>820</td>\n",
       "    </tr>\n",
       "    <tr>\n",
       "      <th>15</th>\n",
       "      <td>Australia</td>\n",
       "      <td>9</td>\n",
       "    </tr>\n",
       "    <tr>\n",
       "      <th>16</th>\n",
       "      <td>Austria</td>\n",
       "      <td>7288</td>\n",
       "    </tr>\n",
       "    <tr>\n",
       "      <th>17</th>\n",
       "      <td>Azerbaijan</td>\n",
       "      <td>3053</td>\n",
       "    </tr>\n",
       "    <tr>\n",
       "      <th>18</th>\n",
       "      <td>Bahamas</td>\n",
       "      <td>175</td>\n",
       "    </tr>\n",
       "    <tr>\n",
       "      <th>19</th>\n",
       "      <td>Bahrain</td>\n",
       "      <td>366</td>\n",
       "    </tr>\n",
       "    <tr>\n",
       "      <th>20</th>\n",
       "      <td>Bangladesh</td>\n",
       "      <td>7966</td>\n",
       "    </tr>\n",
       "    <tr>\n",
       "      <th>21</th>\n",
       "      <td>Barbados</td>\n",
       "      <td>9</td>\n",
       "    </tr>\n",
       "    <tr>\n",
       "      <th>22</th>\n",
       "      <td>Belarus</td>\n",
       "      <td>1619</td>\n",
       "    </tr>\n",
       "    <tr>\n",
       "      <th>23</th>\n",
       "      <td>Belgium</td>\n",
       "      <td>0</td>\n",
       "    </tr>\n",
       "    <tr>\n",
       "      <th>24</th>\n",
       "      <td>Belgium</td>\n",
       "      <td>0</td>\n",
       "    </tr>\n",
       "    <tr>\n",
       "      <th>25</th>\n",
       "      <td>Belgium</td>\n",
       "      <td>0</td>\n",
       "    </tr>\n",
       "    <tr>\n",
       "      <th>26</th>\n",
       "      <td>Belgium</td>\n",
       "      <td>0</td>\n",
       "    </tr>\n",
       "    <tr>\n",
       "      <th>27</th>\n",
       "      <td>Belgium</td>\n",
       "      <td>0</td>\n",
       "    </tr>\n",
       "    <tr>\n",
       "      <th>28</th>\n",
       "      <td>Belgium</td>\n",
       "      <td>0</td>\n",
       "    </tr>\n",
       "    <tr>\n",
       "      <th>29</th>\n",
       "      <td>Belgium</td>\n",
       "      <td>0</td>\n",
       "    </tr>\n",
       "    <tr>\n",
       "      <th>...</th>\n",
       "      <td>...</td>\n",
       "      <td>...</td>\n",
       "    </tr>\n",
       "    <tr>\n",
       "      <th>3957</th>\n",
       "      <td>United Kingdom</td>\n",
       "      <td>1</td>\n",
       "    </tr>\n",
       "    <tr>\n",
       "      <th>3958</th>\n",
       "      <td>United Kingdom</td>\n",
       "      <td>2</td>\n",
       "    </tr>\n",
       "    <tr>\n",
       "      <th>3959</th>\n",
       "      <td>United Kingdom</td>\n",
       "      <td>78</td>\n",
       "    </tr>\n",
       "    <tr>\n",
       "      <th>3960</th>\n",
       "      <td>United Kingdom</td>\n",
       "      <td>82939</td>\n",
       "    </tr>\n",
       "    <tr>\n",
       "      <th>3961</th>\n",
       "      <td>United Kingdom</td>\n",
       "      <td>0</td>\n",
       "    </tr>\n",
       "    <tr>\n",
       "      <th>3962</th>\n",
       "      <td>United Kingdom</td>\n",
       "      <td>59</td>\n",
       "    </tr>\n",
       "    <tr>\n",
       "      <th>3963</th>\n",
       "      <td>United Kingdom</td>\n",
       "      <td>25</td>\n",
       "    </tr>\n",
       "    <tr>\n",
       "      <th>3964</th>\n",
       "      <td>United Kingdom</td>\n",
       "      <td>1</td>\n",
       "    </tr>\n",
       "    <tr>\n",
       "      <th>3965</th>\n",
       "      <td>United Kingdom</td>\n",
       "      <td>1692</td>\n",
       "    </tr>\n",
       "    <tr>\n",
       "      <th>3966</th>\n",
       "      <td>United Kingdom</td>\n",
       "      <td>0</td>\n",
       "    </tr>\n",
       "    <tr>\n",
       "      <th>3967</th>\n",
       "      <td>United Kingdom</td>\n",
       "      <td>5557</td>\n",
       "    </tr>\n",
       "    <tr>\n",
       "      <th>3968</th>\n",
       "      <td>United Kingdom</td>\n",
       "      <td>7</td>\n",
       "    </tr>\n",
       "    <tr>\n",
       "      <th>3969</th>\n",
       "      <td>United Kingdom</td>\n",
       "      <td>0</td>\n",
       "    </tr>\n",
       "    <tr>\n",
       "      <th>3970</th>\n",
       "      <td>United Kingdom</td>\n",
       "      <td>4392</td>\n",
       "    </tr>\n",
       "    <tr>\n",
       "      <th>3971</th>\n",
       "      <td>Uruguay</td>\n",
       "      <td>347</td>\n",
       "    </tr>\n",
       "    <tr>\n",
       "      <th>3972</th>\n",
       "      <td>Uzbekistan</td>\n",
       "      <td>620</td>\n",
       "    </tr>\n",
       "    <tr>\n",
       "      <th>3973</th>\n",
       "      <td>Vanuatu</td>\n",
       "      <td>0</td>\n",
       "    </tr>\n",
       "    <tr>\n",
       "      <th>3974</th>\n",
       "      <td>Venezuela</td>\n",
       "      <td>1129</td>\n",
       "    </tr>\n",
       "    <tr>\n",
       "      <th>3975</th>\n",
       "      <td>Vietnam</td>\n",
       "      <td>35</td>\n",
       "    </tr>\n",
       "    <tr>\n",
       "      <th>3976</th>\n",
       "      <td>West Bank and Gaza</td>\n",
       "      <td>1757</td>\n",
       "    </tr>\n",
       "    <tr>\n",
       "      <th>3977</th>\n",
       "      <td>Yemen</td>\n",
       "      <td>614</td>\n",
       "    </tr>\n",
       "    <tr>\n",
       "      <th>3978</th>\n",
       "      <td>Zambia</td>\n",
       "      <td>597</td>\n",
       "    </tr>\n",
       "    <tr>\n",
       "      <th>3979</th>\n",
       "      <td>Zimbabwe</td>\n",
       "      <td>917</td>\n",
       "    </tr>\n",
       "    <tr>\n",
       "      <th>3980</th>\n",
       "      <td>US</td>\n",
       "      <td>0</td>\n",
       "    </tr>\n",
       "    <tr>\n",
       "      <th>3981</th>\n",
       "      <td>US</td>\n",
       "      <td>3</td>\n",
       "    </tr>\n",
       "    <tr>\n",
       "      <th>3982</th>\n",
       "      <td>China</td>\n",
       "      <td>0</td>\n",
       "    </tr>\n",
       "    <tr>\n",
       "      <th>3983</th>\n",
       "      <td>Kiribati</td>\n",
       "      <td>0</td>\n",
       "    </tr>\n",
       "    <tr>\n",
       "      <th>3984</th>\n",
       "      <td>Palau</td>\n",
       "      <td>0</td>\n",
       "    </tr>\n",
       "    <tr>\n",
       "      <th>3985</th>\n",
       "      <td>New Zealand</td>\n",
       "      <td>0</td>\n",
       "    </tr>\n",
       "    <tr>\n",
       "      <th>3986</th>\n",
       "      <td>Summer Olympics 2020</td>\n",
       "      <td>0</td>\n",
       "    </tr>\n",
       "  </tbody>\n",
       "</table>\n",
       "<p>3987 rows × 2 columns</p>\n",
       "</div>"
      ],
      "text/plain": [
       "            Country_Region  Deaths\n",
       "0              Afghanistan    2363\n",
       "1                  Albania    1296\n",
       "2                  Algeria    2853\n",
       "3                  Andorra      93\n",
       "4                   Angola     448\n",
       "5      Antigua and Barbuda       6\n",
       "6                Argentina   46355\n",
       "7                  Armenia    3021\n",
       "8                Australia       3\n",
       "9                Australia      54\n",
       "10               Australia       0\n",
       "11               Australia       6\n",
       "12               Australia       4\n",
       "13               Australia      13\n",
       "14               Australia     820\n",
       "15               Australia       9\n",
       "16                 Austria    7288\n",
       "17              Azerbaijan    3053\n",
       "18                 Bahamas     175\n",
       "19                 Bahrain     366\n",
       "20              Bangladesh    7966\n",
       "21                Barbados       9\n",
       "22                 Belarus    1619\n",
       "23                 Belgium       0\n",
       "24                 Belgium       0\n",
       "25                 Belgium       0\n",
       "26                 Belgium       0\n",
       "27                 Belgium       0\n",
       "28                 Belgium       0\n",
       "29                 Belgium       0\n",
       "...                    ...     ...\n",
       "3957        United Kingdom       1\n",
       "3958        United Kingdom       2\n",
       "3959        United Kingdom      78\n",
       "3960        United Kingdom   82939\n",
       "3961        United Kingdom       0\n",
       "3962        United Kingdom      59\n",
       "3963        United Kingdom      25\n",
       "3964        United Kingdom       1\n",
       "3965        United Kingdom    1692\n",
       "3966        United Kingdom       0\n",
       "3967        United Kingdom    5557\n",
       "3968        United Kingdom       7\n",
       "3969        United Kingdom       0\n",
       "3970        United Kingdom    4392\n",
       "3971               Uruguay     347\n",
       "3972            Uzbekistan     620\n",
       "3973               Vanuatu       0\n",
       "3974             Venezuela    1129\n",
       "3975               Vietnam      35\n",
       "3976    West Bank and Gaza    1757\n",
       "3977                 Yemen     614\n",
       "3978                Zambia     597\n",
       "3979              Zimbabwe     917\n",
       "3980                    US       0\n",
       "3981                    US       3\n",
       "3982                 China       0\n",
       "3983              Kiribati       0\n",
       "3984                 Palau       0\n",
       "3985           New Zealand       0\n",
       "3986  Summer Olympics 2020       0\n",
       "\n",
       "[3987 rows x 2 columns]"
      ]
     },
     "execution_count": 44,
     "metadata": {},
     "output_type": "execute_result"
    }
   ],
   "source": [
    "data[['Country_Region', 'Deaths']]\n"
   ]
  },
  {
   "cell_type": "markdown",
   "metadata": {},
   "source": [
    "#### Show the number of Recovered cases by Country"
   ]
  },
  {
   "cell_type": "code",
   "execution_count": 47,
   "metadata": {},
   "outputs": [
    {
     "data": {
      "text/html": [
       "<div>\n",
       "<style scoped>\n",
       "    .dataframe tbody tr th:only-of-type {\n",
       "        vertical-align: middle;\n",
       "    }\n",
       "\n",
       "    .dataframe tbody tr th {\n",
       "        vertical-align: top;\n",
       "    }\n",
       "\n",
       "    .dataframe thead th {\n",
       "        text-align: right;\n",
       "    }\n",
       "</style>\n",
       "<table border=\"1\" class=\"dataframe\">\n",
       "  <thead>\n",
       "    <tr style=\"text-align: right;\">\n",
       "      <th></th>\n",
       "      <th>Country_Region</th>\n",
       "      <th>Recovered</th>\n",
       "    </tr>\n",
       "  </thead>\n",
       "  <tbody>\n",
       "    <tr>\n",
       "      <th>0</th>\n",
       "      <td>Afghanistan</td>\n",
       "      <td>46887</td>\n",
       "    </tr>\n",
       "    <tr>\n",
       "      <th>1</th>\n",
       "      <td>Albania</td>\n",
       "      <td>42426</td>\n",
       "    </tr>\n",
       "    <tr>\n",
       "      <th>2</th>\n",
       "      <td>Algeria</td>\n",
       "      <td>71343</td>\n",
       "    </tr>\n",
       "    <tr>\n",
       "      <th>3</th>\n",
       "      <td>Andorra</td>\n",
       "      <td>8474</td>\n",
       "    </tr>\n",
       "    <tr>\n",
       "      <th>4</th>\n",
       "      <td>Angola</td>\n",
       "      <td>17176</td>\n",
       "    </tr>\n",
       "    <tr>\n",
       "      <th>5</th>\n",
       "      <td>Antigua and Barbuda</td>\n",
       "      <td>162</td>\n",
       "    </tr>\n",
       "    <tr>\n",
       "      <th>6</th>\n",
       "      <td>Argentina</td>\n",
       "      <td>1625755</td>\n",
       "    </tr>\n",
       "    <tr>\n",
       "      <th>7</th>\n",
       "      <td>Armenia</td>\n",
       "      <td>154046</td>\n",
       "    </tr>\n",
       "    <tr>\n",
       "      <th>8</th>\n",
       "      <td>Australia</td>\n",
       "      <td>115</td>\n",
       "    </tr>\n",
       "    <tr>\n",
       "      <th>9</th>\n",
       "      <td>Australia</td>\n",
       "      <td>0</td>\n",
       "    </tr>\n",
       "    <tr>\n",
       "      <th>10</th>\n",
       "      <td>Australia</td>\n",
       "      <td>89</td>\n",
       "    </tr>\n",
       "    <tr>\n",
       "      <th>11</th>\n",
       "      <td>Australia</td>\n",
       "      <td>1261</td>\n",
       "    </tr>\n",
       "    <tr>\n",
       "      <th>12</th>\n",
       "      <td>Australia</td>\n",
       "      <td>587</td>\n",
       "    </tr>\n",
       "    <tr>\n",
       "      <th>13</th>\n",
       "      <td>Australia</td>\n",
       "      <td>221</td>\n",
       "    </tr>\n",
       "    <tr>\n",
       "      <th>14</th>\n",
       "      <td>Australia</td>\n",
       "      <td>19583</td>\n",
       "    </tr>\n",
       "    <tr>\n",
       "      <th>15</th>\n",
       "      <td>Australia</td>\n",
       "      <td>869</td>\n",
       "    </tr>\n",
       "    <tr>\n",
       "      <th>16</th>\n",
       "      <td>Austria</td>\n",
       "      <td>376360</td>\n",
       "    </tr>\n",
       "    <tr>\n",
       "      <th>17</th>\n",
       "      <td>Azerbaijan</td>\n",
       "      <td>218387</td>\n",
       "    </tr>\n",
       "    <tr>\n",
       "      <th>18</th>\n",
       "      <td>Bahamas</td>\n",
       "      <td>6720</td>\n",
       "    </tr>\n",
       "    <tr>\n",
       "      <th>19</th>\n",
       "      <td>Bahrain</td>\n",
       "      <td>95594</td>\n",
       "    </tr>\n",
       "    <tr>\n",
       "      <th>20</th>\n",
       "      <td>Bangladesh</td>\n",
       "      <td>475074</td>\n",
       "    </tr>\n",
       "    <tr>\n",
       "      <th>21</th>\n",
       "      <td>Barbados</td>\n",
       "      <td>493</td>\n",
       "    </tr>\n",
       "    <tr>\n",
       "      <th>22</th>\n",
       "      <td>Belarus</td>\n",
       "      <td>216744</td>\n",
       "    </tr>\n",
       "    <tr>\n",
       "      <th>23</th>\n",
       "      <td>Belgium</td>\n",
       "      <td>0</td>\n",
       "    </tr>\n",
       "    <tr>\n",
       "      <th>24</th>\n",
       "      <td>Belgium</td>\n",
       "      <td>0</td>\n",
       "    </tr>\n",
       "    <tr>\n",
       "      <th>25</th>\n",
       "      <td>Belgium</td>\n",
       "      <td>0</td>\n",
       "    </tr>\n",
       "    <tr>\n",
       "      <th>26</th>\n",
       "      <td>Belgium</td>\n",
       "      <td>0</td>\n",
       "    </tr>\n",
       "    <tr>\n",
       "      <th>27</th>\n",
       "      <td>Belgium</td>\n",
       "      <td>0</td>\n",
       "    </tr>\n",
       "    <tr>\n",
       "      <th>28</th>\n",
       "      <td>Belgium</td>\n",
       "      <td>0</td>\n",
       "    </tr>\n",
       "    <tr>\n",
       "      <th>29</th>\n",
       "      <td>Belgium</td>\n",
       "      <td>0</td>\n",
       "    </tr>\n",
       "    <tr>\n",
       "      <th>...</th>\n",
       "      <td>...</td>\n",
       "      <td>...</td>\n",
       "    </tr>\n",
       "    <tr>\n",
       "      <th>3957</th>\n",
       "      <td>United Kingdom</td>\n",
       "      <td>95</td>\n",
       "    </tr>\n",
       "    <tr>\n",
       "      <th>3958</th>\n",
       "      <td>United Kingdom</td>\n",
       "      <td>346</td>\n",
       "    </tr>\n",
       "    <tr>\n",
       "      <th>3959</th>\n",
       "      <td>United Kingdom</td>\n",
       "      <td>3148</td>\n",
       "    </tr>\n",
       "    <tr>\n",
       "      <th>3960</th>\n",
       "      <td>United Kingdom</td>\n",
       "      <td>0</td>\n",
       "    </tr>\n",
       "    <tr>\n",
       "      <th>3961</th>\n",
       "      <td>United Kingdom</td>\n",
       "      <td>29</td>\n",
       "    </tr>\n",
       "    <tr>\n",
       "      <th>3962</th>\n",
       "      <td>United Kingdom</td>\n",
       "      <td>3033</td>\n",
       "    </tr>\n",
       "    <tr>\n",
       "      <th>3963</th>\n",
       "      <td>United Kingdom</td>\n",
       "      <td>357</td>\n",
       "    </tr>\n",
       "    <tr>\n",
       "      <th>3964</th>\n",
       "      <td>United Kingdom</td>\n",
       "      <td>12</td>\n",
       "    </tr>\n",
       "    <tr>\n",
       "      <th>3965</th>\n",
       "      <td>United Kingdom</td>\n",
       "      <td>0</td>\n",
       "    </tr>\n",
       "    <tr>\n",
       "      <th>3966</th>\n",
       "      <td>United Kingdom</td>\n",
       "      <td>4</td>\n",
       "    </tr>\n",
       "    <tr>\n",
       "      <th>3967</th>\n",
       "      <td>United Kingdom</td>\n",
       "      <td>0</td>\n",
       "    </tr>\n",
       "    <tr>\n",
       "      <th>3968</th>\n",
       "      <td>United Kingdom</td>\n",
       "      <td>935</td>\n",
       "    </tr>\n",
       "    <tr>\n",
       "      <th>3969</th>\n",
       "      <td>United Kingdom</td>\n",
       "      <td>0</td>\n",
       "    </tr>\n",
       "    <tr>\n",
       "      <th>3970</th>\n",
       "      <td>United Kingdom</td>\n",
       "      <td>0</td>\n",
       "    </tr>\n",
       "    <tr>\n",
       "      <th>3971</th>\n",
       "      <td>Uruguay</td>\n",
       "      <td>26927</td>\n",
       "    </tr>\n",
       "    <tr>\n",
       "      <th>3972</th>\n",
       "      <td>Uzbekistan</td>\n",
       "      <td>76655</td>\n",
       "    </tr>\n",
       "    <tr>\n",
       "      <th>3973</th>\n",
       "      <td>Vanuatu</td>\n",
       "      <td>1</td>\n",
       "    </tr>\n",
       "    <tr>\n",
       "      <th>3974</th>\n",
       "      <td>Venezuela</td>\n",
       "      <td>114299</td>\n",
       "    </tr>\n",
       "    <tr>\n",
       "      <th>3975</th>\n",
       "      <td>Vietnam</td>\n",
       "      <td>1411</td>\n",
       "    </tr>\n",
       "    <tr>\n",
       "      <th>3976</th>\n",
       "      <td>West Bank and Gaza</td>\n",
       "      <td>142819</td>\n",
       "    </tr>\n",
       "    <tr>\n",
       "      <th>3977</th>\n",
       "      <td>Yemen</td>\n",
       "      <td>1423</td>\n",
       "    </tr>\n",
       "    <tr>\n",
       "      <th>3978</th>\n",
       "      <td>Zambia</td>\n",
       "      <td>31522</td>\n",
       "    </tr>\n",
       "    <tr>\n",
       "      <th>3979</th>\n",
       "      <td>Zimbabwe</td>\n",
       "      <td>19569</td>\n",
       "    </tr>\n",
       "    <tr>\n",
       "      <th>3980</th>\n",
       "      <td>US</td>\n",
       "      <td>0</td>\n",
       "    </tr>\n",
       "    <tr>\n",
       "      <th>3981</th>\n",
       "      <td>US</td>\n",
       "      <td>0</td>\n",
       "    </tr>\n",
       "    <tr>\n",
       "      <th>3982</th>\n",
       "      <td>China</td>\n",
       "      <td>0</td>\n",
       "    </tr>\n",
       "    <tr>\n",
       "      <th>3983</th>\n",
       "      <td>Kiribati</td>\n",
       "      <td>0</td>\n",
       "    </tr>\n",
       "    <tr>\n",
       "      <th>3984</th>\n",
       "      <td>Palau</td>\n",
       "      <td>0</td>\n",
       "    </tr>\n",
       "    <tr>\n",
       "      <th>3985</th>\n",
       "      <td>New Zealand</td>\n",
       "      <td>0</td>\n",
       "    </tr>\n",
       "    <tr>\n",
       "      <th>3986</th>\n",
       "      <td>Summer Olympics 2020</td>\n",
       "      <td>0</td>\n",
       "    </tr>\n",
       "  </tbody>\n",
       "</table>\n",
       "<p>3987 rows × 2 columns</p>\n",
       "</div>"
      ],
      "text/plain": [
       "            Country_Region  Recovered\n",
       "0              Afghanistan      46887\n",
       "1                  Albania      42426\n",
       "2                  Algeria      71343\n",
       "3                  Andorra       8474\n",
       "4                   Angola      17176\n",
       "5      Antigua and Barbuda        162\n",
       "6                Argentina    1625755\n",
       "7                  Armenia     154046\n",
       "8                Australia        115\n",
       "9                Australia          0\n",
       "10               Australia         89\n",
       "11               Australia       1261\n",
       "12               Australia        587\n",
       "13               Australia        221\n",
       "14               Australia      19583\n",
       "15               Australia        869\n",
       "16                 Austria     376360\n",
       "17              Azerbaijan     218387\n",
       "18                 Bahamas       6720\n",
       "19                 Bahrain      95594\n",
       "20              Bangladesh     475074\n",
       "21                Barbados        493\n",
       "22                 Belarus     216744\n",
       "23                 Belgium          0\n",
       "24                 Belgium          0\n",
       "25                 Belgium          0\n",
       "26                 Belgium          0\n",
       "27                 Belgium          0\n",
       "28                 Belgium          0\n",
       "29                 Belgium          0\n",
       "...                    ...        ...\n",
       "3957        United Kingdom         95\n",
       "3958        United Kingdom        346\n",
       "3959        United Kingdom       3148\n",
       "3960        United Kingdom          0\n",
       "3961        United Kingdom         29\n",
       "3962        United Kingdom       3033\n",
       "3963        United Kingdom        357\n",
       "3964        United Kingdom         12\n",
       "3965        United Kingdom          0\n",
       "3966        United Kingdom          4\n",
       "3967        United Kingdom          0\n",
       "3968        United Kingdom        935\n",
       "3969        United Kingdom          0\n",
       "3970        United Kingdom          0\n",
       "3971               Uruguay      26927\n",
       "3972            Uzbekistan      76655\n",
       "3973               Vanuatu          1\n",
       "3974             Venezuela     114299\n",
       "3975               Vietnam       1411\n",
       "3976    West Bank and Gaza     142819\n",
       "3977                 Yemen       1423\n",
       "3978                Zambia      31522\n",
       "3979              Zimbabwe      19569\n",
       "3980                    US          0\n",
       "3981                    US          0\n",
       "3982                 China          0\n",
       "3983              Kiribati          0\n",
       "3984                 Palau          0\n",
       "3985           New Zealand          0\n",
       "3986  Summer Olympics 2020          0\n",
       "\n",
       "[3987 rows x 2 columns]"
      ]
     },
     "execution_count": 47,
     "metadata": {},
     "output_type": "execute_result"
    }
   ],
   "source": [
    "data[['Country_Region', 'Recovered']]\n"
   ]
  },
  {
   "cell_type": "markdown",
   "metadata": {},
   "source": [
    "#### Show the number of Active Cases by Country"
   ]
  },
  {
   "cell_type": "code",
   "execution_count": 48,
   "metadata": {},
   "outputs": [
    {
     "data": {
      "text/html": [
       "<div>\n",
       "<style scoped>\n",
       "    .dataframe tbody tr th:only-of-type {\n",
       "        vertical-align: middle;\n",
       "    }\n",
       "\n",
       "    .dataframe tbody tr th {\n",
       "        vertical-align: top;\n",
       "    }\n",
       "\n",
       "    .dataframe thead th {\n",
       "        text-align: right;\n",
       "    }\n",
       "</style>\n",
       "<table border=\"1\" class=\"dataframe\">\n",
       "  <thead>\n",
       "    <tr style=\"text-align: right;\">\n",
       "      <th></th>\n",
       "      <th>Country_Region</th>\n",
       "      <th>Active</th>\n",
       "    </tr>\n",
       "  </thead>\n",
       "  <tbody>\n",
       "    <tr>\n",
       "      <th>0</th>\n",
       "      <td>Afghanistan</td>\n",
       "      <td>5153.0</td>\n",
       "    </tr>\n",
       "    <tr>\n",
       "      <th>1</th>\n",
       "      <td>Albania</td>\n",
       "      <td>26194.0</td>\n",
       "    </tr>\n",
       "    <tr>\n",
       "      <th>2</th>\n",
       "      <td>Algeria</td>\n",
       "      <td>30656.0</td>\n",
       "    </tr>\n",
       "    <tr>\n",
       "      <th>3</th>\n",
       "      <td>Andorra</td>\n",
       "      <td>812.0</td>\n",
       "    </tr>\n",
       "    <tr>\n",
       "      <th>4</th>\n",
       "      <td>Angola</td>\n",
       "      <td>1553.0</td>\n",
       "    </tr>\n",
       "    <tr>\n",
       "      <th>5</th>\n",
       "      <td>Antigua and Barbuda</td>\n",
       "      <td>24.0</td>\n",
       "    </tr>\n",
       "    <tr>\n",
       "      <th>6</th>\n",
       "      <td>Argentina</td>\n",
       "      <td>170967.0</td>\n",
       "    </tr>\n",
       "    <tr>\n",
       "      <th>7</th>\n",
       "      <td>Armenia</td>\n",
       "      <td>8461.0</td>\n",
       "    </tr>\n",
       "    <tr>\n",
       "      <th>8</th>\n",
       "      <td>Australia</td>\n",
       "      <td>0.0</td>\n",
       "    </tr>\n",
       "    <tr>\n",
       "      <th>9</th>\n",
       "      <td>Australia</td>\n",
       "      <td>1793.0</td>\n",
       "    </tr>\n",
       "    <tr>\n",
       "      <th>10</th>\n",
       "      <td>Australia</td>\n",
       "      <td>8.0</td>\n",
       "    </tr>\n",
       "    <tr>\n",
       "      <th>11</th>\n",
       "      <td>Australia</td>\n",
       "      <td>36.0</td>\n",
       "    </tr>\n",
       "    <tr>\n",
       "      <th>12</th>\n",
       "      <td>Australia</td>\n",
       "      <td>5.0</td>\n",
       "    </tr>\n",
       "    <tr>\n",
       "      <th>13</th>\n",
       "      <td>Australia</td>\n",
       "      <td>0.0</td>\n",
       "    </tr>\n",
       "    <tr>\n",
       "      <th>14</th>\n",
       "      <td>Australia</td>\n",
       "      <td>31.0</td>\n",
       "    </tr>\n",
       "    <tr>\n",
       "      <th>15</th>\n",
       "      <td>Australia</td>\n",
       "      <td>12.0</td>\n",
       "    </tr>\n",
       "    <tr>\n",
       "      <th>16</th>\n",
       "      <td>Austria</td>\n",
       "      <td>16150.0</td>\n",
       "    </tr>\n",
       "    <tr>\n",
       "      <th>17</th>\n",
       "      <td>Azerbaijan</td>\n",
       "      <td>6806.0</td>\n",
       "    </tr>\n",
       "    <tr>\n",
       "      <th>18</th>\n",
       "      <td>Bahamas</td>\n",
       "      <td>1193.0</td>\n",
       "    </tr>\n",
       "    <tr>\n",
       "      <th>19</th>\n",
       "      <td>Bahrain</td>\n",
       "      <td>2918.0</td>\n",
       "    </tr>\n",
       "    <tr>\n",
       "      <th>20</th>\n",
       "      <td>Bangladesh</td>\n",
       "      <td>47231.0</td>\n",
       "    </tr>\n",
       "    <tr>\n",
       "      <th>21</th>\n",
       "      <td>Barbados</td>\n",
       "      <td>654.0</td>\n",
       "    </tr>\n",
       "    <tr>\n",
       "      <th>22</th>\n",
       "      <td>Belarus</td>\n",
       "      <td>13935.0</td>\n",
       "    </tr>\n",
       "    <tr>\n",
       "      <th>23</th>\n",
       "      <td>Belgium</td>\n",
       "      <td>85350.0</td>\n",
       "    </tr>\n",
       "    <tr>\n",
       "      <th>24</th>\n",
       "      <td>Belgium</td>\n",
       "      <td>86009.0</td>\n",
       "    </tr>\n",
       "    <tr>\n",
       "      <th>25</th>\n",
       "      <td>Belgium</td>\n",
       "      <td>70572.0</td>\n",
       "    </tr>\n",
       "    <tr>\n",
       "      <th>26</th>\n",
       "      <td>Belgium</td>\n",
       "      <td>52263.0</td>\n",
       "    </tr>\n",
       "    <tr>\n",
       "      <th>27</th>\n",
       "      <td>Belgium</td>\n",
       "      <td>106426.0</td>\n",
       "    </tr>\n",
       "    <tr>\n",
       "      <th>28</th>\n",
       "      <td>Belgium</td>\n",
       "      <td>99865.0</td>\n",
       "    </tr>\n",
       "    <tr>\n",
       "      <th>29</th>\n",
       "      <td>Belgium</td>\n",
       "      <td>32390.0</td>\n",
       "    </tr>\n",
       "    <tr>\n",
       "      <th>...</th>\n",
       "      <td>...</td>\n",
       "      <td>...</td>\n",
       "    </tr>\n",
       "    <tr>\n",
       "      <th>3957</th>\n",
       "      <td>United Kingdom</td>\n",
       "      <td>18.0</td>\n",
       "    </tr>\n",
       "    <tr>\n",
       "      <th>3958</th>\n",
       "      <td>United Kingdom</td>\n",
       "      <td>34.0</td>\n",
       "    </tr>\n",
       "    <tr>\n",
       "      <th>3959</th>\n",
       "      <td>United Kingdom</td>\n",
       "      <td>181.0</td>\n",
       "    </tr>\n",
       "    <tr>\n",
       "      <th>3960</th>\n",
       "      <td>United Kingdom</td>\n",
       "      <td>3009102.0</td>\n",
       "    </tr>\n",
       "    <tr>\n",
       "      <th>3961</th>\n",
       "      <td>United Kingdom</td>\n",
       "      <td>6.0</td>\n",
       "    </tr>\n",
       "    <tr>\n",
       "      <th>3962</th>\n",
       "      <td>United Kingdom</td>\n",
       "      <td>789.0</td>\n",
       "    </tr>\n",
       "    <tr>\n",
       "      <th>3963</th>\n",
       "      <td>United Kingdom</td>\n",
       "      <td>50.0</td>\n",
       "    </tr>\n",
       "    <tr>\n",
       "      <th>3964</th>\n",
       "      <td>United Kingdom</td>\n",
       "      <td>0.0</td>\n",
       "    </tr>\n",
       "    <tr>\n",
       "      <th>3965</th>\n",
       "      <td>United Kingdom</td>\n",
       "      <td>96659.0</td>\n",
       "    </tr>\n",
       "    <tr>\n",
       "      <th>3966</th>\n",
       "      <td>United Kingdom</td>\n",
       "      <td>0.0</td>\n",
       "    </tr>\n",
       "    <tr>\n",
       "      <th>3967</th>\n",
       "      <td>United Kingdom</td>\n",
       "      <td>162662.0</td>\n",
       "    </tr>\n",
       "    <tr>\n",
       "      <th>3968</th>\n",
       "      <td>United Kingdom</td>\n",
       "      <td>222.0</td>\n",
       "    </tr>\n",
       "    <tr>\n",
       "      <th>3969</th>\n",
       "      <td>United Kingdom</td>\n",
       "      <td>0.0</td>\n",
       "    </tr>\n",
       "    <tr>\n",
       "      <th>3970</th>\n",
       "      <td>United Kingdom</td>\n",
       "      <td>180643.0</td>\n",
       "    </tr>\n",
       "    <tr>\n",
       "      <th>3971</th>\n",
       "      <td>Uruguay</td>\n",
       "      <td>7718.0</td>\n",
       "    </tr>\n",
       "    <tr>\n",
       "      <th>3972</th>\n",
       "      <td>Uzbekistan</td>\n",
       "      <td>944.0</td>\n",
       "    </tr>\n",
       "    <tr>\n",
       "      <th>3973</th>\n",
       "      <td>Vanuatu</td>\n",
       "      <td>0.0</td>\n",
       "    </tr>\n",
       "    <tr>\n",
       "      <th>3974</th>\n",
       "      <td>Venezuela</td>\n",
       "      <td>6832.0</td>\n",
       "    </tr>\n",
       "    <tr>\n",
       "      <th>3975</th>\n",
       "      <td>Vietnam</td>\n",
       "      <td>100.0</td>\n",
       "    </tr>\n",
       "    <tr>\n",
       "      <th>3976</th>\n",
       "      <td>West Bank and Gaza</td>\n",
       "      <td>9487.0</td>\n",
       "    </tr>\n",
       "    <tr>\n",
       "      <th>3977</th>\n",
       "      <td>Yemen</td>\n",
       "      <td>78.0</td>\n",
       "    </tr>\n",
       "    <tr>\n",
       "      <th>3978</th>\n",
       "      <td>Zambia</td>\n",
       "      <td>10094.0</td>\n",
       "    </tr>\n",
       "    <tr>\n",
       "      <th>3979</th>\n",
       "      <td>Zimbabwe</td>\n",
       "      <td>9561.0</td>\n",
       "    </tr>\n",
       "    <tr>\n",
       "      <th>3980</th>\n",
       "      <td>US</td>\n",
       "      <td>0.0</td>\n",
       "    </tr>\n",
       "    <tr>\n",
       "      <th>3981</th>\n",
       "      <td>US</td>\n",
       "      <td>0.0</td>\n",
       "    </tr>\n",
       "    <tr>\n",
       "      <th>3982</th>\n",
       "      <td>China</td>\n",
       "      <td>0.0</td>\n",
       "    </tr>\n",
       "    <tr>\n",
       "      <th>3983</th>\n",
       "      <td>Kiribati</td>\n",
       "      <td>0.0</td>\n",
       "    </tr>\n",
       "    <tr>\n",
       "      <th>3984</th>\n",
       "      <td>Palau</td>\n",
       "      <td>0.0</td>\n",
       "    </tr>\n",
       "    <tr>\n",
       "      <th>3985</th>\n",
       "      <td>New Zealand</td>\n",
       "      <td>0.0</td>\n",
       "    </tr>\n",
       "    <tr>\n",
       "      <th>3986</th>\n",
       "      <td>Summer Olympics 2020</td>\n",
       "      <td>0.0</td>\n",
       "    </tr>\n",
       "  </tbody>\n",
       "</table>\n",
       "<p>3987 rows × 2 columns</p>\n",
       "</div>"
      ],
      "text/plain": [
       "            Country_Region     Active\n",
       "0              Afghanistan     5153.0\n",
       "1                  Albania    26194.0\n",
       "2                  Algeria    30656.0\n",
       "3                  Andorra      812.0\n",
       "4                   Angola     1553.0\n",
       "5      Antigua and Barbuda       24.0\n",
       "6                Argentina   170967.0\n",
       "7                  Armenia     8461.0\n",
       "8                Australia        0.0\n",
       "9                Australia     1793.0\n",
       "10               Australia        8.0\n",
       "11               Australia       36.0\n",
       "12               Australia        5.0\n",
       "13               Australia        0.0\n",
       "14               Australia       31.0\n",
       "15               Australia       12.0\n",
       "16                 Austria    16150.0\n",
       "17              Azerbaijan     6806.0\n",
       "18                 Bahamas     1193.0\n",
       "19                 Bahrain     2918.0\n",
       "20              Bangladesh    47231.0\n",
       "21                Barbados      654.0\n",
       "22                 Belarus    13935.0\n",
       "23                 Belgium    85350.0\n",
       "24                 Belgium    86009.0\n",
       "25                 Belgium    70572.0\n",
       "26                 Belgium    52263.0\n",
       "27                 Belgium   106426.0\n",
       "28                 Belgium    99865.0\n",
       "29                 Belgium    32390.0\n",
       "...                    ...        ...\n",
       "3957        United Kingdom       18.0\n",
       "3958        United Kingdom       34.0\n",
       "3959        United Kingdom      181.0\n",
       "3960        United Kingdom  3009102.0\n",
       "3961        United Kingdom        6.0\n",
       "3962        United Kingdom      789.0\n",
       "3963        United Kingdom       50.0\n",
       "3964        United Kingdom        0.0\n",
       "3965        United Kingdom    96659.0\n",
       "3966        United Kingdom        0.0\n",
       "3967        United Kingdom   162662.0\n",
       "3968        United Kingdom      222.0\n",
       "3969        United Kingdom        0.0\n",
       "3970        United Kingdom   180643.0\n",
       "3971               Uruguay     7718.0\n",
       "3972            Uzbekistan      944.0\n",
       "3973               Vanuatu        0.0\n",
       "3974             Venezuela     6832.0\n",
       "3975               Vietnam      100.0\n",
       "3976    West Bank and Gaza     9487.0\n",
       "3977                 Yemen       78.0\n",
       "3978                Zambia    10094.0\n",
       "3979              Zimbabwe     9561.0\n",
       "3980                    US        0.0\n",
       "3981                    US        0.0\n",
       "3982                 China        0.0\n",
       "3983              Kiribati        0.0\n",
       "3984                 Palau        0.0\n",
       "3985           New Zealand        0.0\n",
       "3986  Summer Olympics 2020        0.0\n",
       "\n",
       "[3987 rows x 2 columns]"
      ]
     },
     "execution_count": 48,
     "metadata": {},
     "output_type": "execute_result"
    }
   ],
   "source": [
    "data[['Country_Region', 'Active']]\n"
   ]
  },
  {
   "cell_type": "markdown",
   "metadata": {},
   "source": [
    "#### Show the latest number of Confirmed, Deaths, Recovered and Active cases Country-wise"
   ]
  },
  {
   "cell_type": "code",
   "execution_count": 96,
   "metadata": {},
   "outputs": [
    {
     "data": {
      "text/html": [
       "<div>\n",
       "<style scoped>\n",
       "    .dataframe tbody tr th:only-of-type {\n",
       "        vertical-align: middle;\n",
       "    }\n",
       "\n",
       "    .dataframe tbody tr th {\n",
       "        vertical-align: top;\n",
       "    }\n",
       "\n",
       "    .dataframe thead th {\n",
       "        text-align: right;\n",
       "    }\n",
       "</style>\n",
       "<table border=\"1\" class=\"dataframe\">\n",
       "  <thead>\n",
       "    <tr style=\"text-align: right;\">\n",
       "      <th></th>\n",
       "      <th>Last_Update</th>\n",
       "      <th>Country_Region</th>\n",
       "      <th>Confirmed</th>\n",
       "      <th>Deaths</th>\n",
       "      <th>Recovered</th>\n",
       "      <th>Active</th>\n",
       "    </tr>\n",
       "  </thead>\n",
       "  <tbody>\n",
       "    <tr>\n",
       "      <th>0</th>\n",
       "      <td>2021-01-22 05:22:10</td>\n",
       "      <td>Afghanistan</td>\n",
       "      <td>54403</td>\n",
       "      <td>2363</td>\n",
       "      <td>46887</td>\n",
       "      <td>5153.0</td>\n",
       "    </tr>\n",
       "    <tr>\n",
       "      <th>1</th>\n",
       "      <td>2021-01-22 05:22:10</td>\n",
       "      <td>Albania</td>\n",
       "      <td>69916</td>\n",
       "      <td>1296</td>\n",
       "      <td>42426</td>\n",
       "      <td>26194.0</td>\n",
       "    </tr>\n",
       "    <tr>\n",
       "      <th>2</th>\n",
       "      <td>2021-01-22 05:22:10</td>\n",
       "      <td>Algeria</td>\n",
       "      <td>104852</td>\n",
       "      <td>2853</td>\n",
       "      <td>71343</td>\n",
       "      <td>30656.0</td>\n",
       "    </tr>\n",
       "    <tr>\n",
       "      <th>3</th>\n",
       "      <td>2021-01-22 05:22:10</td>\n",
       "      <td>Andorra</td>\n",
       "      <td>9379</td>\n",
       "      <td>93</td>\n",
       "      <td>8474</td>\n",
       "      <td>812.0</td>\n",
       "    </tr>\n",
       "    <tr>\n",
       "      <th>4</th>\n",
       "      <td>2021-01-22 05:22:10</td>\n",
       "      <td>Angola</td>\n",
       "      <td>19177</td>\n",
       "      <td>448</td>\n",
       "      <td>17176</td>\n",
       "      <td>1553.0</td>\n",
       "    </tr>\n",
       "    <tr>\n",
       "      <th>5</th>\n",
       "      <td>2021-01-22 05:22:10</td>\n",
       "      <td>Antigua and Barbuda</td>\n",
       "      <td>192</td>\n",
       "      <td>6</td>\n",
       "      <td>162</td>\n",
       "      <td>24.0</td>\n",
       "    </tr>\n",
       "    <tr>\n",
       "      <th>6</th>\n",
       "      <td>2021-01-22 05:22:10</td>\n",
       "      <td>Argentina</td>\n",
       "      <td>1843077</td>\n",
       "      <td>46355</td>\n",
       "      <td>1625755</td>\n",
       "      <td>170967.0</td>\n",
       "    </tr>\n",
       "    <tr>\n",
       "      <th>7</th>\n",
       "      <td>2021-01-22 05:22:10</td>\n",
       "      <td>Armenia</td>\n",
       "      <td>165528</td>\n",
       "      <td>3021</td>\n",
       "      <td>154046</td>\n",
       "      <td>8461.0</td>\n",
       "    </tr>\n",
       "    <tr>\n",
       "      <th>8</th>\n",
       "      <td>2021-01-22 05:22:10</td>\n",
       "      <td>Australia</td>\n",
       "      <td>118</td>\n",
       "      <td>3</td>\n",
       "      <td>115</td>\n",
       "      <td>0.0</td>\n",
       "    </tr>\n",
       "    <tr>\n",
       "      <th>9</th>\n",
       "      <td>2021-01-22 05:22:10</td>\n",
       "      <td>Australia</td>\n",
       "      <td>5083</td>\n",
       "      <td>54</td>\n",
       "      <td>0</td>\n",
       "      <td>1793.0</td>\n",
       "    </tr>\n",
       "    <tr>\n",
       "      <th>10</th>\n",
       "      <td>2021-01-22 05:22:10</td>\n",
       "      <td>Australia</td>\n",
       "      <td>97</td>\n",
       "      <td>0</td>\n",
       "      <td>89</td>\n",
       "      <td>8.0</td>\n",
       "    </tr>\n",
       "    <tr>\n",
       "      <th>11</th>\n",
       "      <td>2021-01-22 05:22:10</td>\n",
       "      <td>Australia</td>\n",
       "      <td>1303</td>\n",
       "      <td>6</td>\n",
       "      <td>1261</td>\n",
       "      <td>36.0</td>\n",
       "    </tr>\n",
       "    <tr>\n",
       "      <th>12</th>\n",
       "      <td>2021-01-22 05:22:10</td>\n",
       "      <td>Australia</td>\n",
       "      <td>596</td>\n",
       "      <td>4</td>\n",
       "      <td>587</td>\n",
       "      <td>5.0</td>\n",
       "    </tr>\n",
       "    <tr>\n",
       "      <th>13</th>\n",
       "      <td>2021-01-22 05:22:10</td>\n",
       "      <td>Australia</td>\n",
       "      <td>234</td>\n",
       "      <td>13</td>\n",
       "      <td>221</td>\n",
       "      <td>0.0</td>\n",
       "    </tr>\n",
       "    <tr>\n",
       "      <th>14</th>\n",
       "      <td>2021-01-22 05:22:10</td>\n",
       "      <td>Australia</td>\n",
       "      <td>20434</td>\n",
       "      <td>820</td>\n",
       "      <td>19583</td>\n",
       "      <td>31.0</td>\n",
       "    </tr>\n",
       "    <tr>\n",
       "      <th>15</th>\n",
       "      <td>2021-01-22 05:22:10</td>\n",
       "      <td>Australia</td>\n",
       "      <td>890</td>\n",
       "      <td>9</td>\n",
       "      <td>869</td>\n",
       "      <td>12.0</td>\n",
       "    </tr>\n",
       "    <tr>\n",
       "      <th>16</th>\n",
       "      <td>2021-01-22 05:22:10</td>\n",
       "      <td>Austria</td>\n",
       "      <td>399798</td>\n",
       "      <td>7288</td>\n",
       "      <td>376360</td>\n",
       "      <td>16150.0</td>\n",
       "    </tr>\n",
       "    <tr>\n",
       "      <th>17</th>\n",
       "      <td>2021-01-22 05:22:10</td>\n",
       "      <td>Azerbaijan</td>\n",
       "      <td>228246</td>\n",
       "      <td>3053</td>\n",
       "      <td>218387</td>\n",
       "      <td>6806.0</td>\n",
       "    </tr>\n",
       "    <tr>\n",
       "      <th>18</th>\n",
       "      <td>2021-01-22 05:22:10</td>\n",
       "      <td>Bahamas</td>\n",
       "      <td>8088</td>\n",
       "      <td>175</td>\n",
       "      <td>6720</td>\n",
       "      <td>1193.0</td>\n",
       "    </tr>\n",
       "    <tr>\n",
       "      <th>19</th>\n",
       "      <td>2021-01-22 05:22:10</td>\n",
       "      <td>Bahrain</td>\n",
       "      <td>98878</td>\n",
       "      <td>366</td>\n",
       "      <td>95594</td>\n",
       "      <td>2918.0</td>\n",
       "    </tr>\n",
       "    <tr>\n",
       "      <th>20</th>\n",
       "      <td>2021-01-22 05:22:10</td>\n",
       "      <td>Bangladesh</td>\n",
       "      <td>530271</td>\n",
       "      <td>7966</td>\n",
       "      <td>475074</td>\n",
       "      <td>47231.0</td>\n",
       "    </tr>\n",
       "    <tr>\n",
       "      <th>21</th>\n",
       "      <td>2021-01-22 05:22:10</td>\n",
       "      <td>Barbados</td>\n",
       "      <td>1156</td>\n",
       "      <td>9</td>\n",
       "      <td>493</td>\n",
       "      <td>654.0</td>\n",
       "    </tr>\n",
       "    <tr>\n",
       "      <th>22</th>\n",
       "      <td>2021-01-22 05:22:10</td>\n",
       "      <td>Belarus</td>\n",
       "      <td>232298</td>\n",
       "      <td>1619</td>\n",
       "      <td>216744</td>\n",
       "      <td>13935.0</td>\n",
       "    </tr>\n",
       "    <tr>\n",
       "      <th>23</th>\n",
       "      <td>2021-01-22 05:22:10</td>\n",
       "      <td>Belgium</td>\n",
       "      <td>85350</td>\n",
       "      <td>0</td>\n",
       "      <td>0</td>\n",
       "      <td>85350.0</td>\n",
       "    </tr>\n",
       "    <tr>\n",
       "      <th>24</th>\n",
       "      <td>2021-01-22 05:22:10</td>\n",
       "      <td>Belgium</td>\n",
       "      <td>86009</td>\n",
       "      <td>0</td>\n",
       "      <td>0</td>\n",
       "      <td>86009.0</td>\n",
       "    </tr>\n",
       "    <tr>\n",
       "      <th>25</th>\n",
       "      <td>2021-01-22 05:22:10</td>\n",
       "      <td>Belgium</td>\n",
       "      <td>70572</td>\n",
       "      <td>0</td>\n",
       "      <td>0</td>\n",
       "      <td>70572.0</td>\n",
       "    </tr>\n",
       "    <tr>\n",
       "      <th>26</th>\n",
       "      <td>2021-01-22 05:22:10</td>\n",
       "      <td>Belgium</td>\n",
       "      <td>52263</td>\n",
       "      <td>0</td>\n",
       "      <td>0</td>\n",
       "      <td>52263.0</td>\n",
       "    </tr>\n",
       "    <tr>\n",
       "      <th>27</th>\n",
       "      <td>2021-01-22 05:22:10</td>\n",
       "      <td>Belgium</td>\n",
       "      <td>106426</td>\n",
       "      <td>0</td>\n",
       "      <td>0</td>\n",
       "      <td>106426.0</td>\n",
       "    </tr>\n",
       "    <tr>\n",
       "      <th>28</th>\n",
       "      <td>2021-01-22 05:22:10</td>\n",
       "      <td>Belgium</td>\n",
       "      <td>99865</td>\n",
       "      <td>0</td>\n",
       "      <td>0</td>\n",
       "      <td>99865.0</td>\n",
       "    </tr>\n",
       "    <tr>\n",
       "      <th>29</th>\n",
       "      <td>2021-01-22 05:22:10</td>\n",
       "      <td>Belgium</td>\n",
       "      <td>32390</td>\n",
       "      <td>0</td>\n",
       "      <td>0</td>\n",
       "      <td>32390.0</td>\n",
       "    </tr>\n",
       "    <tr>\n",
       "      <th>...</th>\n",
       "      <td>...</td>\n",
       "      <td>...</td>\n",
       "      <td>...</td>\n",
       "      <td>...</td>\n",
       "      <td>...</td>\n",
       "      <td>...</td>\n",
       "    </tr>\n",
       "    <tr>\n",
       "      <th>3957</th>\n",
       "      <td>2021-01-22 05:22:10</td>\n",
       "      <td>United Kingdom</td>\n",
       "      <td>114</td>\n",
       "      <td>1</td>\n",
       "      <td>95</td>\n",
       "      <td>18.0</td>\n",
       "    </tr>\n",
       "    <tr>\n",
       "      <th>3958</th>\n",
       "      <td>2021-01-22 05:22:10</td>\n",
       "      <td>United Kingdom</td>\n",
       "      <td>382</td>\n",
       "      <td>2</td>\n",
       "      <td>346</td>\n",
       "      <td>34.0</td>\n",
       "    </tr>\n",
       "    <tr>\n",
       "      <th>3959</th>\n",
       "      <td>2021-01-22 05:22:10</td>\n",
       "      <td>United Kingdom</td>\n",
       "      <td>3407</td>\n",
       "      <td>78</td>\n",
       "      <td>3148</td>\n",
       "      <td>181.0</td>\n",
       "    </tr>\n",
       "    <tr>\n",
       "      <th>3960</th>\n",
       "      <td>2021-01-22 05:22:10</td>\n",
       "      <td>United Kingdom</td>\n",
       "      <td>3092041</td>\n",
       "      <td>82939</td>\n",
       "      <td>0</td>\n",
       "      <td>3009102.0</td>\n",
       "    </tr>\n",
       "    <tr>\n",
       "      <th>3961</th>\n",
       "      <td>2021-01-22 05:22:10</td>\n",
       "      <td>United Kingdom</td>\n",
       "      <td>35</td>\n",
       "      <td>0</td>\n",
       "      <td>29</td>\n",
       "      <td>6.0</td>\n",
       "    </tr>\n",
       "    <tr>\n",
       "      <th>3962</th>\n",
       "      <td>2021-01-22 05:22:10</td>\n",
       "      <td>United Kingdom</td>\n",
       "      <td>3881</td>\n",
       "      <td>59</td>\n",
       "      <td>3033</td>\n",
       "      <td>789.0</td>\n",
       "    </tr>\n",
       "    <tr>\n",
       "      <th>3963</th>\n",
       "      <td>2021-01-22 05:22:10</td>\n",
       "      <td>United Kingdom</td>\n",
       "      <td>432</td>\n",
       "      <td>25</td>\n",
       "      <td>357</td>\n",
       "      <td>50.0</td>\n",
       "    </tr>\n",
       "    <tr>\n",
       "      <th>3964</th>\n",
       "      <td>2021-01-22 05:22:10</td>\n",
       "      <td>United Kingdom</td>\n",
       "      <td>13</td>\n",
       "      <td>1</td>\n",
       "      <td>12</td>\n",
       "      <td>0.0</td>\n",
       "    </tr>\n",
       "    <tr>\n",
       "      <th>3965</th>\n",
       "      <td>2021-01-22 05:22:10</td>\n",
       "      <td>United Kingdom</td>\n",
       "      <td>98351</td>\n",
       "      <td>1692</td>\n",
       "      <td>0</td>\n",
       "      <td>96659.0</td>\n",
       "    </tr>\n",
       "    <tr>\n",
       "      <th>3966</th>\n",
       "      <td>2021-01-22 05:22:10</td>\n",
       "      <td>United Kingdom</td>\n",
       "      <td>4</td>\n",
       "      <td>0</td>\n",
       "      <td>4</td>\n",
       "      <td>0.0</td>\n",
       "    </tr>\n",
       "    <tr>\n",
       "      <th>3967</th>\n",
       "      <td>2021-01-22 05:22:10</td>\n",
       "      <td>United Kingdom</td>\n",
       "      <td>168219</td>\n",
       "      <td>5557</td>\n",
       "      <td>0</td>\n",
       "      <td>162662.0</td>\n",
       "    </tr>\n",
       "    <tr>\n",
       "      <th>3968</th>\n",
       "      <td>2021-01-22 05:22:10</td>\n",
       "      <td>United Kingdom</td>\n",
       "      <td>1164</td>\n",
       "      <td>7</td>\n",
       "      <td>935</td>\n",
       "      <td>222.0</td>\n",
       "    </tr>\n",
       "    <tr>\n",
       "      <th>3969</th>\n",
       "      <td>2021-01-22 05:22:10</td>\n",
       "      <td>United Kingdom</td>\n",
       "      <td>0</td>\n",
       "      <td>0</td>\n",
       "      <td>0</td>\n",
       "      <td>0.0</td>\n",
       "    </tr>\n",
       "    <tr>\n",
       "      <th>3970</th>\n",
       "      <td>2021-01-22 05:22:10</td>\n",
       "      <td>United Kingdom</td>\n",
       "      <td>185035</td>\n",
       "      <td>4392</td>\n",
       "      <td>0</td>\n",
       "      <td>180643.0</td>\n",
       "    </tr>\n",
       "    <tr>\n",
       "      <th>3971</th>\n",
       "      <td>2021-01-22 05:22:10</td>\n",
       "      <td>Uruguay</td>\n",
       "      <td>34992</td>\n",
       "      <td>347</td>\n",
       "      <td>26927</td>\n",
       "      <td>7718.0</td>\n",
       "    </tr>\n",
       "    <tr>\n",
       "      <th>3972</th>\n",
       "      <td>2021-01-22 05:22:10</td>\n",
       "      <td>Uzbekistan</td>\n",
       "      <td>78219</td>\n",
       "      <td>620</td>\n",
       "      <td>76655</td>\n",
       "      <td>944.0</td>\n",
       "    </tr>\n",
       "    <tr>\n",
       "      <th>3973</th>\n",
       "      <td>2021-01-22 05:22:10</td>\n",
       "      <td>Vanuatu</td>\n",
       "      <td>1</td>\n",
       "      <td>0</td>\n",
       "      <td>1</td>\n",
       "      <td>0.0</td>\n",
       "    </tr>\n",
       "    <tr>\n",
       "      <th>3974</th>\n",
       "      <td>2021-01-22 05:22:10</td>\n",
       "      <td>Venezuela</td>\n",
       "      <td>122260</td>\n",
       "      <td>1129</td>\n",
       "      <td>114299</td>\n",
       "      <td>6832.0</td>\n",
       "    </tr>\n",
       "    <tr>\n",
       "      <th>3975</th>\n",
       "      <td>2021-01-22 05:22:10</td>\n",
       "      <td>Vietnam</td>\n",
       "      <td>1546</td>\n",
       "      <td>35</td>\n",
       "      <td>1411</td>\n",
       "      <td>100.0</td>\n",
       "    </tr>\n",
       "    <tr>\n",
       "      <th>3976</th>\n",
       "      <td>2021-01-22 05:22:10</td>\n",
       "      <td>West Bank and Gaza</td>\n",
       "      <td>154063</td>\n",
       "      <td>1757</td>\n",
       "      <td>142819</td>\n",
       "      <td>9487.0</td>\n",
       "    </tr>\n",
       "    <tr>\n",
       "      <th>3977</th>\n",
       "      <td>2021-01-22 05:22:10</td>\n",
       "      <td>Yemen</td>\n",
       "      <td>2115</td>\n",
       "      <td>614</td>\n",
       "      <td>1423</td>\n",
       "      <td>78.0</td>\n",
       "    </tr>\n",
       "    <tr>\n",
       "      <th>3978</th>\n",
       "      <td>2021-01-22 05:22:10</td>\n",
       "      <td>Zambia</td>\n",
       "      <td>42213</td>\n",
       "      <td>597</td>\n",
       "      <td>31522</td>\n",
       "      <td>10094.0</td>\n",
       "    </tr>\n",
       "    <tr>\n",
       "      <th>3979</th>\n",
       "      <td>2021-01-22 05:22:10</td>\n",
       "      <td>Zimbabwe</td>\n",
       "      <td>30047</td>\n",
       "      <td>917</td>\n",
       "      <td>19569</td>\n",
       "      <td>9561.0</td>\n",
       "    </tr>\n",
       "    <tr>\n",
       "      <th>3980</th>\n",
       "      <td>2021-04-02 15:13:53</td>\n",
       "      <td>US</td>\n",
       "      <td>177</td>\n",
       "      <td>0</td>\n",
       "      <td>0</td>\n",
       "      <td>0.0</td>\n",
       "    </tr>\n",
       "    <tr>\n",
       "      <th>3981</th>\n",
       "      <td>2021-04-02 15:13:53</td>\n",
       "      <td>US</td>\n",
       "      <td>248</td>\n",
       "      <td>3</td>\n",
       "      <td>0</td>\n",
       "      <td>0.0</td>\n",
       "    </tr>\n",
       "    <tr>\n",
       "      <th>3982</th>\n",
       "      <td>2021-01-22 05:22:10</td>\n",
       "      <td>China</td>\n",
       "      <td>0</td>\n",
       "      <td>0</td>\n",
       "      <td>0</td>\n",
       "      <td>0.0</td>\n",
       "    </tr>\n",
       "    <tr>\n",
       "      <th>3983</th>\n",
       "      <td>2021-01-22 05:22:10</td>\n",
       "      <td>Kiribati</td>\n",
       "      <td>0</td>\n",
       "      <td>0</td>\n",
       "      <td>0</td>\n",
       "      <td>0.0</td>\n",
       "    </tr>\n",
       "    <tr>\n",
       "      <th>3984</th>\n",
       "      <td>2021-01-22 05:22:10</td>\n",
       "      <td>Palau</td>\n",
       "      <td>0</td>\n",
       "      <td>0</td>\n",
       "      <td>0</td>\n",
       "      <td>0.0</td>\n",
       "    </tr>\n",
       "    <tr>\n",
       "      <th>3985</th>\n",
       "      <td>2021-01-22 05:22:10</td>\n",
       "      <td>New Zealand</td>\n",
       "      <td>0</td>\n",
       "      <td>0</td>\n",
       "      <td>0</td>\n",
       "      <td>0.0</td>\n",
       "    </tr>\n",
       "    <tr>\n",
       "      <th>3986</th>\n",
       "      <td>2021-01-22 05:22:10</td>\n",
       "      <td>Summer Olympics 2020</td>\n",
       "      <td>0</td>\n",
       "      <td>0</td>\n",
       "      <td>0</td>\n",
       "      <td>0.0</td>\n",
       "    </tr>\n",
       "  </tbody>\n",
       "</table>\n",
       "<p>3987 rows × 6 columns</p>\n",
       "</div>"
      ],
      "text/plain": [
       "              Last_Update        Country_Region  Confirmed  Deaths  Recovered  \\\n",
       "0     2021-01-22 05:22:10           Afghanistan      54403    2363      46887   \n",
       "1     2021-01-22 05:22:10               Albania      69916    1296      42426   \n",
       "2     2021-01-22 05:22:10               Algeria     104852    2853      71343   \n",
       "3     2021-01-22 05:22:10               Andorra       9379      93       8474   \n",
       "4     2021-01-22 05:22:10                Angola      19177     448      17176   \n",
       "5     2021-01-22 05:22:10   Antigua and Barbuda        192       6        162   \n",
       "6     2021-01-22 05:22:10             Argentina    1843077   46355    1625755   \n",
       "7     2021-01-22 05:22:10               Armenia     165528    3021     154046   \n",
       "8     2021-01-22 05:22:10             Australia        118       3        115   \n",
       "9     2021-01-22 05:22:10             Australia       5083      54          0   \n",
       "10    2021-01-22 05:22:10             Australia         97       0         89   \n",
       "11    2021-01-22 05:22:10             Australia       1303       6       1261   \n",
       "12    2021-01-22 05:22:10             Australia        596       4        587   \n",
       "13    2021-01-22 05:22:10             Australia        234      13        221   \n",
       "14    2021-01-22 05:22:10             Australia      20434     820      19583   \n",
       "15    2021-01-22 05:22:10             Australia        890       9        869   \n",
       "16    2021-01-22 05:22:10               Austria     399798    7288     376360   \n",
       "17    2021-01-22 05:22:10            Azerbaijan     228246    3053     218387   \n",
       "18    2021-01-22 05:22:10               Bahamas       8088     175       6720   \n",
       "19    2021-01-22 05:22:10               Bahrain      98878     366      95594   \n",
       "20    2021-01-22 05:22:10            Bangladesh     530271    7966     475074   \n",
       "21    2021-01-22 05:22:10              Barbados       1156       9        493   \n",
       "22    2021-01-22 05:22:10               Belarus     232298    1619     216744   \n",
       "23    2021-01-22 05:22:10               Belgium      85350       0          0   \n",
       "24    2021-01-22 05:22:10               Belgium      86009       0          0   \n",
       "25    2021-01-22 05:22:10               Belgium      70572       0          0   \n",
       "26    2021-01-22 05:22:10               Belgium      52263       0          0   \n",
       "27    2021-01-22 05:22:10               Belgium     106426       0          0   \n",
       "28    2021-01-22 05:22:10               Belgium      99865       0          0   \n",
       "29    2021-01-22 05:22:10               Belgium      32390       0          0   \n",
       "...                   ...                   ...        ...     ...        ...   \n",
       "3957  2021-01-22 05:22:10        United Kingdom        114       1         95   \n",
       "3958  2021-01-22 05:22:10        United Kingdom        382       2        346   \n",
       "3959  2021-01-22 05:22:10        United Kingdom       3407      78       3148   \n",
       "3960  2021-01-22 05:22:10        United Kingdom    3092041   82939          0   \n",
       "3961  2021-01-22 05:22:10        United Kingdom         35       0         29   \n",
       "3962  2021-01-22 05:22:10        United Kingdom       3881      59       3033   \n",
       "3963  2021-01-22 05:22:10        United Kingdom        432      25        357   \n",
       "3964  2021-01-22 05:22:10        United Kingdom         13       1         12   \n",
       "3965  2021-01-22 05:22:10        United Kingdom      98351    1692          0   \n",
       "3966  2021-01-22 05:22:10        United Kingdom          4       0          4   \n",
       "3967  2021-01-22 05:22:10        United Kingdom     168219    5557          0   \n",
       "3968  2021-01-22 05:22:10        United Kingdom       1164       7        935   \n",
       "3969  2021-01-22 05:22:10        United Kingdom          0       0          0   \n",
       "3970  2021-01-22 05:22:10        United Kingdom     185035    4392          0   \n",
       "3971  2021-01-22 05:22:10               Uruguay      34992     347      26927   \n",
       "3972  2021-01-22 05:22:10            Uzbekistan      78219     620      76655   \n",
       "3973  2021-01-22 05:22:10               Vanuatu          1       0          1   \n",
       "3974  2021-01-22 05:22:10             Venezuela     122260    1129     114299   \n",
       "3975  2021-01-22 05:22:10               Vietnam       1546      35       1411   \n",
       "3976  2021-01-22 05:22:10    West Bank and Gaza     154063    1757     142819   \n",
       "3977  2021-01-22 05:22:10                 Yemen       2115     614       1423   \n",
       "3978  2021-01-22 05:22:10                Zambia      42213     597      31522   \n",
       "3979  2021-01-22 05:22:10              Zimbabwe      30047     917      19569   \n",
       "3980  2021-04-02 15:13:53                    US        177       0          0   \n",
       "3981  2021-04-02 15:13:53                    US        248       3          0   \n",
       "3982  2021-01-22 05:22:10                 China          0       0          0   \n",
       "3983  2021-01-22 05:22:10              Kiribati          0       0          0   \n",
       "3984  2021-01-22 05:22:10                 Palau          0       0          0   \n",
       "3985  2021-01-22 05:22:10           New Zealand          0       0          0   \n",
       "3986  2021-01-22 05:22:10  Summer Olympics 2020          0       0          0   \n",
       "\n",
       "         Active  \n",
       "0        5153.0  \n",
       "1       26194.0  \n",
       "2       30656.0  \n",
       "3         812.0  \n",
       "4        1553.0  \n",
       "5          24.0  \n",
       "6      170967.0  \n",
       "7        8461.0  \n",
       "8           0.0  \n",
       "9        1793.0  \n",
       "10          8.0  \n",
       "11         36.0  \n",
       "12          5.0  \n",
       "13          0.0  \n",
       "14         31.0  \n",
       "15         12.0  \n",
       "16      16150.0  \n",
       "17       6806.0  \n",
       "18       1193.0  \n",
       "19       2918.0  \n",
       "20      47231.0  \n",
       "21        654.0  \n",
       "22      13935.0  \n",
       "23      85350.0  \n",
       "24      86009.0  \n",
       "25      70572.0  \n",
       "26      52263.0  \n",
       "27     106426.0  \n",
       "28      99865.0  \n",
       "29      32390.0  \n",
       "...         ...  \n",
       "3957       18.0  \n",
       "3958       34.0  \n",
       "3959      181.0  \n",
       "3960  3009102.0  \n",
       "3961        6.0  \n",
       "3962      789.0  \n",
       "3963       50.0  \n",
       "3964        0.0  \n",
       "3965    96659.0  \n",
       "3966        0.0  \n",
       "3967   162662.0  \n",
       "3968      222.0  \n",
       "3969        0.0  \n",
       "3970   180643.0  \n",
       "3971     7718.0  \n",
       "3972      944.0  \n",
       "3973        0.0  \n",
       "3974     6832.0  \n",
       "3975      100.0  \n",
       "3976     9487.0  \n",
       "3977       78.0  \n",
       "3978    10094.0  \n",
       "3979     9561.0  \n",
       "3980        0.0  \n",
       "3981        0.0  \n",
       "3982        0.0  \n",
       "3983        0.0  \n",
       "3984        0.0  \n",
       "3985        0.0  \n",
       "3986        0.0  \n",
       "\n",
       "[3987 rows x 6 columns]"
      ]
     },
     "execution_count": 96,
     "metadata": {},
     "output_type": "execute_result"
    }
   ],
   "source": [
    "data[['Last_Update','Country_Region', 'Confirmed','Deaths','Recovered','Active']]\n"
   ]
  },
  {
   "cell_type": "markdown",
   "metadata": {},
   "source": [
    "### Question 3"
   ]
  },
  {
   "cell_type": "markdown",
   "metadata": {},
   "source": [
    "### Show the countries with no recovered cases"
   ]
  },
  {
   "cell_type": "code",
   "execution_count": 65,
   "metadata": {},
   "outputs": [
    {
     "data": {
      "text/html": [
       "<div>\n",
       "<style scoped>\n",
       "    .dataframe tbody tr th:only-of-type {\n",
       "        vertical-align: middle;\n",
       "    }\n",
       "\n",
       "    .dataframe tbody tr th {\n",
       "        vertical-align: top;\n",
       "    }\n",
       "\n",
       "    .dataframe thead th {\n",
       "        text-align: right;\n",
       "    }\n",
       "</style>\n",
       "<table border=\"1\" class=\"dataframe\">\n",
       "  <thead>\n",
       "    <tr style=\"text-align: right;\">\n",
       "      <th></th>\n",
       "      <th>FIPS</th>\n",
       "      <th>Admin2</th>\n",
       "      <th>Province_State</th>\n",
       "      <th>Country_Region</th>\n",
       "      <th>Last_Update</th>\n",
       "      <th>Lat</th>\n",
       "      <th>Long_</th>\n",
       "      <th>Confirmed</th>\n",
       "      <th>Deaths</th>\n",
       "      <th>Recovered</th>\n",
       "      <th>Active</th>\n",
       "      <th>Combined_Key</th>\n",
       "      <th>Incident_Rate</th>\n",
       "      <th>Case_Fatality_Ratio</th>\n",
       "    </tr>\n",
       "  </thead>\n",
       "  <tbody>\n",
       "    <tr>\n",
       "      <th>0</th>\n",
       "      <td>NaN</td>\n",
       "      <td>NaN</td>\n",
       "      <td>NaN</td>\n",
       "      <td>Afghanistan</td>\n",
       "      <td>2021-01-22 05:22:10</td>\n",
       "      <td>33.939110</td>\n",
       "      <td>67.709953</td>\n",
       "      <td>54403</td>\n",
       "      <td>2363</td>\n",
       "      <td>46887</td>\n",
       "      <td>5153.0</td>\n",
       "      <td>Afghanistan</td>\n",
       "      <td>139.751653</td>\n",
       "      <td>4.343510</td>\n",
       "    </tr>\n",
       "    <tr>\n",
       "      <th>1</th>\n",
       "      <td>NaN</td>\n",
       "      <td>NaN</td>\n",
       "      <td>NaN</td>\n",
       "      <td>Albania</td>\n",
       "      <td>2021-01-22 05:22:10</td>\n",
       "      <td>41.153300</td>\n",
       "      <td>20.168300</td>\n",
       "      <td>69916</td>\n",
       "      <td>1296</td>\n",
       "      <td>42426</td>\n",
       "      <td>26194.0</td>\n",
       "      <td>Albania</td>\n",
       "      <td>2429.494753</td>\n",
       "      <td>1.853653</td>\n",
       "    </tr>\n",
       "    <tr>\n",
       "      <th>2</th>\n",
       "      <td>NaN</td>\n",
       "      <td>NaN</td>\n",
       "      <td>NaN</td>\n",
       "      <td>Algeria</td>\n",
       "      <td>2021-01-22 05:22:10</td>\n",
       "      <td>28.033900</td>\n",
       "      <td>1.659600</td>\n",
       "      <td>104852</td>\n",
       "      <td>2853</td>\n",
       "      <td>71343</td>\n",
       "      <td>30656.0</td>\n",
       "      <td>Algeria</td>\n",
       "      <td>239.109478</td>\n",
       "      <td>2.720978</td>\n",
       "    </tr>\n",
       "    <tr>\n",
       "      <th>3</th>\n",
       "      <td>NaN</td>\n",
       "      <td>NaN</td>\n",
       "      <td>NaN</td>\n",
       "      <td>Andorra</td>\n",
       "      <td>2021-01-22 05:22:10</td>\n",
       "      <td>42.506300</td>\n",
       "      <td>1.521800</td>\n",
       "      <td>9379</td>\n",
       "      <td>93</td>\n",
       "      <td>8474</td>\n",
       "      <td>812.0</td>\n",
       "      <td>Andorra</td>\n",
       "      <td>12138.743286</td>\n",
       "      <td>0.991577</td>\n",
       "    </tr>\n",
       "    <tr>\n",
       "      <th>4</th>\n",
       "      <td>NaN</td>\n",
       "      <td>NaN</td>\n",
       "      <td>NaN</td>\n",
       "      <td>Angola</td>\n",
       "      <td>2021-01-22 05:22:10</td>\n",
       "      <td>-11.202700</td>\n",
       "      <td>17.873900</td>\n",
       "      <td>19177</td>\n",
       "      <td>448</td>\n",
       "      <td>17176</td>\n",
       "      <td>1553.0</td>\n",
       "      <td>Angola</td>\n",
       "      <td>58.348578</td>\n",
       "      <td>2.336132</td>\n",
       "    </tr>\n",
       "    <tr>\n",
       "      <th>5</th>\n",
       "      <td>NaN</td>\n",
       "      <td>NaN</td>\n",
       "      <td>NaN</td>\n",
       "      <td>Antigua and Barbuda</td>\n",
       "      <td>2021-01-22 05:22:10</td>\n",
       "      <td>17.060800</td>\n",
       "      <td>-61.796400</td>\n",
       "      <td>192</td>\n",
       "      <td>6</td>\n",
       "      <td>162</td>\n",
       "      <td>24.0</td>\n",
       "      <td>Antigua and Barbuda</td>\n",
       "      <td>196.062413</td>\n",
       "      <td>3.125000</td>\n",
       "    </tr>\n",
       "    <tr>\n",
       "      <th>6</th>\n",
       "      <td>NaN</td>\n",
       "      <td>NaN</td>\n",
       "      <td>NaN</td>\n",
       "      <td>Argentina</td>\n",
       "      <td>2021-01-22 05:22:10</td>\n",
       "      <td>-38.416100</td>\n",
       "      <td>-63.616700</td>\n",
       "      <td>1843077</td>\n",
       "      <td>46355</td>\n",
       "      <td>1625755</td>\n",
       "      <td>170967.0</td>\n",
       "      <td>Argentina</td>\n",
       "      <td>4077.984985</td>\n",
       "      <td>2.515088</td>\n",
       "    </tr>\n",
       "    <tr>\n",
       "      <th>7</th>\n",
       "      <td>NaN</td>\n",
       "      <td>NaN</td>\n",
       "      <td>NaN</td>\n",
       "      <td>Armenia</td>\n",
       "      <td>2021-01-22 05:22:10</td>\n",
       "      <td>40.069100</td>\n",
       "      <td>45.038200</td>\n",
       "      <td>165528</td>\n",
       "      <td>3021</td>\n",
       "      <td>154046</td>\n",
       "      <td>8461.0</td>\n",
       "      <td>Armenia</td>\n",
       "      <td>5586.059015</td>\n",
       "      <td>1.825069</td>\n",
       "    </tr>\n",
       "    <tr>\n",
       "      <th>8</th>\n",
       "      <td>NaN</td>\n",
       "      <td>NaN</td>\n",
       "      <td>Australian Capital Territory</td>\n",
       "      <td>Australia</td>\n",
       "      <td>2021-01-22 05:22:10</td>\n",
       "      <td>-35.473500</td>\n",
       "      <td>149.012400</td>\n",
       "      <td>118</td>\n",
       "      <td>3</td>\n",
       "      <td>115</td>\n",
       "      <td>0.0</td>\n",
       "      <td>Australian Capital Territory, Australia</td>\n",
       "      <td>27.563653</td>\n",
       "      <td>2.542373</td>\n",
       "    </tr>\n",
       "    <tr>\n",
       "      <th>9</th>\n",
       "      <td>NaN</td>\n",
       "      <td>NaN</td>\n",
       "      <td>New South Wales</td>\n",
       "      <td>Australia</td>\n",
       "      <td>2021-01-22 05:22:10</td>\n",
       "      <td>-33.868800</td>\n",
       "      <td>151.209300</td>\n",
       "      <td>5083</td>\n",
       "      <td>54</td>\n",
       "      <td>0</td>\n",
       "      <td>1793.0</td>\n",
       "      <td>New South Wales, Australia</td>\n",
       "      <td>62.613944</td>\n",
       "      <td>1.062365</td>\n",
       "    </tr>\n",
       "    <tr>\n",
       "      <th>10</th>\n",
       "      <td>NaN</td>\n",
       "      <td>NaN</td>\n",
       "      <td>Northern Territory</td>\n",
       "      <td>Australia</td>\n",
       "      <td>2021-01-22 05:22:10</td>\n",
       "      <td>-12.463400</td>\n",
       "      <td>130.845600</td>\n",
       "      <td>97</td>\n",
       "      <td>0</td>\n",
       "      <td>89</td>\n",
       "      <td>8.0</td>\n",
       "      <td>Northern Territory, Australia</td>\n",
       "      <td>39.495114</td>\n",
       "      <td>0.000000</td>\n",
       "    </tr>\n",
       "    <tr>\n",
       "      <th>11</th>\n",
       "      <td>NaN</td>\n",
       "      <td>NaN</td>\n",
       "      <td>Queensland</td>\n",
       "      <td>Australia</td>\n",
       "      <td>2021-01-22 05:22:10</td>\n",
       "      <td>-27.469800</td>\n",
       "      <td>153.025100</td>\n",
       "      <td>1303</td>\n",
       "      <td>6</td>\n",
       "      <td>1261</td>\n",
       "      <td>36.0</td>\n",
       "      <td>Queensland, Australia</td>\n",
       "      <td>25.471606</td>\n",
       "      <td>0.460476</td>\n",
       "    </tr>\n",
       "    <tr>\n",
       "      <th>12</th>\n",
       "      <td>NaN</td>\n",
       "      <td>NaN</td>\n",
       "      <td>South Australia</td>\n",
       "      <td>Australia</td>\n",
       "      <td>2021-01-22 05:22:10</td>\n",
       "      <td>-34.928500</td>\n",
       "      <td>138.600700</td>\n",
       "      <td>596</td>\n",
       "      <td>4</td>\n",
       "      <td>587</td>\n",
       "      <td>5.0</td>\n",
       "      <td>South Australia, Australia</td>\n",
       "      <td>33.931113</td>\n",
       "      <td>0.671141</td>\n",
       "    </tr>\n",
       "    <tr>\n",
       "      <th>13</th>\n",
       "      <td>NaN</td>\n",
       "      <td>NaN</td>\n",
       "      <td>Tasmania</td>\n",
       "      <td>Australia</td>\n",
       "      <td>2021-01-22 05:22:10</td>\n",
       "      <td>-42.882100</td>\n",
       "      <td>147.327200</td>\n",
       "      <td>234</td>\n",
       "      <td>13</td>\n",
       "      <td>221</td>\n",
       "      <td>0.0</td>\n",
       "      <td>Tasmania, Australia</td>\n",
       "      <td>43.697479</td>\n",
       "      <td>5.555556</td>\n",
       "    </tr>\n",
       "    <tr>\n",
       "      <th>14</th>\n",
       "      <td>NaN</td>\n",
       "      <td>NaN</td>\n",
       "      <td>Victoria</td>\n",
       "      <td>Australia</td>\n",
       "      <td>2021-01-22 05:22:10</td>\n",
       "      <td>-37.813600</td>\n",
       "      <td>144.963100</td>\n",
       "      <td>20434</td>\n",
       "      <td>820</td>\n",
       "      <td>19583</td>\n",
       "      <td>31.0</td>\n",
       "      <td>Victoria, Australia</td>\n",
       "      <td>308.209777</td>\n",
       "      <td>4.012920</td>\n",
       "    </tr>\n",
       "    <tr>\n",
       "      <th>15</th>\n",
       "      <td>NaN</td>\n",
       "      <td>NaN</td>\n",
       "      <td>Western Australia</td>\n",
       "      <td>Australia</td>\n",
       "      <td>2021-01-22 05:22:10</td>\n",
       "      <td>-31.950500</td>\n",
       "      <td>115.860500</td>\n",
       "      <td>890</td>\n",
       "      <td>9</td>\n",
       "      <td>869</td>\n",
       "      <td>12.0</td>\n",
       "      <td>Western Australia, Australia</td>\n",
       "      <td>33.832586</td>\n",
       "      <td>1.011236</td>\n",
       "    </tr>\n",
       "    <tr>\n",
       "      <th>16</th>\n",
       "      <td>NaN</td>\n",
       "      <td>NaN</td>\n",
       "      <td>NaN</td>\n",
       "      <td>Austria</td>\n",
       "      <td>2021-01-22 05:22:10</td>\n",
       "      <td>47.516200</td>\n",
       "      <td>14.550100</td>\n",
       "      <td>399798</td>\n",
       "      <td>7288</td>\n",
       "      <td>376360</td>\n",
       "      <td>16150.0</td>\n",
       "      <td>Austria</td>\n",
       "      <td>4439.043347</td>\n",
       "      <td>1.822921</td>\n",
       "    </tr>\n",
       "    <tr>\n",
       "      <th>17</th>\n",
       "      <td>NaN</td>\n",
       "      <td>NaN</td>\n",
       "      <td>NaN</td>\n",
       "      <td>Azerbaijan</td>\n",
       "      <td>2021-01-22 05:22:10</td>\n",
       "      <td>40.143100</td>\n",
       "      <td>47.576900</td>\n",
       "      <td>228246</td>\n",
       "      <td>3053</td>\n",
       "      <td>218387</td>\n",
       "      <td>6806.0</td>\n",
       "      <td>Azerbaijan</td>\n",
       "      <td>2251.129900</td>\n",
       "      <td>1.337592</td>\n",
       "    </tr>\n",
       "    <tr>\n",
       "      <th>18</th>\n",
       "      <td>NaN</td>\n",
       "      <td>NaN</td>\n",
       "      <td>NaN</td>\n",
       "      <td>Bahamas</td>\n",
       "      <td>2021-01-22 05:22:10</td>\n",
       "      <td>25.025885</td>\n",
       "      <td>-78.035889</td>\n",
       "      <td>8088</td>\n",
       "      <td>175</td>\n",
       "      <td>6720</td>\n",
       "      <td>1193.0</td>\n",
       "      <td>Bahamas</td>\n",
       "      <td>2056.717390</td>\n",
       "      <td>2.163699</td>\n",
       "    </tr>\n",
       "    <tr>\n",
       "      <th>19</th>\n",
       "      <td>NaN</td>\n",
       "      <td>NaN</td>\n",
       "      <td>NaN</td>\n",
       "      <td>Bahrain</td>\n",
       "      <td>2021-01-22 05:22:10</td>\n",
       "      <td>26.027500</td>\n",
       "      <td>50.550000</td>\n",
       "      <td>98878</td>\n",
       "      <td>366</td>\n",
       "      <td>95594</td>\n",
       "      <td>2918.0</td>\n",
       "      <td>Bahrain</td>\n",
       "      <td>5810.941929</td>\n",
       "      <td>0.370153</td>\n",
       "    </tr>\n",
       "    <tr>\n",
       "      <th>20</th>\n",
       "      <td>NaN</td>\n",
       "      <td>NaN</td>\n",
       "      <td>NaN</td>\n",
       "      <td>Bangladesh</td>\n",
       "      <td>2021-01-22 05:22:10</td>\n",
       "      <td>23.685000</td>\n",
       "      <td>90.356300</td>\n",
       "      <td>530271</td>\n",
       "      <td>7966</td>\n",
       "      <td>475074</td>\n",
       "      <td>47231.0</td>\n",
       "      <td>Bangladesh</td>\n",
       "      <td>321.982504</td>\n",
       "      <td>1.502251</td>\n",
       "    </tr>\n",
       "    <tr>\n",
       "      <th>21</th>\n",
       "      <td>NaN</td>\n",
       "      <td>NaN</td>\n",
       "      <td>NaN</td>\n",
       "      <td>Barbados</td>\n",
       "      <td>2021-01-22 05:22:10</td>\n",
       "      <td>13.193900</td>\n",
       "      <td>-59.543200</td>\n",
       "      <td>1156</td>\n",
       "      <td>9</td>\n",
       "      <td>493</td>\n",
       "      <td>654.0</td>\n",
       "      <td>Barbados</td>\n",
       "      <td>402.267452</td>\n",
       "      <td>0.778547</td>\n",
       "    </tr>\n",
       "    <tr>\n",
       "      <th>22</th>\n",
       "      <td>NaN</td>\n",
       "      <td>NaN</td>\n",
       "      <td>NaN</td>\n",
       "      <td>Belarus</td>\n",
       "      <td>2021-01-22 05:22:10</td>\n",
       "      <td>53.709800</td>\n",
       "      <td>27.953400</td>\n",
       "      <td>232298</td>\n",
       "      <td>1619</td>\n",
       "      <td>216744</td>\n",
       "      <td>13935.0</td>\n",
       "      <td>Belarus</td>\n",
       "      <td>2458.356532</td>\n",
       "      <td>0.696950</td>\n",
       "    </tr>\n",
       "    <tr>\n",
       "      <th>23</th>\n",
       "      <td>NaN</td>\n",
       "      <td>NaN</td>\n",
       "      <td>Antwerp</td>\n",
       "      <td>Belgium</td>\n",
       "      <td>2021-01-22 05:22:10</td>\n",
       "      <td>51.219500</td>\n",
       "      <td>4.402400</td>\n",
       "      <td>85350</td>\n",
       "      <td>0</td>\n",
       "      <td>0</td>\n",
       "      <td>85350.0</td>\n",
       "      <td>Antwerp, Belgium</td>\n",
       "      <td>4593.683698</td>\n",
       "      <td>0.000000</td>\n",
       "    </tr>\n",
       "    <tr>\n",
       "      <th>24</th>\n",
       "      <td>NaN</td>\n",
       "      <td>NaN</td>\n",
       "      <td>Brussels</td>\n",
       "      <td>Belgium</td>\n",
       "      <td>2021-01-22 05:22:10</td>\n",
       "      <td>50.850300</td>\n",
       "      <td>4.351700</td>\n",
       "      <td>86009</td>\n",
       "      <td>0</td>\n",
       "      <td>0</td>\n",
       "      <td>86009.0</td>\n",
       "      <td>Brussels, Belgium</td>\n",
       "      <td>7116.757217</td>\n",
       "      <td>0.000000</td>\n",
       "    </tr>\n",
       "    <tr>\n",
       "      <th>25</th>\n",
       "      <td>NaN</td>\n",
       "      <td>NaN</td>\n",
       "      <td>East Flanders</td>\n",
       "      <td>Belgium</td>\n",
       "      <td>2021-01-22 05:22:10</td>\n",
       "      <td>51.036200</td>\n",
       "      <td>3.737300</td>\n",
       "      <td>70572</td>\n",
       "      <td>0</td>\n",
       "      <td>0</td>\n",
       "      <td>70572.0</td>\n",
       "      <td>East Flanders, Belgium</td>\n",
       "      <td>4658.021047</td>\n",
       "      <td>0.000000</td>\n",
       "    </tr>\n",
       "    <tr>\n",
       "      <th>26</th>\n",
       "      <td>NaN</td>\n",
       "      <td>NaN</td>\n",
       "      <td>Flemish Brabant</td>\n",
       "      <td>Belgium</td>\n",
       "      <td>2021-01-22 05:22:10</td>\n",
       "      <td>50.916700</td>\n",
       "      <td>4.583300</td>\n",
       "      <td>52263</td>\n",
       "      <td>0</td>\n",
       "      <td>0</td>\n",
       "      <td>52263.0</td>\n",
       "      <td>Flemish Brabant, Belgium</td>\n",
       "      <td>4559.774903</td>\n",
       "      <td>0.000000</td>\n",
       "    </tr>\n",
       "    <tr>\n",
       "      <th>27</th>\n",
       "      <td>NaN</td>\n",
       "      <td>NaN</td>\n",
       "      <td>Hainaut</td>\n",
       "      <td>Belgium</td>\n",
       "      <td>2021-01-22 05:22:10</td>\n",
       "      <td>50.525700</td>\n",
       "      <td>4.062100</td>\n",
       "      <td>106426</td>\n",
       "      <td>0</td>\n",
       "      <td>0</td>\n",
       "      <td>106426.0</td>\n",
       "      <td>Hainaut, Belgium</td>\n",
       "      <td>7917.181517</td>\n",
       "      <td>0.000000</td>\n",
       "    </tr>\n",
       "    <tr>\n",
       "      <th>28</th>\n",
       "      <td>NaN</td>\n",
       "      <td>NaN</td>\n",
       "      <td>Liege</td>\n",
       "      <td>Belgium</td>\n",
       "      <td>2021-01-22 05:22:10</td>\n",
       "      <td>50.449600</td>\n",
       "      <td>5.849200</td>\n",
       "      <td>99865</td>\n",
       "      <td>0</td>\n",
       "      <td>0</td>\n",
       "      <td>99865.0</td>\n",
       "      <td>Liege, Belgium</td>\n",
       "      <td>9021.293740</td>\n",
       "      <td>0.000000</td>\n",
       "    </tr>\n",
       "    <tr>\n",
       "      <th>29</th>\n",
       "      <td>NaN</td>\n",
       "      <td>NaN</td>\n",
       "      <td>Limburg</td>\n",
       "      <td>Belgium</td>\n",
       "      <td>2021-01-22 05:22:10</td>\n",
       "      <td>50.973900</td>\n",
       "      <td>5.342000</td>\n",
       "      <td>32390</td>\n",
       "      <td>0</td>\n",
       "      <td>0</td>\n",
       "      <td>32390.0</td>\n",
       "      <td>Limburg, Belgium</td>\n",
       "      <td>3705.746138</td>\n",
       "      <td>0.000000</td>\n",
       "    </tr>\n",
       "    <tr>\n",
       "      <th>...</th>\n",
       "      <td>...</td>\n",
       "      <td>...</td>\n",
       "      <td>...</td>\n",
       "      <td>...</td>\n",
       "      <td>...</td>\n",
       "      <td>...</td>\n",
       "      <td>...</td>\n",
       "      <td>...</td>\n",
       "      <td>...</td>\n",
       "      <td>...</td>\n",
       "      <td>...</td>\n",
       "      <td>...</td>\n",
       "      <td>...</td>\n",
       "      <td>...</td>\n",
       "    </tr>\n",
       "    <tr>\n",
       "      <th>3957</th>\n",
       "      <td>NaN</td>\n",
       "      <td>NaN</td>\n",
       "      <td>British Virgin Islands</td>\n",
       "      <td>United Kingdom</td>\n",
       "      <td>2021-01-22 05:22:10</td>\n",
       "      <td>18.420700</td>\n",
       "      <td>-64.640000</td>\n",
       "      <td>114</td>\n",
       "      <td>1</td>\n",
       "      <td>95</td>\n",
       "      <td>18.0</td>\n",
       "      <td>British Virgin Islands, United Kingdom</td>\n",
       "      <td>377.021530</td>\n",
       "      <td>0.877193</td>\n",
       "    </tr>\n",
       "    <tr>\n",
       "      <th>3958</th>\n",
       "      <td>NaN</td>\n",
       "      <td>NaN</td>\n",
       "      <td>Cayman Islands</td>\n",
       "      <td>United Kingdom</td>\n",
       "      <td>2021-01-22 05:22:10</td>\n",
       "      <td>19.313300</td>\n",
       "      <td>-81.254600</td>\n",
       "      <td>382</td>\n",
       "      <td>2</td>\n",
       "      <td>346</td>\n",
       "      <td>34.0</td>\n",
       "      <td>Cayman Islands, United Kingdom</td>\n",
       "      <td>581.253804</td>\n",
       "      <td>0.523560</td>\n",
       "    </tr>\n",
       "    <tr>\n",
       "      <th>3959</th>\n",
       "      <td>NaN</td>\n",
       "      <td>NaN</td>\n",
       "      <td>Channel Islands</td>\n",
       "      <td>United Kingdom</td>\n",
       "      <td>2021-01-22 05:22:10</td>\n",
       "      <td>49.372300</td>\n",
       "      <td>-2.364400</td>\n",
       "      <td>3407</td>\n",
       "      <td>78</td>\n",
       "      <td>3148</td>\n",
       "      <td>181.0</td>\n",
       "      <td>Channel Islands, United Kingdom</td>\n",
       "      <td>1998.252189</td>\n",
       "      <td>2.289404</td>\n",
       "    </tr>\n",
       "    <tr>\n",
       "      <th>3960</th>\n",
       "      <td>NaN</td>\n",
       "      <td>NaN</td>\n",
       "      <td>England</td>\n",
       "      <td>United Kingdom</td>\n",
       "      <td>2021-01-22 05:22:10</td>\n",
       "      <td>52.355500</td>\n",
       "      <td>-1.174300</td>\n",
       "      <td>3092041</td>\n",
       "      <td>82939</td>\n",
       "      <td>0</td>\n",
       "      <td>3009102.0</td>\n",
       "      <td>England, United Kingdom</td>\n",
       "      <td>5523.750741</td>\n",
       "      <td>2.682338</td>\n",
       "    </tr>\n",
       "    <tr>\n",
       "      <th>3961</th>\n",
       "      <td>NaN</td>\n",
       "      <td>NaN</td>\n",
       "      <td>Falkland Islands (Malvinas)</td>\n",
       "      <td>United Kingdom</td>\n",
       "      <td>2021-01-22 05:22:10</td>\n",
       "      <td>-51.796300</td>\n",
       "      <td>-59.523600</td>\n",
       "      <td>35</td>\n",
       "      <td>0</td>\n",
       "      <td>29</td>\n",
       "      <td>6.0</td>\n",
       "      <td>Falkland Islands (Malvinas), United Kingdom</td>\n",
       "      <td>1004.880850</td>\n",
       "      <td>0.000000</td>\n",
       "    </tr>\n",
       "    <tr>\n",
       "      <th>3962</th>\n",
       "      <td>NaN</td>\n",
       "      <td>NaN</td>\n",
       "      <td>Gibraltar</td>\n",
       "      <td>United Kingdom</td>\n",
       "      <td>2021-01-22 05:22:10</td>\n",
       "      <td>36.140800</td>\n",
       "      <td>-5.353600</td>\n",
       "      <td>3881</td>\n",
       "      <td>59</td>\n",
       "      <td>3033</td>\n",
       "      <td>789.0</td>\n",
       "      <td>Gibraltar, United Kingdom</td>\n",
       "      <td>11519.396872</td>\n",
       "      <td>1.520227</td>\n",
       "    </tr>\n",
       "    <tr>\n",
       "      <th>3963</th>\n",
       "      <td>NaN</td>\n",
       "      <td>NaN</td>\n",
       "      <td>Isle of Man</td>\n",
       "      <td>United Kingdom</td>\n",
       "      <td>2021-01-22 05:22:10</td>\n",
       "      <td>54.236100</td>\n",
       "      <td>-4.548100</td>\n",
       "      <td>432</td>\n",
       "      <td>25</td>\n",
       "      <td>357</td>\n",
       "      <td>50.0</td>\n",
       "      <td>Isle of Man, United Kingdom</td>\n",
       "      <td>508.044030</td>\n",
       "      <td>5.787037</td>\n",
       "    </tr>\n",
       "    <tr>\n",
       "      <th>3964</th>\n",
       "      <td>NaN</td>\n",
       "      <td>NaN</td>\n",
       "      <td>Montserrat</td>\n",
       "      <td>United Kingdom</td>\n",
       "      <td>2021-01-22 05:22:10</td>\n",
       "      <td>16.742498</td>\n",
       "      <td>-62.187366</td>\n",
       "      <td>13</td>\n",
       "      <td>1</td>\n",
       "      <td>12</td>\n",
       "      <td>0.0</td>\n",
       "      <td>Montserrat, United Kingdom</td>\n",
       "      <td>260.052010</td>\n",
       "      <td>7.692308</td>\n",
       "    </tr>\n",
       "    <tr>\n",
       "      <th>3965</th>\n",
       "      <td>NaN</td>\n",
       "      <td>NaN</td>\n",
       "      <td>Northern Ireland</td>\n",
       "      <td>United Kingdom</td>\n",
       "      <td>2021-01-22 05:22:10</td>\n",
       "      <td>54.787700</td>\n",
       "      <td>-6.492300</td>\n",
       "      <td>98351</td>\n",
       "      <td>1692</td>\n",
       "      <td>0</td>\n",
       "      <td>96659.0</td>\n",
       "      <td>Northern Ireland, United Kingdom</td>\n",
       "      <td>5226.987670</td>\n",
       "      <td>1.720369</td>\n",
       "    </tr>\n",
       "    <tr>\n",
       "      <th>3966</th>\n",
       "      <td>NaN</td>\n",
       "      <td>NaN</td>\n",
       "      <td>Saint Helena, Ascension and Tristan da Cunha</td>\n",
       "      <td>United Kingdom</td>\n",
       "      <td>2021-01-22 05:22:10</td>\n",
       "      <td>-7.946700</td>\n",
       "      <td>-14.355900</td>\n",
       "      <td>4</td>\n",
       "      <td>0</td>\n",
       "      <td>4</td>\n",
       "      <td>0.0</td>\n",
       "      <td>Saint Helena, Ascension and Tristan da Cunha, ...</td>\n",
       "      <td>NaN</td>\n",
       "      <td>NaN</td>\n",
       "    </tr>\n",
       "    <tr>\n",
       "      <th>3967</th>\n",
       "      <td>NaN</td>\n",
       "      <td>NaN</td>\n",
       "      <td>Scotland</td>\n",
       "      <td>United Kingdom</td>\n",
       "      <td>2021-01-22 05:22:10</td>\n",
       "      <td>56.490700</td>\n",
       "      <td>-4.202600</td>\n",
       "      <td>168219</td>\n",
       "      <td>5557</td>\n",
       "      <td>0</td>\n",
       "      <td>162662.0</td>\n",
       "      <td>Scotland, United Kingdom</td>\n",
       "      <td>3079.073088</td>\n",
       "      <td>3.303432</td>\n",
       "    </tr>\n",
       "    <tr>\n",
       "      <th>3968</th>\n",
       "      <td>NaN</td>\n",
       "      <td>NaN</td>\n",
       "      <td>Turks and Caicos Islands</td>\n",
       "      <td>United Kingdom</td>\n",
       "      <td>2021-01-22 05:22:10</td>\n",
       "      <td>21.694000</td>\n",
       "      <td>-71.797900</td>\n",
       "      <td>1164</td>\n",
       "      <td>7</td>\n",
       "      <td>935</td>\n",
       "      <td>222.0</td>\n",
       "      <td>Turks and Caicos Islands, United Kingdom</td>\n",
       "      <td>3006.353634</td>\n",
       "      <td>0.601375</td>\n",
       "    </tr>\n",
       "    <tr>\n",
       "      <th>3969</th>\n",
       "      <td>NaN</td>\n",
       "      <td>NaN</td>\n",
       "      <td>Unknown</td>\n",
       "      <td>United Kingdom</td>\n",
       "      <td>2021-01-22 05:22:10</td>\n",
       "      <td>NaN</td>\n",
       "      <td>NaN</td>\n",
       "      <td>0</td>\n",
       "      <td>0</td>\n",
       "      <td>0</td>\n",
       "      <td>0.0</td>\n",
       "      <td>Unknown, United Kingdom</td>\n",
       "      <td>NaN</td>\n",
       "      <td>NaN</td>\n",
       "    </tr>\n",
       "    <tr>\n",
       "      <th>3970</th>\n",
       "      <td>NaN</td>\n",
       "      <td>NaN</td>\n",
       "      <td>Wales</td>\n",
       "      <td>United Kingdom</td>\n",
       "      <td>2021-01-22 05:22:10</td>\n",
       "      <td>52.130700</td>\n",
       "      <td>-3.783700</td>\n",
       "      <td>185035</td>\n",
       "      <td>4392</td>\n",
       "      <td>0</td>\n",
       "      <td>180643.0</td>\n",
       "      <td>Wales, United Kingdom</td>\n",
       "      <td>5895.462945</td>\n",
       "      <td>2.373605</td>\n",
       "    </tr>\n",
       "    <tr>\n",
       "      <th>3971</th>\n",
       "      <td>NaN</td>\n",
       "      <td>NaN</td>\n",
       "      <td>NaN</td>\n",
       "      <td>Uruguay</td>\n",
       "      <td>2021-01-22 05:22:10</td>\n",
       "      <td>-32.522800</td>\n",
       "      <td>-55.765800</td>\n",
       "      <td>34992</td>\n",
       "      <td>347</td>\n",
       "      <td>26927</td>\n",
       "      <td>7718.0</td>\n",
       "      <td>Uruguay</td>\n",
       "      <td>1007.333046</td>\n",
       "      <td>0.991655</td>\n",
       "    </tr>\n",
       "    <tr>\n",
       "      <th>3972</th>\n",
       "      <td>NaN</td>\n",
       "      <td>NaN</td>\n",
       "      <td>NaN</td>\n",
       "      <td>Uzbekistan</td>\n",
       "      <td>2021-01-22 05:22:10</td>\n",
       "      <td>41.377491</td>\n",
       "      <td>64.585262</td>\n",
       "      <td>78219</td>\n",
       "      <td>620</td>\n",
       "      <td>76655</td>\n",
       "      <td>944.0</td>\n",
       "      <td>Uzbekistan</td>\n",
       "      <td>233.704428</td>\n",
       "      <td>0.792646</td>\n",
       "    </tr>\n",
       "    <tr>\n",
       "      <th>3973</th>\n",
       "      <td>NaN</td>\n",
       "      <td>NaN</td>\n",
       "      <td>NaN</td>\n",
       "      <td>Vanuatu</td>\n",
       "      <td>2021-01-22 05:22:10</td>\n",
       "      <td>-15.376700</td>\n",
       "      <td>166.959200</td>\n",
       "      <td>1</td>\n",
       "      <td>0</td>\n",
       "      <td>1</td>\n",
       "      <td>0.0</td>\n",
       "      <td>Vanuatu</td>\n",
       "      <td>0.341670</td>\n",
       "      <td>0.000000</td>\n",
       "    </tr>\n",
       "    <tr>\n",
       "      <th>3974</th>\n",
       "      <td>NaN</td>\n",
       "      <td>NaN</td>\n",
       "      <td>NaN</td>\n",
       "      <td>Venezuela</td>\n",
       "      <td>2021-01-22 05:22:10</td>\n",
       "      <td>6.423800</td>\n",
       "      <td>-66.589700</td>\n",
       "      <td>122260</td>\n",
       "      <td>1129</td>\n",
       "      <td>114299</td>\n",
       "      <td>6832.0</td>\n",
       "      <td>Venezuela</td>\n",
       "      <td>429.948815</td>\n",
       "      <td>0.923442</td>\n",
       "    </tr>\n",
       "    <tr>\n",
       "      <th>3975</th>\n",
       "      <td>NaN</td>\n",
       "      <td>NaN</td>\n",
       "      <td>NaN</td>\n",
       "      <td>Vietnam</td>\n",
       "      <td>2021-01-22 05:22:10</td>\n",
       "      <td>14.058324</td>\n",
       "      <td>108.277199</td>\n",
       "      <td>1546</td>\n",
       "      <td>35</td>\n",
       "      <td>1411</td>\n",
       "      <td>100.0</td>\n",
       "      <td>Vietnam</td>\n",
       "      <td>1.588271</td>\n",
       "      <td>2.263907</td>\n",
       "    </tr>\n",
       "    <tr>\n",
       "      <th>3976</th>\n",
       "      <td>NaN</td>\n",
       "      <td>NaN</td>\n",
       "      <td>NaN</td>\n",
       "      <td>West Bank and Gaza</td>\n",
       "      <td>2021-01-22 05:22:10</td>\n",
       "      <td>31.952200</td>\n",
       "      <td>35.233200</td>\n",
       "      <td>154063</td>\n",
       "      <td>1757</td>\n",
       "      <td>142819</td>\n",
       "      <td>9487.0</td>\n",
       "      <td>West Bank and Gaza</td>\n",
       "      <td>3020.004642</td>\n",
       "      <td>1.140443</td>\n",
       "    </tr>\n",
       "    <tr>\n",
       "      <th>3977</th>\n",
       "      <td>NaN</td>\n",
       "      <td>NaN</td>\n",
       "      <td>NaN</td>\n",
       "      <td>Yemen</td>\n",
       "      <td>2021-01-22 05:22:10</td>\n",
       "      <td>15.552727</td>\n",
       "      <td>48.516388</td>\n",
       "      <td>2115</td>\n",
       "      <td>614</td>\n",
       "      <td>1423</td>\n",
       "      <td>78.0</td>\n",
       "      <td>Yemen</td>\n",
       "      <td>7.091136</td>\n",
       "      <td>29.030733</td>\n",
       "    </tr>\n",
       "    <tr>\n",
       "      <th>3978</th>\n",
       "      <td>NaN</td>\n",
       "      <td>NaN</td>\n",
       "      <td>NaN</td>\n",
       "      <td>Zambia</td>\n",
       "      <td>2021-01-22 05:22:10</td>\n",
       "      <td>-13.133897</td>\n",
       "      <td>27.849332</td>\n",
       "      <td>42213</td>\n",
       "      <td>597</td>\n",
       "      <td>31522</td>\n",
       "      <td>10094.0</td>\n",
       "      <td>Zambia</td>\n",
       "      <td>229.618696</td>\n",
       "      <td>1.414256</td>\n",
       "    </tr>\n",
       "    <tr>\n",
       "      <th>3979</th>\n",
       "      <td>NaN</td>\n",
       "      <td>NaN</td>\n",
       "      <td>NaN</td>\n",
       "      <td>Zimbabwe</td>\n",
       "      <td>2021-01-22 05:22:10</td>\n",
       "      <td>-19.015438</td>\n",
       "      <td>29.154857</td>\n",
       "      <td>30047</td>\n",
       "      <td>917</td>\n",
       "      <td>19569</td>\n",
       "      <td>9561.0</td>\n",
       "      <td>Zimbabwe</td>\n",
       "      <td>202.160718</td>\n",
       "      <td>3.051885</td>\n",
       "    </tr>\n",
       "    <tr>\n",
       "      <th>3980</th>\n",
       "      <td>2066.0</td>\n",
       "      <td>Copper River</td>\n",
       "      <td>Alaska</td>\n",
       "      <td>US</td>\n",
       "      <td>2021-04-02 15:13:53</td>\n",
       "      <td>60.388600</td>\n",
       "      <td>-162.890520</td>\n",
       "      <td>177</td>\n",
       "      <td>0</td>\n",
       "      <td>0</td>\n",
       "      <td>0.0</td>\n",
       "      <td>Copper River, Alaska, US</td>\n",
       "      <td>NaN</td>\n",
       "      <td>NaN</td>\n",
       "    </tr>\n",
       "    <tr>\n",
       "      <th>3981</th>\n",
       "      <td>2063.0</td>\n",
       "      <td>Chugach</td>\n",
       "      <td>Alaska</td>\n",
       "      <td>US</td>\n",
       "      <td>2021-04-02 15:13:53</td>\n",
       "      <td>61.166660</td>\n",
       "      <td>-149.900000</td>\n",
       "      <td>248</td>\n",
       "      <td>3</td>\n",
       "      <td>0</td>\n",
       "      <td>0.0</td>\n",
       "      <td>Chugach, Alaska, US</td>\n",
       "      <td>NaN</td>\n",
       "      <td>NaN</td>\n",
       "    </tr>\n",
       "    <tr>\n",
       "      <th>3982</th>\n",
       "      <td>NaN</td>\n",
       "      <td>NaN</td>\n",
       "      <td>Unknown</td>\n",
       "      <td>China</td>\n",
       "      <td>2021-01-22 05:22:10</td>\n",
       "      <td>NaN</td>\n",
       "      <td>NaN</td>\n",
       "      <td>0</td>\n",
       "      <td>0</td>\n",
       "      <td>0</td>\n",
       "      <td>0.0</td>\n",
       "      <td>Unknown, China</td>\n",
       "      <td>0.000000</td>\n",
       "      <td>0.000000</td>\n",
       "    </tr>\n",
       "    <tr>\n",
       "      <th>3983</th>\n",
       "      <td>NaN</td>\n",
       "      <td>NaN</td>\n",
       "      <td>NaN</td>\n",
       "      <td>Kiribati</td>\n",
       "      <td>2021-01-22 05:22:10</td>\n",
       "      <td>-3.370400</td>\n",
       "      <td>-168.734000</td>\n",
       "      <td>0</td>\n",
       "      <td>0</td>\n",
       "      <td>0</td>\n",
       "      <td>0.0</td>\n",
       "      <td>Kiribati</td>\n",
       "      <td>0.000000</td>\n",
       "      <td>0.000000</td>\n",
       "    </tr>\n",
       "    <tr>\n",
       "      <th>3984</th>\n",
       "      <td>NaN</td>\n",
       "      <td>NaN</td>\n",
       "      <td>NaN</td>\n",
       "      <td>Palau</td>\n",
       "      <td>2021-01-22 05:22:10</td>\n",
       "      <td>7.515000</td>\n",
       "      <td>134.582500</td>\n",
       "      <td>0</td>\n",
       "      <td>0</td>\n",
       "      <td>0</td>\n",
       "      <td>0.0</td>\n",
       "      <td>Palau</td>\n",
       "      <td>0.000000</td>\n",
       "      <td>0.000000</td>\n",
       "    </tr>\n",
       "    <tr>\n",
       "      <th>3985</th>\n",
       "      <td>NaN</td>\n",
       "      <td>NaN</td>\n",
       "      <td>Cook Islands</td>\n",
       "      <td>New Zealand</td>\n",
       "      <td>2021-01-22 05:22:10</td>\n",
       "      <td>-21.236700</td>\n",
       "      <td>-159.777700</td>\n",
       "      <td>0</td>\n",
       "      <td>0</td>\n",
       "      <td>0</td>\n",
       "      <td>0.0</td>\n",
       "      <td>Cook Islands, New Zealand</td>\n",
       "      <td>0.000000</td>\n",
       "      <td>0.000000</td>\n",
       "    </tr>\n",
       "    <tr>\n",
       "      <th>3986</th>\n",
       "      <td>NaN</td>\n",
       "      <td>NaN</td>\n",
       "      <td>NaN</td>\n",
       "      <td>Summer Olympics 2020</td>\n",
       "      <td>2021-01-22 05:22:10</td>\n",
       "      <td>35.649100</td>\n",
       "      <td>139.773700</td>\n",
       "      <td>0</td>\n",
       "      <td>0</td>\n",
       "      <td>0</td>\n",
       "      <td>0.0</td>\n",
       "      <td>Summer Olympics 2020</td>\n",
       "      <td>0.000000</td>\n",
       "      <td>0.000000</td>\n",
       "    </tr>\n",
       "  </tbody>\n",
       "</table>\n",
       "<p>3987 rows × 14 columns</p>\n",
       "</div>"
      ],
      "text/plain": [
       "        FIPS        Admin2                                Province_State  \\\n",
       "0        NaN           NaN                                           NaN   \n",
       "1        NaN           NaN                                           NaN   \n",
       "2        NaN           NaN                                           NaN   \n",
       "3        NaN           NaN                                           NaN   \n",
       "4        NaN           NaN                                           NaN   \n",
       "5        NaN           NaN                                           NaN   \n",
       "6        NaN           NaN                                           NaN   \n",
       "7        NaN           NaN                                           NaN   \n",
       "8        NaN           NaN                  Australian Capital Territory   \n",
       "9        NaN           NaN                               New South Wales   \n",
       "10       NaN           NaN                            Northern Territory   \n",
       "11       NaN           NaN                                    Queensland   \n",
       "12       NaN           NaN                               South Australia   \n",
       "13       NaN           NaN                                      Tasmania   \n",
       "14       NaN           NaN                                      Victoria   \n",
       "15       NaN           NaN                             Western Australia   \n",
       "16       NaN           NaN                                           NaN   \n",
       "17       NaN           NaN                                           NaN   \n",
       "18       NaN           NaN                                           NaN   \n",
       "19       NaN           NaN                                           NaN   \n",
       "20       NaN           NaN                                           NaN   \n",
       "21       NaN           NaN                                           NaN   \n",
       "22       NaN           NaN                                           NaN   \n",
       "23       NaN           NaN                                       Antwerp   \n",
       "24       NaN           NaN                                      Brussels   \n",
       "25       NaN           NaN                                 East Flanders   \n",
       "26       NaN           NaN                               Flemish Brabant   \n",
       "27       NaN           NaN                                       Hainaut   \n",
       "28       NaN           NaN                                         Liege   \n",
       "29       NaN           NaN                                       Limburg   \n",
       "...      ...           ...                                           ...   \n",
       "3957     NaN           NaN                        British Virgin Islands   \n",
       "3958     NaN           NaN                                Cayman Islands   \n",
       "3959     NaN           NaN                               Channel Islands   \n",
       "3960     NaN           NaN                                       England   \n",
       "3961     NaN           NaN                   Falkland Islands (Malvinas)   \n",
       "3962     NaN           NaN                                     Gibraltar   \n",
       "3963     NaN           NaN                                   Isle of Man   \n",
       "3964     NaN           NaN                                    Montserrat   \n",
       "3965     NaN           NaN                              Northern Ireland   \n",
       "3966     NaN           NaN  Saint Helena, Ascension and Tristan da Cunha   \n",
       "3967     NaN           NaN                                      Scotland   \n",
       "3968     NaN           NaN                      Turks and Caicos Islands   \n",
       "3969     NaN           NaN                                       Unknown   \n",
       "3970     NaN           NaN                                         Wales   \n",
       "3971     NaN           NaN                                           NaN   \n",
       "3972     NaN           NaN                                           NaN   \n",
       "3973     NaN           NaN                                           NaN   \n",
       "3974     NaN           NaN                                           NaN   \n",
       "3975     NaN           NaN                                           NaN   \n",
       "3976     NaN           NaN                                           NaN   \n",
       "3977     NaN           NaN                                           NaN   \n",
       "3978     NaN           NaN                                           NaN   \n",
       "3979     NaN           NaN                                           NaN   \n",
       "3980  2066.0  Copper River                                        Alaska   \n",
       "3981  2063.0       Chugach                                        Alaska   \n",
       "3982     NaN           NaN                                       Unknown   \n",
       "3983     NaN           NaN                                           NaN   \n",
       "3984     NaN           NaN                                           NaN   \n",
       "3985     NaN           NaN                                  Cook Islands   \n",
       "3986     NaN           NaN                                           NaN   \n",
       "\n",
       "            Country_Region          Last_Update        Lat       Long_  \\\n",
       "0              Afghanistan  2021-01-22 05:22:10  33.939110   67.709953   \n",
       "1                  Albania  2021-01-22 05:22:10  41.153300   20.168300   \n",
       "2                  Algeria  2021-01-22 05:22:10  28.033900    1.659600   \n",
       "3                  Andorra  2021-01-22 05:22:10  42.506300    1.521800   \n",
       "4                   Angola  2021-01-22 05:22:10 -11.202700   17.873900   \n",
       "5      Antigua and Barbuda  2021-01-22 05:22:10  17.060800  -61.796400   \n",
       "6                Argentina  2021-01-22 05:22:10 -38.416100  -63.616700   \n",
       "7                  Armenia  2021-01-22 05:22:10  40.069100   45.038200   \n",
       "8                Australia  2021-01-22 05:22:10 -35.473500  149.012400   \n",
       "9                Australia  2021-01-22 05:22:10 -33.868800  151.209300   \n",
       "10               Australia  2021-01-22 05:22:10 -12.463400  130.845600   \n",
       "11               Australia  2021-01-22 05:22:10 -27.469800  153.025100   \n",
       "12               Australia  2021-01-22 05:22:10 -34.928500  138.600700   \n",
       "13               Australia  2021-01-22 05:22:10 -42.882100  147.327200   \n",
       "14               Australia  2021-01-22 05:22:10 -37.813600  144.963100   \n",
       "15               Australia  2021-01-22 05:22:10 -31.950500  115.860500   \n",
       "16                 Austria  2021-01-22 05:22:10  47.516200   14.550100   \n",
       "17              Azerbaijan  2021-01-22 05:22:10  40.143100   47.576900   \n",
       "18                 Bahamas  2021-01-22 05:22:10  25.025885  -78.035889   \n",
       "19                 Bahrain  2021-01-22 05:22:10  26.027500   50.550000   \n",
       "20              Bangladesh  2021-01-22 05:22:10  23.685000   90.356300   \n",
       "21                Barbados  2021-01-22 05:22:10  13.193900  -59.543200   \n",
       "22                 Belarus  2021-01-22 05:22:10  53.709800   27.953400   \n",
       "23                 Belgium  2021-01-22 05:22:10  51.219500    4.402400   \n",
       "24                 Belgium  2021-01-22 05:22:10  50.850300    4.351700   \n",
       "25                 Belgium  2021-01-22 05:22:10  51.036200    3.737300   \n",
       "26                 Belgium  2021-01-22 05:22:10  50.916700    4.583300   \n",
       "27                 Belgium  2021-01-22 05:22:10  50.525700    4.062100   \n",
       "28                 Belgium  2021-01-22 05:22:10  50.449600    5.849200   \n",
       "29                 Belgium  2021-01-22 05:22:10  50.973900    5.342000   \n",
       "...                    ...                  ...        ...         ...   \n",
       "3957        United Kingdom  2021-01-22 05:22:10  18.420700  -64.640000   \n",
       "3958        United Kingdom  2021-01-22 05:22:10  19.313300  -81.254600   \n",
       "3959        United Kingdom  2021-01-22 05:22:10  49.372300   -2.364400   \n",
       "3960        United Kingdom  2021-01-22 05:22:10  52.355500   -1.174300   \n",
       "3961        United Kingdom  2021-01-22 05:22:10 -51.796300  -59.523600   \n",
       "3962        United Kingdom  2021-01-22 05:22:10  36.140800   -5.353600   \n",
       "3963        United Kingdom  2021-01-22 05:22:10  54.236100   -4.548100   \n",
       "3964        United Kingdom  2021-01-22 05:22:10  16.742498  -62.187366   \n",
       "3965        United Kingdom  2021-01-22 05:22:10  54.787700   -6.492300   \n",
       "3966        United Kingdom  2021-01-22 05:22:10  -7.946700  -14.355900   \n",
       "3967        United Kingdom  2021-01-22 05:22:10  56.490700   -4.202600   \n",
       "3968        United Kingdom  2021-01-22 05:22:10  21.694000  -71.797900   \n",
       "3969        United Kingdom  2021-01-22 05:22:10        NaN         NaN   \n",
       "3970        United Kingdom  2021-01-22 05:22:10  52.130700   -3.783700   \n",
       "3971               Uruguay  2021-01-22 05:22:10 -32.522800  -55.765800   \n",
       "3972            Uzbekistan  2021-01-22 05:22:10  41.377491   64.585262   \n",
       "3973               Vanuatu  2021-01-22 05:22:10 -15.376700  166.959200   \n",
       "3974             Venezuela  2021-01-22 05:22:10   6.423800  -66.589700   \n",
       "3975               Vietnam  2021-01-22 05:22:10  14.058324  108.277199   \n",
       "3976    West Bank and Gaza  2021-01-22 05:22:10  31.952200   35.233200   \n",
       "3977                 Yemen  2021-01-22 05:22:10  15.552727   48.516388   \n",
       "3978                Zambia  2021-01-22 05:22:10 -13.133897   27.849332   \n",
       "3979              Zimbabwe  2021-01-22 05:22:10 -19.015438   29.154857   \n",
       "3980                    US  2021-04-02 15:13:53  60.388600 -162.890520   \n",
       "3981                    US  2021-04-02 15:13:53  61.166660 -149.900000   \n",
       "3982                 China  2021-01-22 05:22:10        NaN         NaN   \n",
       "3983              Kiribati  2021-01-22 05:22:10  -3.370400 -168.734000   \n",
       "3984                 Palau  2021-01-22 05:22:10   7.515000  134.582500   \n",
       "3985           New Zealand  2021-01-22 05:22:10 -21.236700 -159.777700   \n",
       "3986  Summer Olympics 2020  2021-01-22 05:22:10  35.649100  139.773700   \n",
       "\n",
       "      Confirmed  Deaths  Recovered     Active  \\\n",
       "0         54403    2363      46887     5153.0   \n",
       "1         69916    1296      42426    26194.0   \n",
       "2        104852    2853      71343    30656.0   \n",
       "3          9379      93       8474      812.0   \n",
       "4         19177     448      17176     1553.0   \n",
       "5           192       6        162       24.0   \n",
       "6       1843077   46355    1625755   170967.0   \n",
       "7        165528    3021     154046     8461.0   \n",
       "8           118       3        115        0.0   \n",
       "9          5083      54          0     1793.0   \n",
       "10           97       0         89        8.0   \n",
       "11         1303       6       1261       36.0   \n",
       "12          596       4        587        5.0   \n",
       "13          234      13        221        0.0   \n",
       "14        20434     820      19583       31.0   \n",
       "15          890       9        869       12.0   \n",
       "16       399798    7288     376360    16150.0   \n",
       "17       228246    3053     218387     6806.0   \n",
       "18         8088     175       6720     1193.0   \n",
       "19        98878     366      95594     2918.0   \n",
       "20       530271    7966     475074    47231.0   \n",
       "21         1156       9        493      654.0   \n",
       "22       232298    1619     216744    13935.0   \n",
       "23        85350       0          0    85350.0   \n",
       "24        86009       0          0    86009.0   \n",
       "25        70572       0          0    70572.0   \n",
       "26        52263       0          0    52263.0   \n",
       "27       106426       0          0   106426.0   \n",
       "28        99865       0          0    99865.0   \n",
       "29        32390       0          0    32390.0   \n",
       "...         ...     ...        ...        ...   \n",
       "3957        114       1         95       18.0   \n",
       "3958        382       2        346       34.0   \n",
       "3959       3407      78       3148      181.0   \n",
       "3960    3092041   82939          0  3009102.0   \n",
       "3961         35       0         29        6.0   \n",
       "3962       3881      59       3033      789.0   \n",
       "3963        432      25        357       50.0   \n",
       "3964         13       1         12        0.0   \n",
       "3965      98351    1692          0    96659.0   \n",
       "3966          4       0          4        0.0   \n",
       "3967     168219    5557          0   162662.0   \n",
       "3968       1164       7        935      222.0   \n",
       "3969          0       0          0        0.0   \n",
       "3970     185035    4392          0   180643.0   \n",
       "3971      34992     347      26927     7718.0   \n",
       "3972      78219     620      76655      944.0   \n",
       "3973          1       0          1        0.0   \n",
       "3974     122260    1129     114299     6832.0   \n",
       "3975       1546      35       1411      100.0   \n",
       "3976     154063    1757     142819     9487.0   \n",
       "3977       2115     614       1423       78.0   \n",
       "3978      42213     597      31522    10094.0   \n",
       "3979      30047     917      19569     9561.0   \n",
       "3980        177       0          0        0.0   \n",
       "3981        248       3          0        0.0   \n",
       "3982          0       0          0        0.0   \n",
       "3983          0       0          0        0.0   \n",
       "3984          0       0          0        0.0   \n",
       "3985          0       0          0        0.0   \n",
       "3986          0       0          0        0.0   \n",
       "\n",
       "                                           Combined_Key  Incident_Rate  \\\n",
       "0                                           Afghanistan     139.751653   \n",
       "1                                               Albania    2429.494753   \n",
       "2                                               Algeria     239.109478   \n",
       "3                                               Andorra   12138.743286   \n",
       "4                                                Angola      58.348578   \n",
       "5                                   Antigua and Barbuda     196.062413   \n",
       "6                                             Argentina    4077.984985   \n",
       "7                                               Armenia    5586.059015   \n",
       "8               Australian Capital Territory, Australia      27.563653   \n",
       "9                            New South Wales, Australia      62.613944   \n",
       "10                        Northern Territory, Australia      39.495114   \n",
       "11                                Queensland, Australia      25.471606   \n",
       "12                           South Australia, Australia      33.931113   \n",
       "13                                  Tasmania, Australia      43.697479   \n",
       "14                                  Victoria, Australia     308.209777   \n",
       "15                         Western Australia, Australia      33.832586   \n",
       "16                                              Austria    4439.043347   \n",
       "17                                           Azerbaijan    2251.129900   \n",
       "18                                              Bahamas    2056.717390   \n",
       "19                                              Bahrain    5810.941929   \n",
       "20                                           Bangladesh     321.982504   \n",
       "21                                             Barbados     402.267452   \n",
       "22                                              Belarus    2458.356532   \n",
       "23                                     Antwerp, Belgium    4593.683698   \n",
       "24                                    Brussels, Belgium    7116.757217   \n",
       "25                               East Flanders, Belgium    4658.021047   \n",
       "26                             Flemish Brabant, Belgium    4559.774903   \n",
       "27                                     Hainaut, Belgium    7917.181517   \n",
       "28                                       Liege, Belgium    9021.293740   \n",
       "29                                     Limburg, Belgium    3705.746138   \n",
       "...                                                 ...            ...   \n",
       "3957             British Virgin Islands, United Kingdom     377.021530   \n",
       "3958                     Cayman Islands, United Kingdom     581.253804   \n",
       "3959                    Channel Islands, United Kingdom    1998.252189   \n",
       "3960                            England, United Kingdom    5523.750741   \n",
       "3961        Falkland Islands (Malvinas), United Kingdom    1004.880850   \n",
       "3962                          Gibraltar, United Kingdom   11519.396872   \n",
       "3963                        Isle of Man, United Kingdom     508.044030   \n",
       "3964                         Montserrat, United Kingdom     260.052010   \n",
       "3965                   Northern Ireland, United Kingdom    5226.987670   \n",
       "3966  Saint Helena, Ascension and Tristan da Cunha, ...            NaN   \n",
       "3967                           Scotland, United Kingdom    3079.073088   \n",
       "3968           Turks and Caicos Islands, United Kingdom    3006.353634   \n",
       "3969                            Unknown, United Kingdom            NaN   \n",
       "3970                              Wales, United Kingdom    5895.462945   \n",
       "3971                                            Uruguay    1007.333046   \n",
       "3972                                         Uzbekistan     233.704428   \n",
       "3973                                            Vanuatu       0.341670   \n",
       "3974                                          Venezuela     429.948815   \n",
       "3975                                            Vietnam       1.588271   \n",
       "3976                                 West Bank and Gaza    3020.004642   \n",
       "3977                                              Yemen       7.091136   \n",
       "3978                                             Zambia     229.618696   \n",
       "3979                                           Zimbabwe     202.160718   \n",
       "3980                           Copper River, Alaska, US            NaN   \n",
       "3981                                Chugach, Alaska, US            NaN   \n",
       "3982                                     Unknown, China       0.000000   \n",
       "3983                                           Kiribati       0.000000   \n",
       "3984                                              Palau       0.000000   \n",
       "3985                          Cook Islands, New Zealand       0.000000   \n",
       "3986                               Summer Olympics 2020       0.000000   \n",
       "\n",
       "      Case_Fatality_Ratio  \n",
       "0                4.343510  \n",
       "1                1.853653  \n",
       "2                2.720978  \n",
       "3                0.991577  \n",
       "4                2.336132  \n",
       "5                3.125000  \n",
       "6                2.515088  \n",
       "7                1.825069  \n",
       "8                2.542373  \n",
       "9                1.062365  \n",
       "10               0.000000  \n",
       "11               0.460476  \n",
       "12               0.671141  \n",
       "13               5.555556  \n",
       "14               4.012920  \n",
       "15               1.011236  \n",
       "16               1.822921  \n",
       "17               1.337592  \n",
       "18               2.163699  \n",
       "19               0.370153  \n",
       "20               1.502251  \n",
       "21               0.778547  \n",
       "22               0.696950  \n",
       "23               0.000000  \n",
       "24               0.000000  \n",
       "25               0.000000  \n",
       "26               0.000000  \n",
       "27               0.000000  \n",
       "28               0.000000  \n",
       "29               0.000000  \n",
       "...                   ...  \n",
       "3957             0.877193  \n",
       "3958             0.523560  \n",
       "3959             2.289404  \n",
       "3960             2.682338  \n",
       "3961             0.000000  \n",
       "3962             1.520227  \n",
       "3963             5.787037  \n",
       "3964             7.692308  \n",
       "3965             1.720369  \n",
       "3966                  NaN  \n",
       "3967             3.303432  \n",
       "3968             0.601375  \n",
       "3969                  NaN  \n",
       "3970             2.373605  \n",
       "3971             0.991655  \n",
       "3972             0.792646  \n",
       "3973             0.000000  \n",
       "3974             0.923442  \n",
       "3975             2.263907  \n",
       "3976             1.140443  \n",
       "3977            29.030733  \n",
       "3978             1.414256  \n",
       "3979             3.051885  \n",
       "3980                  NaN  \n",
       "3981                  NaN  \n",
       "3982             0.000000  \n",
       "3983             0.000000  \n",
       "3984             0.000000  \n",
       "3985             0.000000  \n",
       "3986             0.000000  \n",
       "\n",
       "[3987 rows x 14 columns]"
      ]
     },
     "execution_count": 65,
     "metadata": {},
     "output_type": "execute_result"
    }
   ],
   "source": [
    "\n",
    "data = pd.read_csv('https://raw.githubusercontent.com/CSSEGISandData/COVID-19/master/csse_covid_19_data/csse_covid_19_daily_reports/01-21-2021.csv')\n",
    "data"
   ]
  },
  {
   "cell_type": "code",
   "execution_count": 93,
   "metadata": {},
   "outputs": [
    {
     "data": {
      "text/html": [
       "<div>\n",
       "<style scoped>\n",
       "    .dataframe tbody tr th:only-of-type {\n",
       "        vertical-align: middle;\n",
       "    }\n",
       "\n",
       "    .dataframe tbody tr th {\n",
       "        vertical-align: top;\n",
       "    }\n",
       "\n",
       "    .dataframe thead th {\n",
       "        text-align: right;\n",
       "    }\n",
       "</style>\n",
       "<table border=\"1\" class=\"dataframe\">\n",
       "  <thead>\n",
       "    <tr style=\"text-align: right;\">\n",
       "      <th></th>\n",
       "      <th>Country_Region</th>\n",
       "      <th>Recovered</th>\n",
       "    </tr>\n",
       "  </thead>\n",
       "  <tbody>\n",
       "    <tr>\n",
       "      <th>16</th>\n",
       "      <td>Belgium</td>\n",
       "      <td>0</td>\n",
       "    </tr>\n",
       "    <tr>\n",
       "      <th>91</th>\n",
       "      <td>Kiribati</td>\n",
       "      <td>0</td>\n",
       "    </tr>\n",
       "    <tr>\n",
       "      <th>116</th>\n",
       "      <td>Micronesia</td>\n",
       "      <td>0</td>\n",
       "    </tr>\n",
       "    <tr>\n",
       "      <th>134</th>\n",
       "      <td>Palau</td>\n",
       "      <td>0</td>\n",
       "    </tr>\n",
       "    <tr>\n",
       "      <th>154</th>\n",
       "      <td>Serbia</td>\n",
       "      <td>0</td>\n",
       "    </tr>\n",
       "    <tr>\n",
       "      <th>167</th>\n",
       "      <td>Summer Olympics 2020</td>\n",
       "      <td>0</td>\n",
       "    </tr>\n",
       "    <tr>\n",
       "      <th>169</th>\n",
       "      <td>Sweden</td>\n",
       "      <td>0</td>\n",
       "    </tr>\n",
       "    <tr>\n",
       "      <th>181</th>\n",
       "      <td>US</td>\n",
       "      <td>0</td>\n",
       "    </tr>\n",
       "  </tbody>\n",
       "</table>\n",
       "</div>"
      ],
      "text/plain": [
       "           Country_Region  Recovered\n",
       "16                Belgium          0\n",
       "91               Kiribati          0\n",
       "116            Micronesia          0\n",
       "134                 Palau          0\n",
       "154                Serbia          0\n",
       "167  Summer Olympics 2020          0\n",
       "169                Sweden          0\n",
       "181                    US          0"
      ]
     },
     "execution_count": 93,
     "metadata": {},
     "output_type": "execute_result"
    }
   ],
   "source": [
    "output = data[data['Recovered']==0][['Country_Region', 'Recovered']]\n",
    "output"
   ]
  },
  {
   "cell_type": "markdown",
   "metadata": {},
   "source": [
    "#### Show the countries with no confirmed cases"
   ]
  },
  {
   "cell_type": "code",
   "execution_count": 92,
   "metadata": {},
   "outputs": [
    {
     "data": {
      "text/html": [
       "<div>\n",
       "<style scoped>\n",
       "    .dataframe tbody tr th:only-of-type {\n",
       "        vertical-align: middle;\n",
       "    }\n",
       "\n",
       "    .dataframe tbody tr th {\n",
       "        vertical-align: top;\n",
       "    }\n",
       "\n",
       "    .dataframe thead th {\n",
       "        text-align: right;\n",
       "    }\n",
       "</style>\n",
       "<table border=\"1\" class=\"dataframe\">\n",
       "  <thead>\n",
       "    <tr style=\"text-align: right;\">\n",
       "      <th></th>\n",
       "      <th>Country_Region</th>\n",
       "      <th>Confirmed</th>\n",
       "    </tr>\n",
       "  </thead>\n",
       "  <tbody>\n",
       "    <tr>\n",
       "      <th>91</th>\n",
       "      <td>Kiribati</td>\n",
       "      <td>0</td>\n",
       "    </tr>\n",
       "    <tr>\n",
       "      <th>134</th>\n",
       "      <td>Palau</td>\n",
       "      <td>0</td>\n",
       "    </tr>\n",
       "    <tr>\n",
       "      <th>167</th>\n",
       "      <td>Summer Olympics 2020</td>\n",
       "      <td>0</td>\n",
       "    </tr>\n",
       "  </tbody>\n",
       "</table>\n",
       "</div>"
      ],
      "text/plain": [
       "           Country_Region  Confirmed\n",
       "91               Kiribati          0\n",
       "134                 Palau          0\n",
       "167  Summer Olympics 2020          0"
      ]
     },
     "execution_count": 92,
     "metadata": {},
     "output_type": "execute_result"
    }
   ],
   "source": [
    "output = data[data['Confirmed']==0][['Country_Region','Confirmed']]\n",
    "output"
   ]
  },
  {
   "cell_type": "markdown",
   "metadata": {},
   "source": [
    "#### Show the countries with no deaths"
   ]
  },
  {
   "cell_type": "code",
   "execution_count": 91,
   "metadata": {},
   "outputs": [
    {
     "data": {
      "text/html": [
       "<div>\n",
       "<style scoped>\n",
       "    .dataframe tbody tr th:only-of-type {\n",
       "        vertical-align: middle;\n",
       "    }\n",
       "\n",
       "    .dataframe tbody tr th {\n",
       "        vertical-align: top;\n",
       "    }\n",
       "\n",
       "    .dataframe thead th {\n",
       "        text-align: right;\n",
       "    }\n",
       "</style>\n",
       "<table border=\"1\" class=\"dataframe\">\n",
       "  <thead>\n",
       "    <tr style=\"text-align: right;\">\n",
       "      <th></th>\n",
       "      <th>Country_Region</th>\n",
       "      <th>Deaths</th>\n",
       "    </tr>\n",
       "  </thead>\n",
       "  <tbody>\n",
       "    <tr>\n",
       "      <th>30</th>\n",
       "      <td>Cambodia</td>\n",
       "      <td>0</td>\n",
       "    </tr>\n",
       "    <tr>\n",
       "      <th>50</th>\n",
       "      <td>Dominica</td>\n",
       "      <td>0</td>\n",
       "    </tr>\n",
       "    <tr>\n",
       "      <th>75</th>\n",
       "      <td>Holy See</td>\n",
       "      <td>0</td>\n",
       "    </tr>\n",
       "    <tr>\n",
       "      <th>91</th>\n",
       "      <td>Kiribati</td>\n",
       "      <td>0</td>\n",
       "    </tr>\n",
       "    <tr>\n",
       "      <th>96</th>\n",
       "      <td>Laos</td>\n",
       "      <td>0</td>\n",
       "    </tr>\n",
       "    <tr>\n",
       "      <th>112</th>\n",
       "      <td>Marshall Islands</td>\n",
       "      <td>0</td>\n",
       "    </tr>\n",
       "    <tr>\n",
       "      <th>116</th>\n",
       "      <td>Micronesia</td>\n",
       "      <td>0</td>\n",
       "    </tr>\n",
       "    <tr>\n",
       "      <th>134</th>\n",
       "      <td>Palau</td>\n",
       "      <td>0</td>\n",
       "    </tr>\n",
       "    <tr>\n",
       "      <th>146</th>\n",
       "      <td>Saint Kitts and Nevis</td>\n",
       "      <td>0</td>\n",
       "    </tr>\n",
       "    <tr>\n",
       "      <th>149</th>\n",
       "      <td>Samoa</td>\n",
       "      <td>0</td>\n",
       "    </tr>\n",
       "    <tr>\n",
       "      <th>160</th>\n",
       "      <td>Solomon Islands</td>\n",
       "      <td>0</td>\n",
       "    </tr>\n",
       "    <tr>\n",
       "      <th>167</th>\n",
       "      <td>Summer Olympics 2020</td>\n",
       "      <td>0</td>\n",
       "    </tr>\n",
       "    <tr>\n",
       "      <th>176</th>\n",
       "      <td>Timor-Leste</td>\n",
       "      <td>0</td>\n",
       "    </tr>\n",
       "    <tr>\n",
       "      <th>188</th>\n",
       "      <td>Vanuatu</td>\n",
       "      <td>0</td>\n",
       "    </tr>\n",
       "  </tbody>\n",
       "</table>\n",
       "</div>"
      ],
      "text/plain": [
       "            Country_Region  Deaths\n",
       "30                Cambodia       0\n",
       "50                Dominica       0\n",
       "75                Holy See       0\n",
       "91                Kiribati       0\n",
       "96                    Laos       0\n",
       "112       Marshall Islands       0\n",
       "116             Micronesia       0\n",
       "134                  Palau       0\n",
       "146  Saint Kitts and Nevis       0\n",
       "149                  Samoa       0\n",
       "160        Solomon Islands       0\n",
       "167   Summer Olympics 2020       0\n",
       "176            Timor-Leste       0\n",
       "188                Vanuatu       0"
      ]
     },
     "execution_count": 91,
     "metadata": {},
     "output_type": "execute_result"
    }
   ],
   "source": [
    "output = data[data['Deaths']==0][['Country_Region','Deaths']]\n",
    "output"
   ]
  },
  {
   "cell_type": "code",
   "execution_count": 90,
   "metadata": {
    "scrolled": true
   },
   "outputs": [
    {
     "data": {
      "text/html": [
       "<div>\n",
       "<style scoped>\n",
       "    .dataframe tbody tr th:only-of-type {\n",
       "        vertical-align: middle;\n",
       "    }\n",
       "\n",
       "    .dataframe tbody tr th {\n",
       "        vertical-align: top;\n",
       "    }\n",
       "\n",
       "    .dataframe thead th {\n",
       "        text-align: right;\n",
       "    }\n",
       "</style>\n",
       "<table border=\"1\" class=\"dataframe\">\n",
       "  <thead>\n",
       "    <tr style=\"text-align: right;\">\n",
       "      <th></th>\n",
       "      <th>Country_Region</th>\n",
       "      <th>Confirmed</th>\n",
       "      <th>Deaths</th>\n",
       "      <th>Recovered</th>\n",
       "    </tr>\n",
       "  </thead>\n",
       "  <tbody>\n",
       "    <tr>\n",
       "      <th>30</th>\n",
       "      <td>Cambodia</td>\n",
       "      <td>456</td>\n",
       "      <td>0</td>\n",
       "      <td>399</td>\n",
       "    </tr>\n",
       "    <tr>\n",
       "      <th>50</th>\n",
       "      <td>Dominica</td>\n",
       "      <td>113</td>\n",
       "      <td>0</td>\n",
       "      <td>104</td>\n",
       "    </tr>\n",
       "    <tr>\n",
       "      <th>75</th>\n",
       "      <td>Holy See</td>\n",
       "      <td>27</td>\n",
       "      <td>0</td>\n",
       "      <td>15</td>\n",
       "    </tr>\n",
       "    <tr>\n",
       "      <th>91</th>\n",
       "      <td>Kiribati</td>\n",
       "      <td>0</td>\n",
       "      <td>0</td>\n",
       "      <td>0</td>\n",
       "    </tr>\n",
       "    <tr>\n",
       "      <th>96</th>\n",
       "      <td>Laos</td>\n",
       "      <td>41</td>\n",
       "      <td>0</td>\n",
       "      <td>41</td>\n",
       "    </tr>\n",
       "    <tr>\n",
       "      <th>112</th>\n",
       "      <td>Marshall Islands</td>\n",
       "      <td>4</td>\n",
       "      <td>0</td>\n",
       "      <td>4</td>\n",
       "    </tr>\n",
       "    <tr>\n",
       "      <th>116</th>\n",
       "      <td>Micronesia</td>\n",
       "      <td>1</td>\n",
       "      <td>0</td>\n",
       "      <td>0</td>\n",
       "    </tr>\n",
       "    <tr>\n",
       "      <th>134</th>\n",
       "      <td>Palau</td>\n",
       "      <td>0</td>\n",
       "      <td>0</td>\n",
       "      <td>0</td>\n",
       "    </tr>\n",
       "    <tr>\n",
       "      <th>146</th>\n",
       "      <td>Saint Kitts and Nevis</td>\n",
       "      <td>35</td>\n",
       "      <td>0</td>\n",
       "      <td>33</td>\n",
       "    </tr>\n",
       "    <tr>\n",
       "      <th>149</th>\n",
       "      <td>Samoa</td>\n",
       "      <td>2</td>\n",
       "      <td>0</td>\n",
       "      <td>2</td>\n",
       "    </tr>\n",
       "    <tr>\n",
       "      <th>160</th>\n",
       "      <td>Solomon Islands</td>\n",
       "      <td>17</td>\n",
       "      <td>0</td>\n",
       "      <td>10</td>\n",
       "    </tr>\n",
       "    <tr>\n",
       "      <th>167</th>\n",
       "      <td>Summer Olympics 2020</td>\n",
       "      <td>0</td>\n",
       "      <td>0</td>\n",
       "      <td>0</td>\n",
       "    </tr>\n",
       "    <tr>\n",
       "      <th>176</th>\n",
       "      <td>Timor-Leste</td>\n",
       "      <td>53</td>\n",
       "      <td>0</td>\n",
       "      <td>49</td>\n",
       "    </tr>\n",
       "    <tr>\n",
       "      <th>188</th>\n",
       "      <td>Vanuatu</td>\n",
       "      <td>1</td>\n",
       "      <td>0</td>\n",
       "      <td>1</td>\n",
       "    </tr>\n",
       "  </tbody>\n",
       "</table>\n",
       "</div>"
      ],
      "text/plain": [
       "            Country_Region  Confirmed  Deaths  Recovered\n",
       "30                Cambodia        456       0        399\n",
       "50                Dominica        113       0        104\n",
       "75                Holy See         27       0         15\n",
       "91                Kiribati          0       0          0\n",
       "96                    Laos         41       0         41\n",
       "112       Marshall Islands          4       0          4\n",
       "116             Micronesia          1       0          0\n",
       "134                  Palau          0       0          0\n",
       "146  Saint Kitts and Nevis         35       0         33\n",
       "149                  Samoa          2       0          2\n",
       "160        Solomon Islands         17       0         10\n",
       "167   Summer Olympics 2020          0       0          0\n",
       "176            Timor-Leste         53       0         49\n",
       "188                Vanuatu          1       0          1"
      ]
     },
     "execution_count": 90,
     "metadata": {},
     "output_type": "execute_result"
    }
   ],
   "source": [
    "output = data[data['Deaths']==0][['Country_Region','Confirmed','Deaths','Recovered']]\n",
    "output"
   ]
  },
  {
   "cell_type": "markdown",
   "metadata": {},
   "source": [
    "### Question 4"
   ]
  },
  {
   "cell_type": "markdown",
   "metadata": {},
   "source": [
    "#### Show the Top 10 countries with Confirmed cases"
   ]
  },
  {
   "cell_type": "code",
   "execution_count": 119,
   "metadata": {},
   "outputs": [
    {
     "data": {
      "text/html": [
       "<div>\n",
       "<style scoped>\n",
       "    .dataframe tbody tr th:only-of-type {\n",
       "        vertical-align: middle;\n",
       "    }\n",
       "\n",
       "    .dataframe tbody tr th {\n",
       "        vertical-align: top;\n",
       "    }\n",
       "\n",
       "    .dataframe thead th {\n",
       "        text-align: right;\n",
       "    }\n",
       "</style>\n",
       "<table border=\"1\" class=\"dataframe\">\n",
       "  <thead>\n",
       "    <tr style=\"text-align: right;\">\n",
       "      <th></th>\n",
       "      <th>Country_Region</th>\n",
       "      <th>Recovered</th>\n",
       "      <th>Confirmed</th>\n",
       "    </tr>\n",
       "  </thead>\n",
       "  <tbody>\n",
       "    <tr>\n",
       "      <th>3960</th>\n",
       "      <td>United Kingdom</td>\n",
       "      <td>0</td>\n",
       "      <td>3092041</td>\n",
       "    </tr>\n",
       "    <tr>\n",
       "      <th>215</th>\n",
       "      <td>France</td>\n",
       "      <td>190186</td>\n",
       "      <td>2979915</td>\n",
       "    </tr>\n",
       "    <tr>\n",
       "      <th>650</th>\n",
       "      <td>Turkey</td>\n",
       "      <td>2290032</td>\n",
       "      <td>2412505</td>\n",
       "    </tr>\n",
       "    <tr>\n",
       "      <th>268</th>\n",
       "      <td>India</td>\n",
       "      <td>1903408</td>\n",
       "      <td>2000878</td>\n",
       "    </tr>\n",
       "    <tr>\n",
       "      <th>6</th>\n",
       "      <td>Argentina</td>\n",
       "      <td>1625755</td>\n",
       "      <td>1843077</td>\n",
       "    </tr>\n",
       "    <tr>\n",
       "      <th>65</th>\n",
       "      <td>Brazil</td>\n",
       "      <td>1420484</td>\n",
       "      <td>1670754</td>\n",
       "    </tr>\n",
       "    <tr>\n",
       "      <th>490</th>\n",
       "      <td>Poland</td>\n",
       "      <td>1215732</td>\n",
       "      <td>1457755</td>\n",
       "    </tr>\n",
       "    <tr>\n",
       "      <th>594</th>\n",
       "      <td>South Africa</td>\n",
       "      <td>1183443</td>\n",
       "      <td>1380807</td>\n",
       "    </tr>\n",
       "    <tr>\n",
       "      <th>286</th>\n",
       "      <td>Iran</td>\n",
       "      <td>1144549</td>\n",
       "      <td>1354520</td>\n",
       "    </tr>\n",
       "    <tr>\n",
       "      <th>860</th>\n",
       "      <td>US</td>\n",
       "      <td>0</td>\n",
       "      <td>1046591</td>\n",
       "    </tr>\n",
       "  </tbody>\n",
       "</table>\n",
       "</div>"
      ],
      "text/plain": [
       "      Country_Region  Recovered  Confirmed\n",
       "3960  United Kingdom          0    3092041\n",
       "215           France     190186    2979915\n",
       "650           Turkey    2290032    2412505\n",
       "268            India    1903408    2000878\n",
       "6          Argentina    1625755    1843077\n",
       "65            Brazil    1420484    1670754\n",
       "490           Poland    1215732    1457755\n",
       "594     South Africa    1183443    1380807\n",
       "286             Iran    1144549    1354520\n",
       "860               US          0    1046591"
      ]
     },
     "execution_count": 119,
     "metadata": {},
     "output_type": "execute_result"
    }
   ],
   "source": [
    "d= data.sort_values('Confirmed', ascending=False).head(10)\n",
    "d[['Country_Region', 'Recovered','Confirmed']]"
   ]
  },
  {
   "cell_type": "markdown",
   "metadata": {},
   "source": [
    "#### Show the Top 10 Countries with Active cases"
   ]
  },
  {
   "cell_type": "code",
   "execution_count": 116,
   "metadata": {},
   "outputs": [
    {
     "data": {
      "text/html": [
       "<div>\n",
       "<style scoped>\n",
       "    .dataframe tbody tr th:only-of-type {\n",
       "        vertical-align: middle;\n",
       "    }\n",
       "\n",
       "    .dataframe tbody tr th {\n",
       "        vertical-align: top;\n",
       "    }\n",
       "\n",
       "    .dataframe thead th {\n",
       "        text-align: right;\n",
       "    }\n",
       "</style>\n",
       "<table border=\"1\" class=\"dataframe\">\n",
       "  <thead>\n",
       "    <tr style=\"text-align: right;\">\n",
       "      <th></th>\n",
       "      <th>FIPS</th>\n",
       "      <th>Lat</th>\n",
       "      <th>Long_</th>\n",
       "      <th>Confirmed</th>\n",
       "      <th>Deaths</th>\n",
       "      <th>Recovered</th>\n",
       "      <th>Active</th>\n",
       "      <th>Incident_Rate</th>\n",
       "      <th>Case_Fatality_Ratio</th>\n",
       "    </tr>\n",
       "    <tr>\n",
       "      <th>Country_Region</th>\n",
       "      <th></th>\n",
       "      <th></th>\n",
       "      <th></th>\n",
       "      <th></th>\n",
       "      <th></th>\n",
       "      <th></th>\n",
       "      <th></th>\n",
       "      <th></th>\n",
       "      <th></th>\n",
       "    </tr>\n",
       "  </thead>\n",
       "  <tbody>\n",
       "    <tr>\n",
       "      <th>US</th>\n",
       "      <td>105822557.0</td>\n",
       "      <td>121707.405039</td>\n",
       "      <td>-293182.487164</td>\n",
       "      <td>24713349</td>\n",
       "      <td>417868</td>\n",
       "      <td>0</td>\n",
       "      <td>24217573.0</td>\n",
       "      <td>2.482802e+07</td>\n",
       "      <td>5911.700892</td>\n",
       "    </tr>\n",
       "    <tr>\n",
       "      <th>United Kingdom</th>\n",
       "      <td>0.0</td>\n",
       "      <td>422.469698</td>\n",
       "      <td>-509.497466</td>\n",
       "      <td>3553777</td>\n",
       "      <td>94765</td>\n",
       "      <td>8585</td>\n",
       "      <td>3450427.0</td>\n",
       "      <td>4.017891e+04</td>\n",
       "      <td>31.125233</td>\n",
       "    </tr>\n",
       "    <tr>\n",
       "      <th>France</th>\n",
       "      <td>0.0</td>\n",
       "      <td>77.169695</td>\n",
       "      <td>-416.763414</td>\n",
       "      <td>3046323</td>\n",
       "      <td>72138</td>\n",
       "      <td>220650</td>\n",
       "      <td>2753582.0</td>\n",
       "      <td>2.989723e+04</td>\n",
       "      <td>8.740470</td>\n",
       "    </tr>\n",
       "    <tr>\n",
       "      <th>Spain</th>\n",
       "      <td>0.0</td>\n",
       "      <td>755.510158</td>\n",
       "      <td>-69.972552</td>\n",
       "      <td>2456675</td>\n",
       "      <td>55041</td>\n",
       "      <td>150376</td>\n",
       "      <td>2251258.0</td>\n",
       "      <td>9.923338e+04</td>\n",
       "      <td>42.011430</td>\n",
       "    </tr>\n",
       "    <tr>\n",
       "      <th>Netherlands</th>\n",
       "      <td>0.0</td>\n",
       "      <td>682.008776</td>\n",
       "      <td>-203.678156</td>\n",
       "      <td>945948</td>\n",
       "      <td>13439</td>\n",
       "      <td>12155</td>\n",
       "      <td>920354.0</td>\n",
       "      <td>7.162485e+04</td>\n",
       "      <td>20.632054</td>\n",
       "    </tr>\n",
       "    <tr>\n",
       "      <th>Brazil</th>\n",
       "      <td>0.0</td>\n",
       "      <td>-342.077100</td>\n",
       "      <td>-1308.973300</td>\n",
       "      <td>8697368</td>\n",
       "      <td>214147</td>\n",
       "      <td>7673092</td>\n",
       "      <td>810129.0</td>\n",
       "      <td>1.416240e+05</td>\n",
       "      <td>60.326578</td>\n",
       "    </tr>\n",
       "    <tr>\n",
       "      <th>Belgium</th>\n",
       "      <td>0.0</td>\n",
       "      <td>557.811200</td>\n",
       "      <td>50.113600</td>\n",
       "      <td>686827</td>\n",
       "      <td>20620</td>\n",
       "      <td>0</td>\n",
       "      <td>666207.0</td>\n",
       "      <td>6.734484e+04</td>\n",
       "      <td>171.049357</td>\n",
       "    </tr>\n",
       "    <tr>\n",
       "      <th>Sweden</th>\n",
       "      <td>0.0</td>\n",
       "      <td>1253.293500</td>\n",
       "      <td>330.466900</td>\n",
       "      <td>542952</td>\n",
       "      <td>10921</td>\n",
       "      <td>0</td>\n",
       "      <td>532031.0</td>\n",
       "      <td>1.005925e+05</td>\n",
       "      <td>40.724982</td>\n",
       "    </tr>\n",
       "    <tr>\n",
       "      <th>Russia</th>\n",
       "      <td>0.0</td>\n",
       "      <td>4527.343882</td>\n",
       "      <td>5156.031399</td>\n",
       "      <td>3616680</td>\n",
       "      <td>66810</td>\n",
       "      <td>3021861</td>\n",
       "      <td>528009.0</td>\n",
       "      <td>2.117387e+05</td>\n",
       "      <td>139.062565</td>\n",
       "    </tr>\n",
       "    <tr>\n",
       "      <th>Italy</th>\n",
       "      <td>0.0</td>\n",
       "      <td>903.972147</td>\n",
       "      <td>256.745065</td>\n",
       "      <td>2428221</td>\n",
       "      <td>84202</td>\n",
       "      <td>1827451</td>\n",
       "      <td>516568.0</td>\n",
       "      <td>8.232423e+04</td>\n",
       "      <td>67.548259</td>\n",
       "    </tr>\n",
       "  </tbody>\n",
       "</table>\n",
       "</div>"
      ],
      "text/plain": [
       "                       FIPS            Lat          Long_  Confirmed  Deaths  \\\n",
       "Country_Region                                                                 \n",
       "US              105822557.0  121707.405039 -293182.487164   24713349  417868   \n",
       "United Kingdom          0.0     422.469698    -509.497466    3553777   94765   \n",
       "France                  0.0      77.169695    -416.763414    3046323   72138   \n",
       "Spain                   0.0     755.510158     -69.972552    2456675   55041   \n",
       "Netherlands             0.0     682.008776    -203.678156     945948   13439   \n",
       "Brazil                  0.0    -342.077100   -1308.973300    8697368  214147   \n",
       "Belgium                 0.0     557.811200      50.113600     686827   20620   \n",
       "Sweden                  0.0    1253.293500     330.466900     542952   10921   \n",
       "Russia                  0.0    4527.343882    5156.031399    3616680   66810   \n",
       "Italy                   0.0     903.972147     256.745065    2428221   84202   \n",
       "\n",
       "                Recovered      Active  Incident_Rate  Case_Fatality_Ratio  \n",
       "Country_Region                                                             \n",
       "US                      0  24217573.0   2.482802e+07          5911.700892  \n",
       "United Kingdom       8585   3450427.0   4.017891e+04            31.125233  \n",
       "France             220650   2753582.0   2.989723e+04             8.740470  \n",
       "Spain              150376   2251258.0   9.923338e+04            42.011430  \n",
       "Netherlands         12155    920354.0   7.162485e+04            20.632054  \n",
       "Brazil            7673092    810129.0   1.416240e+05            60.326578  \n",
       "Belgium                 0    666207.0   6.734484e+04           171.049357  \n",
       "Sweden                  0    532031.0   1.005925e+05            40.724982  \n",
       "Russia            3021861    528009.0   2.117387e+05           139.062565  \n",
       "Italy             1827451    516568.0   8.232423e+04            67.548259  "
      ]
     },
     "execution_count": 116,
     "metadata": {},
     "output_type": "execute_result"
    }
   ],
   "source": [
    "c= data.groupby(\"Country_Region\")\n",
    "c=c.sum()\n",
    "c=c.sort_values([\"Active\"],ascending=False)\n",
    "c.head(10)"
   ]
  },
  {
   "cell_type": "markdown",
   "metadata": {},
   "source": [
    "### Question 5"
   ]
  },
  {
   "cell_type": "markdown",
   "metadata": {},
   "source": [
    "#### Plot Country-wise Total deaths, confirmed, recovered and active casaes where total deaths have exceeded 50,000"
   ]
  },
  {
   "cell_type": "code",
   "execution_count": 20,
   "metadata": {},
   "outputs": [],
   "source": [
    "import matplotlib.pyplot as plt"
   ]
  },
  {
   "cell_type": "code",
   "execution_count": 22,
   "metadata": {
    "scrolled": true
   },
   "outputs": [
    {
     "data": {
      "image/png": "[encoded data removed]",
      "text/plain": [
       "<Figure size 1080x360 with 1 Axes>"
      ]
     },
     "metadata": {
      "needs_background": "light"
     },
     "output_type": "display_data"
    }
   ],
   "source": [
    " \n",
    "New_data = data.groupby([\"Country_Region\"])[\"Deaths\", \"Confirmed\", \"Recovered\", \"Active\"].sum().reset_index()\n",
    "New_data = New_data.sort_values(by='Deaths', ascending=False)\n",
    "New_data = New_data[New_data['Deaths']>50000]\n",
    "plt.figure(figsize=(15, 5))\n",
    "plt.plot(New_data['Country_Region'], New_data['Deaths'],color='blue')\n",
    "plt.plot(New_data['Country_Region'], New_data['Confirmed'],color='red')\n",
    "plt.plot(New_data['Country_Region'], New_data['Recovered'], color='yellow')\n",
    "plt.plot(New_data['Country_Region'], New_data['Active'], color='black')\n",
    " \n",
    "plt.title('Country-wise Total deaths, confirmed, recovered and active casaes where total deaths have exceeded 50,000')\n",
    "plt.show()"
   ]
  },
  {
   "cell_type": "markdown",
   "metadata": {},
   "source": [
    "### Question 6"
   ]
  },
  {
   "cell_type": "markdown",
   "metadata": {},
   "source": [
    "### Plot Province/State wise Deaths in USA"
   ]
  },
  {
   "cell_type": "code",
   "execution_count": 31,
   "metadata": {},
   "outputs": [],
   "source": [
    "import plotly.express as px"
   ]
  },
  {
   "cell_type": "code",
   "execution_count": 19,
   "metadata": {},
   "outputs": [],
   "source": [
    "covid_data= pd.read_csv('https://raw.githubusercontent.com/CSSEGISandData/COVID-19/master/csse_covid_19_data/csse_covid_19_daily_reports/01-09-2021.csv')"
   ]
  },
  {
   "cell_type": "code",
   "execution_count": 20,
   "metadata": {},
   "outputs": [
    {
     "data": {
      "text/plain": [
       "Index(['FIPS', 'Admin2', 'Province_State', 'Country_Region', 'Last_Update',\n",
       "       'Lat', 'Long_', 'Confirmed', 'Deaths', 'Recovered', 'Active',\n",
       "       'Combined_Key', 'Incident_Rate', 'Case_Fatality_Ratio'],\n",
       "      dtype='object')"
      ]
     },
     "execution_count": 20,
     "metadata": {},
     "output_type": "execute_result"
    }
   ],
   "source": [
    "covid_data.columns"
   ]
  },
  {
   "cell_type": "code",
   "execution_count": 32,
   "metadata": {},
   "outputs": [
    {
     "data": {
      "application/vnd.plotly.v1+json": {
       "config": {
        "plotlyServerURL": "https://plot.ly"
       },
       "data": [
        {
         "alignmentgroup": "True",
         "hovertemplate": "Province_State=%{x}<br>Deaths=%{text}<extra></extra>",
         "legendgroup": "",
         "marker": {
          "color": "#F8766D"
         },
         "name": "",
         "offsetgroup": "",
         "orientation": "v",
         "showlegend": false,
         "text": [
          6379,
          254,
          11772,
          4496,
          35837,
          5440,
          6774,
          1241,
          864,
          24739,
          12889,
          3,
          128,
          328,
          1654,
          20423,
          10837,
          4445,
          3594,
          3301,
          8442,
          536,
          6735,
          13906,
          14933,
          6079,
          5668,
          6778,
          1100,
          1868,
          3910,
          962,
          20760,
          3044,
          41599,
          8339,
          1422,
          2,
          16399,
          3140,
          1843,
          20136,
          1732,
          2232,
          6373,
          1673,
          8684,
          33942,
          1547,
          168,
          24,
          5940,
          4065,
          1849,
          6090,
          550
         ],
         "textposition": "auto",
         "type": "bar",
         "x": [
          "Alabama",
          "Alaska",
          "Arizona",
          "Arkansas",
          "California",
          "Colorado",
          "Connecticut",
          "Delaware",
          "District of Columbia",
          "Florida",
          "Georgia",
          "Grand Princess",
          "Guam",
          "Hawaii",
          "Idaho",
          "Illinois",
          "Indiana",
          "Iowa",
          "Kansas",
          "Kentucky",
          "Louisiana",
          "Maine",
          "Maryland",
          "Massachusetts",
          "Michigan",
          "Minnesota",
          "Mississippi",
          "Missouri",
          "Montana",
          "Nebraska",
          "Nevada",
          "New Hampshire",
          "New Jersey",
          "New Mexico",
          "New York",
          "North Carolina",
          "North Dakota",
          "Northern Mariana Islands",
          "Ohio",
          "Oklahoma",
          "Oregon",
          "Pennsylvania",
          "Puerto Rico",
          "Rhode Island",
          "South Carolina",
          "South Dakota",
          "Tennessee",
          "Texas",
          "Utah",
          "Vermont",
          "Virgin Islands",
          "Virginia",
          "Washington",
          "West Virginia",
          "Wisconsin",
          "Wyoming"
         ],
         "xaxis": "x",
         "y": [
          6379,
          254,
          11772,
          4496,
          35837,
          5440,
          6774,
          1241,
          864,
          24739,
          12889,
          3,
          128,
          328,
          1654,
          20423,
          10837,
          4445,
          3594,
          3301,
          8442,
          536,
          6735,
          13906,
          14933,
          6079,
          5668,
          6778,
          1100,
          1868,
          3910,
          962,
          20760,
          3044,
          41599,
          8339,
          1422,
          2,
          16399,
          3140,
          1843,
          20136,
          1732,
          2232,
          6373,
          1673,
          8684,
          33942,
          1547,
          168,
          24,
          5940,
          4065,
          1849,
          6090,
          550
         ],
         "yaxis": "y"
        }
       ],
       "layout": {
        "barmode": "relative",
        "legend": {
         "tracegroupgap": 0
        },
        "template": {
         "data": {
          "bar": [
           {
            "error_x": {
             "color": "rgb(51,51,51)"
            },
            "error_y": {
             "color": "rgb(51,51,51)"
            },
            "marker": {
             "line": {
              "color": "rgb(237,237,237)",
              "width": 0.5
             }
            },
            "type": "bar"
           }
          ],
          "barpolar": [
           {
            "marker": {
             "line": {
              "color": "rgb(237,237,237)",
              "width": 0.5
             }
            },
            "type": "barpolar"
           }
          ],
          "carpet": [
           {
            "aaxis": {
             "endlinecolor": "rgb(51,51,51)",
             "gridcolor": "white",
             "linecolor": "white",
             "minorgridcolor": "white",
             "startlinecolor": "rgb(51,51,51)"
            },
            "baxis": {
             "endlinecolor": "rgb(51,51,51)",
             "gridcolor": "white",
             "linecolor": "white",
             "minorgridcolor": "white",
             "startlinecolor": "rgb(51,51,51)"
            },
            "type": "carpet"
           }
          ],
          "choropleth": [
           {
            "colorbar": {
             "outlinewidth": 0,
             "tickcolor": "rgb(237,237,237)",
             "ticklen": 6,
             "ticks": "inside"
            },
            "type": "choropleth"
           }
          ],
          "contour": [
           {
            "colorbar": {
             "outlinewidth": 0,
             "tickcolor": "rgb(237,237,237)",
             "ticklen": 6,
             "ticks": "inside"
            },
            "colorscale": [
             [
              0,
              "rgb(20,44,66)"
             ],
             [
              1,
              "rgb(90,179,244)"
             ]
            ],
            "type": "contour"
           }
          ],
          "contourcarpet": [
           {
            "colorbar": {
             "outlinewidth": 0,
             "tickcolor": "rgb(237,237,237)",
             "ticklen": 6,
             "ticks": "inside"
            },
            "type": "contourcarpet"
           }
          ],
          "heatmap": [
           {
            "colorbar": {
             "outlinewidth": 0,
             "tickcolor": "rgb(237,237,237)",
             "ticklen": 6,
             "ticks": "inside"
            },
            "colorscale": [
             [
              0,
              "rgb(20,44,66)"
             ],
             [
              1,
              "rgb(90,179,244)"
             ]
            ],
            "type": "heatmap"
           }
          ],
          "heatmapgl": [
           {
            "colorbar": {
             "outlinewidth": 0,
             "tickcolor": "rgb(237,237,237)",
             "ticklen": 6,
             "ticks": "inside"
            },
            "colorscale": [
             [
              0,
              "rgb(20,44,66)"
             ],
             [
              1,
              "rgb(90,179,244)"
             ]
            ],
            "type": "heatmapgl"
           }
          ],
          "histogram": [
           {
            "marker": {
             "colorbar": {
              "outlinewidth": 0,
              "tickcolor": "rgb(237,237,237)",
              "ticklen": 6,
              "ticks": "inside"
             }
            },
            "type": "histogram"
           }
          ],
          "histogram2d": [
           {
            "colorbar": {
             "outlinewidth": 0,
             "tickcolor": "rgb(237,237,237)",
             "ticklen": 6,
             "ticks": "inside"
            },
            "colorscale": [
             [
              0,
              "rgb(20,44,66)"
             ],
             [
              1,
              "rgb(90,179,244)"
             ]
            ],
            "type": "histogram2d"
           }
          ],
          "histogram2dcontour": [
           {
            "colorbar": {
             "outlinewidth": 0,
             "tickcolor": "rgb(237,237,237)",
             "ticklen": 6,
             "ticks": "inside"
            },
            "colorscale": [
             [
              0,
              "rgb(20,44,66)"
             ],
             [
              1,
              "rgb(90,179,244)"
             ]
            ],
            "type": "histogram2dcontour"
           }
          ],
          "mesh3d": [
           {
            "colorbar": {
             "outlinewidth": 0,
             "tickcolor": "rgb(237,237,237)",
             "ticklen": 6,
             "ticks": "inside"
            },
            "type": "mesh3d"
           }
          ],
          "parcoords": [
           {
            "line": {
             "colorbar": {
              "outlinewidth": 0,
              "tickcolor": "rgb(237,237,237)",
              "ticklen": 6,
              "ticks": "inside"
             }
            },
            "type": "parcoords"
           }
          ],
          "pie": [
           {
            "automargin": true,
            "type": "pie"
           }
          ],
          "scatter": [
           {
            "marker": {
             "colorbar": {
              "outlinewidth": 0,
              "tickcolor": "rgb(237,237,237)",
              "ticklen": 6,
              "ticks": "inside"
             }
            },
            "type": "scatter"
           }
          ],
          "scatter3d": [
           {
            "line": {
             "colorbar": {
              "outlinewidth": 0,
              "tickcolor": "rgb(237,237,237)",
              "ticklen": 6,
              "ticks": "inside"
             }
            },
            "marker": {
             "colorbar": {
              "outlinewidth": 0,
              "tickcolor": "rgb(237,237,237)",
              "ticklen": 6,
              "ticks": "inside"
             }
            },
            "type": "scatter3d"
           }
          ],
          "scattercarpet": [
           {
            "marker": {
             "colorbar": {
              "outlinewidth": 0,
              "tickcolor": "rgb(237,237,237)",
              "ticklen": 6,
              "ticks": "inside"
             }
            },
            "type": "scattercarpet"
           }
          ],
          "scattergeo": [
           {
            "marker": {
             "colorbar": {
              "outlinewidth": 0,
              "tickcolor": "rgb(237,237,237)",
              "ticklen": 6,
              "ticks": "inside"
             }
            },
            "type": "scattergeo"
           }
          ],
          "scattergl": [
           {
            "marker": {
             "colorbar": {
              "outlinewidth": 0,
              "tickcolor": "rgb(237,237,237)",
              "ticklen": 6,
              "ticks": "inside"
             }
            },
            "type": "scattergl"
           }
          ],
          "scattermapbox": [
           {
            "marker": {
             "colorbar": {
              "outlinewidth": 0,
              "tickcolor": "rgb(237,237,237)",
              "ticklen": 6,
              "ticks": "inside"
             }
            },
            "type": "scattermapbox"
           }
          ],
          "scatterpolar": [
           {
            "marker": {
             "colorbar": {
              "outlinewidth": 0,
              "tickcolor": "rgb(237,237,237)",
              "ticklen": 6,
              "ticks": "inside"
             }
            },
            "type": "scatterpolar"
           }
          ],
          "scatterpolargl": [
           {
            "marker": {
             "colorbar": {
              "outlinewidth": 0,
              "tickcolor": "rgb(237,237,237)",
              "ticklen": 6,
              "ticks": "inside"
             }
            },
            "type": "scatterpolargl"
           }
          ],
          "scatterternary": [
           {
            "marker": {
             "colorbar": {
              "outlinewidth": 0,
              "tickcolor": "rgb(237,237,237)",
              "ticklen": 6,
              "ticks": "inside"
             }
            },
            "type": "scatterternary"
           }
          ],
          "surface": [
           {
            "colorbar": {
             "outlinewidth": 0,
             "tickcolor": "rgb(237,237,237)",
             "ticklen": 6,
             "ticks": "inside"
            },
            "colorscale": [
             [
              0,
              "rgb(20,44,66)"
             ],
             [
              1,
              "rgb(90,179,244)"
             ]
            ],
            "type": "surface"
           }
          ],
          "table": [
           {
            "cells": {
             "fill": {
              "color": "rgb(237,237,237)"
             },
             "line": {
              "color": "white"
             }
            },
            "header": {
             "fill": {
              "color": "rgb(217,217,217)"
             },
             "line": {
              "color": "white"
             }
            },
            "type": "table"
           }
          ]
         },
         "layout": {
          "annotationdefaults": {
           "arrowhead": 0,
           "arrowwidth": 1
          },
          "coloraxis": {
           "colorbar": {
            "outlinewidth": 0,
            "tickcolor": "rgb(237,237,237)",
            "ticklen": 6,
            "ticks": "inside"
           }
          },
          "colorscale": {
           "sequential": [
            [
             0,
             "rgb(20,44,66)"
            ],
            [
             1,
             "rgb(90,179,244)"
            ]
           ],
           "sequentialminus": [
            [
             0,
             "rgb(20,44,66)"
            ],
            [
             1,
             "rgb(90,179,244)"
            ]
           ]
          },
          "colorway": [
           "#F8766D",
           "#A3A500",
           "#00BF7D",
           "#00B0F6",
           "#E76BF3"
          ],
          "font": {
           "color": "rgb(51,51,51)"
          },
          "geo": {
           "bgcolor": "white",
           "lakecolor": "white",
           "landcolor": "rgb(237,237,237)",
           "showlakes": true,
           "showland": true,
           "subunitcolor": "white"
          },
          "hoverlabel": {
           "align": "left"
          },
          "hovermode": "closest",
          "paper_bgcolor": "white",
          "plot_bgcolor": "rgb(237,237,237)",
          "polar": {
           "angularaxis": {
            "gridcolor": "white",
            "linecolor": "white",
            "showgrid": true,
            "tickcolor": "rgb(51,51,51)",
            "ticks": "outside"
           },
           "bgcolor": "rgb(237,237,237)",
           "radialaxis": {
            "gridcolor": "white",
            "linecolor": "white",
            "showgrid": true,
            "tickcolor": "rgb(51,51,51)",
            "ticks": "outside"
           }
          },
          "scene": {
           "xaxis": {
            "backgroundcolor": "rgb(237,237,237)",
            "gridcolor": "white",
            "gridwidth": 2,
            "linecolor": "white",
            "showbackground": true,
            "showgrid": true,
            "tickcolor": "rgb(51,51,51)",
            "ticks": "outside",
            "zerolinecolor": "white"
           },
           "yaxis": {
            "backgroundcolor": "rgb(237,237,237)",
            "gridcolor": "white",
            "gridwidth": 2,
            "linecolor": "white",
            "showbackground": true,
            "showgrid": true,
            "tickcolor": "rgb(51,51,51)",
            "ticks": "outside",
            "zerolinecolor": "white"
           },
           "zaxis": {
            "backgroundcolor": "rgb(237,237,237)",
            "gridcolor": "white",
            "gridwidth": 2,
            "linecolor": "white",
            "showbackground": true,
            "showgrid": true,
            "tickcolor": "rgb(51,51,51)",
            "ticks": "outside",
            "zerolinecolor": "white"
           }
          },
          "shapedefaults": {
           "fillcolor": "black",
           "line": {
            "width": 0
           },
           "opacity": 0.3
          },
          "ternary": {
           "aaxis": {
            "gridcolor": "white",
            "linecolor": "white",
            "showgrid": true,
            "tickcolor": "rgb(51,51,51)",
            "ticks": "outside"
           },
           "baxis": {
            "gridcolor": "white",
            "linecolor": "white",
            "showgrid": true,
            "tickcolor": "rgb(51,51,51)",
            "ticks": "outside"
           },
           "bgcolor": "rgb(237,237,237)",
           "caxis": {
            "gridcolor": "white",
            "linecolor": "white",
            "showgrid": true,
            "tickcolor": "rgb(51,51,51)",
            "ticks": "outside"
           }
          },
          "xaxis": {
           "automargin": true,
           "gridcolor": "white",
           "linecolor": "white",
           "showgrid": true,
           "tickcolor": "rgb(51,51,51)",
           "ticks": "outside",
           "title": {
            "standoff": 15
           },
           "zerolinecolor": "white"
          },
          "yaxis": {
           "automargin": true,
           "gridcolor": "white",
           "linecolor": "white",
           "showgrid": true,
           "tickcolor": "rgb(51,51,51)",
           "ticks": "outside",
           "title": {
            "standoff": 15
           },
           "zerolinecolor": "white"
          }
         }
        },
        "title": {
         "text": "State wise deaths in USA"
        },
        "xaxis": {
         "anchor": "y",
         "domain": [
          0,
          1
         ],
         "title": {
          "text": "Province_State"
         }
        },
        "yaxis": {
         "anchor": "x",
         "domain": [
          0,
          1
         ],
         "title": {
          "text": "Deaths"
         }
        }
       }
      },
      "text/html": [
       "<div>                            <div id=\"7a8b3414-40ce-4b91-8742-806ef453e4c2\" class=\"plotly-graph-div\" style=\"height:525px; width:100%;\"></div>            <script type=\"text/javascript\">                require([\"plotly\"], function(Plotly) {                    window.PLOTLYENV=window.PLOTLYENV || {};                                    if (document.getElementById(\"7a8b3414-40ce-4b91-8742-806ef453e4c2\")) {                    Plotly.newPlot(                        \"7a8b3414-40ce-4b91-8742-806ef453e4c2\",                        [{\"alignmentgroup\": \"True\", \"hovertemplate\": \"Province_State=%{x}<br>Deaths=%{text}<extra></extra>\", \"legendgroup\": \"\", \"marker\": {\"color\": \"#F8766D\"}, \"name\": \"\", \"offsetgroup\": \"\", \"orientation\": \"v\", \"showlegend\": false, \"text\": [6379.0, 254.0, 11772.0, 4496.0, 35837.0, 5440.0, 6774.0, 1241.0, 864.0, 24739.0, 12889.0, 3.0, 128.0, 328.0, 1654.0, 20423.0, 10837.0, 4445.0, 3594.0, 3301.0, 8442.0, 536.0, 6735.0, 13906.0, 14933.0, 6079.0, 5668.0, 6778.0, 1100.0, 1868.0, 3910.0, 962.0, 20760.0, 3044.0, 41599.0, 8339.0, 1422.0, 2.0, 16399.0, 3140.0, 1843.0, 20136.0, 1732.0, 2232.0, 6373.0, 1673.0, 8684.0, 33942.0, 1547.0, 168.0, 24.0, 5940.0, 4065.0, 1849.0, 6090.0, 550.0], \"textposition\": \"auto\", \"type\": \"bar\", \"x\": [\"Alabama\", \"Alaska\", \"Arizona\", \"Arkansas\", \"California\", \"Colorado\", \"Connecticut\", \"Delaware\", \"District of Columbia\", \"Florida\", \"Georgia\", \"Grand Princess\", \"Guam\", \"Hawaii\", \"Idaho\", \"Illinois\", \"Indiana\", \"Iowa\", \"Kansas\", \"Kentucky\", \"Louisiana\", \"Maine\", \"Maryland\", \"Massachusetts\", \"Michigan\", \"Minnesota\", \"Mississippi\", \"Missouri\", \"Montana\", \"Nebraska\", \"Nevada\", \"New Hampshire\", \"New Jersey\", \"New Mexico\", \"New York\", \"North Carolina\", \"North Dakota\", \"Northern Mariana Islands\", \"Ohio\", \"Oklahoma\", \"Oregon\", \"Pennsylvania\", \"Puerto Rico\", \"Rhode Island\", \"South Carolina\", \"South Dakota\", \"Tennessee\", \"Texas\", \"Utah\", \"Vermont\", \"Virgin Islands\", \"Virginia\", \"Washington\", \"West Virginia\", \"Wisconsin\", \"Wyoming\"], \"xaxis\": \"x\", \"y\": [6379, 254, 11772, 4496, 35837, 5440, 6774, 1241, 864, 24739, 12889, 3, 128, 328, 1654, 20423, 10837, 4445, 3594, 3301, 8442, 536, 6735, 13906, 14933, 6079, 5668, 6778, 1100, 1868, 3910, 962, 20760, 3044, 41599, 8339, 1422, 2, 16399, 3140, 1843, 20136, 1732, 2232, 6373, 1673, 8684, 33942, 1547, 168, 24, 5940, 4065, 1849, 6090, 550], \"yaxis\": \"y\"}],                        {\"barmode\": \"relative\", \"legend\": {\"tracegroupgap\": 0}, \"template\": {\"data\": {\"bar\": [{\"error_x\": {\"color\": \"rgb(51,51,51)\"}, \"error_y\": {\"color\": \"rgb(51,51,51)\"}, \"marker\": {\"line\": {\"color\": \"rgb(237,237,237)\", \"width\": 0.5}}, \"type\": \"bar\"}], \"barpolar\": [{\"marker\": {\"line\": {\"color\": \"rgb(237,237,237)\", \"width\": 0.5}}, \"type\": \"barpolar\"}], \"carpet\": [{\"aaxis\": {\"endlinecolor\": \"rgb(51,51,51)\", \"gridcolor\": \"white\", \"linecolor\": \"white\", \"minorgridcolor\": \"white\", \"startlinecolor\": \"rgb(51,51,51)\"}, \"baxis\": {\"endlinecolor\": \"rgb(51,51,51)\", \"gridcolor\": \"white\", \"linecolor\": \"white\", \"minorgridcolor\": \"white\", \"startlinecolor\": \"rgb(51,51,51)\"}, \"type\": \"carpet\"}], \"choropleth\": [{\"colorbar\": {\"outlinewidth\": 0, \"tickcolor\": \"rgb(237,237,237)\", \"ticklen\": 6, \"ticks\": \"inside\"}, \"type\": \"choropleth\"}], \"contour\": [{\"colorbar\": {\"outlinewidth\": 0, \"tickcolor\": \"rgb(237,237,237)\", \"ticklen\": 6, \"ticks\": \"inside\"}, \"colorscale\": [[0, \"rgb(20,44,66)\"], [1, \"rgb(90,179,244)\"]], \"type\": \"contour\"}], \"contourcarpet\": [{\"colorbar\": {\"outlinewidth\": 0, \"tickcolor\": \"rgb(237,237,237)\", \"ticklen\": 6, \"ticks\": \"inside\"}, \"type\": \"contourcarpet\"}], \"heatmap\": [{\"colorbar\": {\"outlinewidth\": 0, \"tickcolor\": \"rgb(237,237,237)\", \"ticklen\": 6, \"ticks\": \"inside\"}, \"colorscale\": [[0, \"rgb(20,44,66)\"], [1, \"rgb(90,179,244)\"]], \"type\": \"heatmap\"}], \"heatmapgl\": [{\"colorbar\": {\"outlinewidth\": 0, \"tickcolor\": \"rgb(237,237,237)\", \"ticklen\": 6, \"ticks\": \"inside\"}, \"colorscale\": [[0, \"rgb(20,44,66)\"], [1, \"rgb(90,179,244)\"]], \"type\": \"heatmapgl\"}], \"histogram\": [{\"marker\": {\"colorbar\": {\"outlinewidth\": 0, \"tickcolor\": \"rgb(237,237,237)\", \"ticklen\": 6, \"ticks\": \"inside\"}}, \"type\": \"histogram\"}], \"histogram2d\": [{\"colorbar\": {\"outlinewidth\": 0, \"tickcolor\": \"rgb(237,237,237)\", \"ticklen\": 6, \"ticks\": \"inside\"}, \"colorscale\": [[0, \"rgb(20,44,66)\"], [1, \"rgb(90,179,244)\"]], \"type\": \"histogram2d\"}], \"histogram2dcontour\": [{\"colorbar\": {\"outlinewidth\": 0, \"tickcolor\": \"rgb(237,237,237)\", \"ticklen\": 6, \"ticks\": \"inside\"}, \"colorscale\": [[0, \"rgb(20,44,66)\"], [1, \"rgb(90,179,244)\"]], \"type\": \"histogram2dcontour\"}], \"mesh3d\": [{\"colorbar\": {\"outlinewidth\": 0, \"tickcolor\": \"rgb(237,237,237)\", \"ticklen\": 6, \"ticks\": \"inside\"}, \"type\": \"mesh3d\"}], \"parcoords\": [{\"line\": {\"colorbar\": {\"outlinewidth\": 0, \"tickcolor\": \"rgb(237,237,237)\", \"ticklen\": 6, \"ticks\": \"inside\"}}, \"type\": \"parcoords\"}], \"pie\": [{\"automargin\": true, \"type\": \"pie\"}], \"scatter\": [{\"marker\": {\"colorbar\": {\"outlinewidth\": 0, \"tickcolor\": \"rgb(237,237,237)\", \"ticklen\": 6, \"ticks\": \"inside\"}}, \"type\": \"scatter\"}], \"scatter3d\": [{\"line\": {\"colorbar\": {\"outlinewidth\": 0, \"tickcolor\": \"rgb(237,237,237)\", \"ticklen\": 6, \"ticks\": \"inside\"}}, \"marker\": {\"colorbar\": {\"outlinewidth\": 0, \"tickcolor\": \"rgb(237,237,237)\", \"ticklen\": 6, \"ticks\": \"inside\"}}, \"type\": \"scatter3d\"}], \"scattercarpet\": [{\"marker\": {\"colorbar\": {\"outlinewidth\": 0, \"tickcolor\": \"rgb(237,237,237)\", \"ticklen\": 6, \"ticks\": \"inside\"}}, \"type\": \"scattercarpet\"}], \"scattergeo\": [{\"marker\": {\"colorbar\": {\"outlinewidth\": 0, \"tickcolor\": \"rgb(237,237,237)\", \"ticklen\": 6, \"ticks\": \"inside\"}}, \"type\": \"scattergeo\"}], \"scattergl\": [{\"marker\": {\"colorbar\": {\"outlinewidth\": 0, \"tickcolor\": \"rgb(237,237,237)\", \"ticklen\": 6, \"ticks\": \"inside\"}}, \"type\": \"scattergl\"}], \"scattermapbox\": [{\"marker\": {\"colorbar\": {\"outlinewidth\": 0, \"tickcolor\": \"rgb(237,237,237)\", \"ticklen\": 6, \"ticks\": \"inside\"}}, \"type\": \"scattermapbox\"}], \"scatterpolar\": [{\"marker\": {\"colorbar\": {\"outlinewidth\": 0, \"tickcolor\": \"rgb(237,237,237)\", \"ticklen\": 6, \"ticks\": \"inside\"}}, \"type\": \"scatterpolar\"}], \"scatterpolargl\": [{\"marker\": {\"colorbar\": {\"outlinewidth\": 0, \"tickcolor\": \"rgb(237,237,237)\", \"ticklen\": 6, \"ticks\": \"inside\"}}, \"type\": \"scatterpolargl\"}], \"scatterternary\": [{\"marker\": {\"colorbar\": {\"outlinewidth\": 0, \"tickcolor\": \"rgb(237,237,237)\", \"ticklen\": 6, \"ticks\": \"inside\"}}, \"type\": \"scatterternary\"}], \"surface\": [{\"colorbar\": {\"outlinewidth\": 0, \"tickcolor\": \"rgb(237,237,237)\", \"ticklen\": 6, \"ticks\": \"inside\"}, \"colorscale\": [[0, \"rgb(20,44,66)\"], [1, \"rgb(90,179,244)\"]], \"type\": \"surface\"}], \"table\": [{\"cells\": {\"fill\": {\"color\": \"rgb(237,237,237)\"}, \"line\": {\"color\": \"white\"}}, \"header\": {\"fill\": {\"color\": \"rgb(217,217,217)\"}, \"line\": {\"color\": \"white\"}}, \"type\": \"table\"}]}, \"layout\": {\"annotationdefaults\": {\"arrowhead\": 0, \"arrowwidth\": 1}, \"coloraxis\": {\"colorbar\": {\"outlinewidth\": 0, \"tickcolor\": \"rgb(237,237,237)\", \"ticklen\": 6, \"ticks\": \"inside\"}}, \"colorscale\": {\"sequential\": [[0, \"rgb(20,44,66)\"], [1, \"rgb(90,179,244)\"]], \"sequentialminus\": [[0, \"rgb(20,44,66)\"], [1, \"rgb(90,179,244)\"]]}, \"colorway\": [\"#F8766D\", \"#A3A500\", \"#00BF7D\", \"#00B0F6\", \"#E76BF3\"], \"font\": {\"color\": \"rgb(51,51,51)\"}, \"geo\": {\"bgcolor\": \"white\", \"lakecolor\": \"white\", \"landcolor\": \"rgb(237,237,237)\", \"showlakes\": true, \"showland\": true, \"subunitcolor\": \"white\"}, \"hoverlabel\": {\"align\": \"left\"}, \"hovermode\": \"closest\", \"paper_bgcolor\": \"white\", \"plot_bgcolor\": \"rgb(237,237,237)\", \"polar\": {\"angularaxis\": {\"gridcolor\": \"white\", \"linecolor\": \"white\", \"showgrid\": true, \"tickcolor\": \"rgb(51,51,51)\", \"ticks\": \"outside\"}, \"bgcolor\": \"rgb(237,237,237)\", \"radialaxis\": {\"gridcolor\": \"white\", \"linecolor\": \"white\", \"showgrid\": true, \"tickcolor\": \"rgb(51,51,51)\", \"ticks\": \"outside\"}}, \"scene\": {\"xaxis\": {\"backgroundcolor\": \"rgb(237,237,237)\", \"gridcolor\": \"white\", \"gridwidth\": 2, \"linecolor\": \"white\", \"showbackground\": true, \"showgrid\": true, \"tickcolor\": \"rgb(51,51,51)\", \"ticks\": \"outside\", \"zerolinecolor\": \"white\"}, \"yaxis\": {\"backgroundcolor\": \"rgb(237,237,237)\", \"gridcolor\": \"white\", \"gridwidth\": 2, \"linecolor\": \"white\", \"showbackground\": true, \"showgrid\": true, \"tickcolor\": \"rgb(51,51,51)\", \"ticks\": \"outside\", \"zerolinecolor\": \"white\"}, \"zaxis\": {\"backgroundcolor\": \"rgb(237,237,237)\", \"gridcolor\": \"white\", \"gridwidth\": 2, \"linecolor\": \"white\", \"showbackground\": true, \"showgrid\": true, \"tickcolor\": \"rgb(51,51,51)\", \"ticks\": \"outside\", \"zerolinecolor\": \"white\"}}, \"shapedefaults\": {\"fillcolor\": \"black\", \"line\": {\"width\": 0}, \"opacity\": 0.3}, \"ternary\": {\"aaxis\": {\"gridcolor\": \"white\", \"linecolor\": \"white\", \"showgrid\": true, \"tickcolor\": \"rgb(51,51,51)\", \"ticks\": \"outside\"}, \"baxis\": {\"gridcolor\": \"white\", \"linecolor\": \"white\", \"showgrid\": true, \"tickcolor\": \"rgb(51,51,51)\", \"ticks\": \"outside\"}, \"bgcolor\": \"rgb(237,237,237)\", \"caxis\": {\"gridcolor\": \"white\", \"linecolor\": \"white\", \"showgrid\": true, \"tickcolor\": \"rgb(51,51,51)\", \"ticks\": \"outside\"}}, \"xaxis\": {\"automargin\": true, \"gridcolor\": \"white\", \"linecolor\": \"white\", \"showgrid\": true, \"tickcolor\": \"rgb(51,51,51)\", \"ticks\": \"outside\", \"title\": {\"standoff\": 15}, \"zerolinecolor\": \"white\"}, \"yaxis\": {\"automargin\": true, \"gridcolor\": \"white\", \"linecolor\": \"white\", \"showgrid\": true, \"tickcolor\": \"rgb(51,51,51)\", \"ticks\": \"outside\", \"title\": {\"standoff\": 15}, \"zerolinecolor\": \"white\"}}}, \"title\": {\"text\": \"State wise deaths in USA\"}, \"xaxis\": {\"anchor\": \"y\", \"domain\": [0.0, 1.0], \"title\": {\"text\": \"Province_State\"}}, \"yaxis\": {\"anchor\": \"x\", \"domain\": [0.0, 1.0], \"title\": {\"text\": \"Deaths\"}}},                        {\"responsive\": true}                    ).then(function(){\n",
       "                            \n",
       "var gd = document.getElementById('7a8b3414-40ce-4b91-8742-806ef453e4c2');\n",
       "var x = new MutationObserver(function (mutations, observer) {{\n",
       "        var display = window.getComputedStyle(gd).display;\n",
       "        if (!display || display === 'none') {{\n",
       "            console.log([gd, 'removed!']);\n",
       "            Plotly.purge(gd);\n",
       "            observer.disconnect();\n",
       "        }}\n",
       "}});\n",
       "\n",
       "// Listen for the removal of the full notebook cells\n",
       "var notebookContainer = gd.closest('#notebook-container');\n",
       "if (notebookContainer) {{\n",
       "    x.observe(notebookContainer, {childList: true});\n",
       "}}\n",
       "\n",
       "// Listen for the clearing of the current output cell\n",
       "var outputEl = gd.closest('.output');\n",
       "if (outputEl) {{\n",
       "    x.observe(outputEl, {childList: true});\n",
       "}}\n",
       "\n",
       "                        })                };                });            </script>        </div>"
      ]
     },
     "metadata": {},
     "output_type": "display_data"
    }
   ],
   "source": [
    "import pandas as pd\n",
    "pio.templates.default = \"ggplot2\"\n",
    "us_data = data[data['Country_Region']=='US'].drop(['Country_Region','Lat', 'Long_'], axis=1)\n",
    "us_data = us_data[us_data.sum(axis = 1) > 0]\n",
    "us_data = us_data.groupby(['Province_State'])['Deaths'].sum().reset_index()\n",
    "us_data_death = us_data[us_data['Deaths'] > 0]\n",
    "state_fig = px.bar(us_data_death, x='Province_State', y='Deaths', title='State wise deaths in USA', text='Deaths')\n",
    "state_fig.show()"
   ]
  },
  {
   "cell_type": "markdown",
   "metadata": {},
   "source": [
    "### Question 7"
   ]
  },
  {
   "cell_type": "markdown",
   "metadata": {},
   "source": [
    "### Plot Province/State Wise Active Cases in USA"
   ]
  },
  {
   "cell_type": "code",
   "execution_count": 27,
   "metadata": {},
   "outputs": [
    {
     "data": {
      "application/vnd.plotly.v1+json": {
       "config": {
        "plotlyServerURL": "https://plot.ly"
       },
       "data": [
        {
         "alignmentgroup": "True",
         "hovertemplate": "Province_State=%{x}<br>Active=%{text}<extra></extra>",
         "legendgroup": "",
         "marker": {
          "color": "#636efa"
         },
         "name": "",
         "offsetgroup": "",
         "orientation": "v",
         "showlegend": false,
         "text": [
          426157,
          52351,
          688170,
          274724,
          3060265,
          375770,
          229022,
          71496,
          49,
          33748,
          1589145,
          831910,
          100,
          7393,
          24622,
          156546,
          1065910,
          592344,
          305995,
          262144,
          334732,
          369876,
          35102,
          327784,
          472274,
          577449,
          444683,
          253449,
          449179,
          89549,
          183478,
          262433,
          59332,
          625429,
          163779,
          1251932,
          689760,
          94947,
          127,
          839186,
          359906,
          134130,
          773075,
          86996,
          106710,
          398119,
          104727,
          689099,
          2174929,
          328922,
          10412,
          2281,
          453664,
          292022,
          110768,
          569598,
          49874
         ],
         "textposition": "auto",
         "type": "bar",
         "x": [
          "Alabama",
          "Alaska",
          "Arizona",
          "Arkansas",
          "California",
          "Colorado",
          "Connecticut",
          "Delaware",
          "Diamond Princess",
          "District of Columbia",
          "Florida",
          "Georgia",
          "Grand Princess",
          "Guam",
          "Hawaii",
          "Idaho",
          "Illinois",
          "Indiana",
          "Iowa",
          "Kansas",
          "Kentucky",
          "Louisiana",
          "Maine",
          "Maryland",
          "Massachusetts",
          "Michigan",
          "Minnesota",
          "Mississippi",
          "Missouri",
          "Montana",
          "Nebraska",
          "Nevada",
          "New Hampshire",
          "New Jersey",
          "New Mexico",
          "New York",
          "North Carolina",
          "North Dakota",
          "Northern Mariana Islands",
          "Ohio",
          "Oklahoma",
          "Oregon",
          "Pennsylvania",
          "Puerto Rico",
          "Rhode Island",
          "South Carolina",
          "South Dakota",
          "Tennessee",
          "Texas",
          "Utah",
          "Vermont",
          "Virgin Islands",
          "Virginia",
          "Washington",
          "West Virginia",
          "Wisconsin",
          "Wyoming"
         ],
         "xaxis": "x",
         "y": [
          426157,
          52351,
          688170,
          274724,
          3060265,
          375770,
          229022,
          71496,
          49,
          33748,
          1589145,
          831910,
          100,
          7393,
          24622,
          156546,
          1065910,
          592344,
          305995,
          262144,
          334732,
          369876,
          35102,
          327784,
          472274,
          577449,
          444683,
          253449,
          449179,
          89549,
          183478,
          262433,
          59332,
          625429,
          163779,
          1251932,
          689760,
          94947,
          127,
          839186,
          359906,
          134130,
          773075,
          86996,
          106710,
          398119,
          104727,
          689099,
          2174929,
          328922,
          10412,
          2281,
          453664,
          292022,
          110768,
          569598,
          49874
         ],
         "yaxis": "y"
        }
       ],
       "layout": {
        "barmode": "relative",
        "legend": {
         "tracegroupgap": 0
        },
        "template": {
         "data": {
          "bar": [
           {
            "error_x": {
             "color": "#f2f5fa"
            },
            "error_y": {
             "color": "#f2f5fa"
            },
            "marker": {
             "line": {
              "color": "rgb(17,17,17)",
              "width": 0.5
             }
            },
            "type": "bar"
           }
          ],
          "barpolar": [
           {
            "marker": {
             "line": {
              "color": "rgb(17,17,17)",
              "width": 0.5
             }
            },
            "type": "barpolar"
           }
          ],
          "carpet": [
           {
            "aaxis": {
             "endlinecolor": "#A2B1C6",
             "gridcolor": "#506784",
             "linecolor": "#506784",
             "minorgridcolor": "#506784",
             "startlinecolor": "#A2B1C6"
            },
            "baxis": {
             "endlinecolor": "#A2B1C6",
             "gridcolor": "#506784",
             "linecolor": "#506784",
             "minorgridcolor": "#506784",
             "startlinecolor": "#A2B1C6"
            },
            "type": "carpet"
           }
          ],
          "choropleth": [
           {
            "colorbar": {
             "outlinewidth": 0,
             "ticks": ""
            },
            "type": "choropleth"
           }
          ],
          "contour": [
           {
            "colorbar": {
             "outlinewidth": 0,
             "ticks": ""
            },
            "colorscale": [
             [
              0,
              "#0d0887"
             ],
             [
              0.1111111111111111,
              "#46039f"
             ],
             [
              0.2222222222222222,
              "#7201a8"
             ],
             [
              0.3333333333333333,
              "#9c179e"
             ],
             [
              0.4444444444444444,
              "#bd3786"
             ],
             [
              0.5555555555555556,
              "#d8576b"
             ],
             [
              0.6666666666666666,
              "#ed7953"
             ],
             [
              0.7777777777777778,
              "#fb9f3a"
             ],
             [
              0.8888888888888888,
              "#fdca26"
             ],
             [
              1,
              "#f0f921"
             ]
            ],
            "type": "contour"
           }
          ],
          "contourcarpet": [
           {
            "colorbar": {
             "outlinewidth": 0,
             "ticks": ""
            },
            "type": "contourcarpet"
           }
          ],
          "heatmap": [
           {
            "colorbar": {
             "outlinewidth": 0,
             "ticks": ""
            },
            "colorscale": [
             [
              0,
              "#0d0887"
             ],
             [
              0.1111111111111111,
              "#46039f"
             ],
             [
              0.2222222222222222,
              "#7201a8"
             ],
             [
              0.3333333333333333,
              "#9c179e"
             ],
             [
              0.4444444444444444,
              "#bd3786"
             ],
             [
              0.5555555555555556,
              "#d8576b"
             ],
             [
              0.6666666666666666,
              "#ed7953"
             ],
             [
              0.7777777777777778,
              "#fb9f3a"
             ],
             [
              0.8888888888888888,
              "#fdca26"
             ],
             [
              1,
              "#f0f921"
             ]
            ],
            "type": "heatmap"
           }
          ],
          "heatmapgl": [
           {
            "colorbar": {
             "outlinewidth": 0,
             "ticks": ""
            },
            "colorscale": [
             [
              0,
              "#0d0887"
             ],
             [
              0.1111111111111111,
              "#46039f"
             ],
             [
              0.2222222222222222,
              "#7201a8"
             ],
             [
              0.3333333333333333,
              "#9c179e"
             ],
             [
              0.4444444444444444,
              "#bd3786"
             ],
             [
              0.5555555555555556,
              "#d8576b"
             ],
             [
              0.6666666666666666,
              "#ed7953"
             ],
             [
              0.7777777777777778,
              "#fb9f3a"
             ],
             [
              0.8888888888888888,
              "#fdca26"
             ],
             [
              1,
              "#f0f921"
             ]
            ],
            "type": "heatmapgl"
           }
          ],
          "histogram": [
           {
            "marker": {
             "colorbar": {
              "outlinewidth": 0,
              "ticks": ""
             }
            },
            "type": "histogram"
           }
          ],
          "histogram2d": [
           {
            "colorbar": {
             "outlinewidth": 0,
             "ticks": ""
            },
            "colorscale": [
             [
              0,
              "#0d0887"
             ],
             [
              0.1111111111111111,
              "#46039f"
             ],
             [
              0.2222222222222222,
              "#7201a8"
             ],
             [
              0.3333333333333333,
              "#9c179e"
             ],
             [
              0.4444444444444444,
              "#bd3786"
             ],
             [
              0.5555555555555556,
              "#d8576b"
             ],
             [
              0.6666666666666666,
              "#ed7953"
             ],
             [
              0.7777777777777778,
              "#fb9f3a"
             ],
             [
              0.8888888888888888,
              "#fdca26"
             ],
             [
              1,
              "#f0f921"
             ]
            ],
            "type": "histogram2d"
           }
          ],
          "histogram2dcontour": [
           {
            "colorbar": {
             "outlinewidth": 0,
             "ticks": ""
            },
            "colorscale": [
             [
              0,
              "#0d0887"
             ],
             [
              0.1111111111111111,
              "#46039f"
             ],
             [
              0.2222222222222222,
              "#7201a8"
             ],
             [
              0.3333333333333333,
              "#9c179e"
             ],
             [
              0.4444444444444444,
              "#bd3786"
             ],
             [
              0.5555555555555556,
              "#d8576b"
             ],
             [
              0.6666666666666666,
              "#ed7953"
             ],
             [
              0.7777777777777778,
              "#fb9f3a"
             ],
             [
              0.8888888888888888,
              "#fdca26"
             ],
             [
              1,
              "#f0f921"
             ]
            ],
            "type": "histogram2dcontour"
           }
          ],
          "mesh3d": [
           {
            "colorbar": {
             "outlinewidth": 0,
             "ticks": ""
            },
            "type": "mesh3d"
           }
          ],
          "parcoords": [
           {
            "line": {
             "colorbar": {
              "outlinewidth": 0,
              "ticks": ""
             }
            },
            "type": "parcoords"
           }
          ],
          "pie": [
           {
            "automargin": true,
            "type": "pie"
           }
          ],
          "scatter": [
           {
            "marker": {
             "line": {
              "color": "#283442"
             }
            },
            "type": "scatter"
           }
          ],
          "scatter3d": [
           {
            "line": {
             "colorbar": {
              "outlinewidth": 0,
              "ticks": ""
             }
            },
            "marker": {
             "colorbar": {
              "outlinewidth": 0,
              "ticks": ""
             }
            },
            "type": "scatter3d"
           }
          ],
          "scattercarpet": [
           {
            "marker": {
             "colorbar": {
              "outlinewidth": 0,
              "ticks": ""
             }
            },
            "type": "scattercarpet"
           }
          ],
          "scattergeo": [
           {
            "marker": {
             "colorbar": {
              "outlinewidth": 0,
              "ticks": ""
             }
            },
            "type": "scattergeo"
           }
          ],
          "scattergl": [
           {
            "marker": {
             "line": {
              "color": "#283442"
             }
            },
            "type": "scattergl"
           }
          ],
          "scattermapbox": [
           {
            "marker": {
             "colorbar": {
              "outlinewidth": 0,
              "ticks": ""
             }
            },
            "type": "scattermapbox"
           }
          ],
          "scatterpolar": [
           {
            "marker": {
             "colorbar": {
              "outlinewidth": 0,
              "ticks": ""
             }
            },
            "type": "scatterpolar"
           }
          ],
          "scatterpolargl": [
           {
            "marker": {
             "colorbar": {
              "outlinewidth": 0,
              "ticks": ""
             }
            },
            "type": "scatterpolargl"
           }
          ],
          "scatterternary": [
           {
            "marker": {
             "colorbar": {
              "outlinewidth": 0,
              "ticks": ""
             }
            },
            "type": "scatterternary"
           }
          ],
          "surface": [
           {
            "colorbar": {
             "outlinewidth": 0,
             "ticks": ""
            },
            "colorscale": [
             [
              0,
              "#0d0887"
             ],
             [
              0.1111111111111111,
              "#46039f"
             ],
             [
              0.2222222222222222,
              "#7201a8"
             ],
             [
              0.3333333333333333,
              "#9c179e"
             ],
             [
              0.4444444444444444,
              "#bd3786"
             ],
             [
              0.5555555555555556,
              "#d8576b"
             ],
             [
              0.6666666666666666,
              "#ed7953"
             ],
             [
              0.7777777777777778,
              "#fb9f3a"
             ],
             [
              0.8888888888888888,
              "#fdca26"
             ],
             [
              1,
              "#f0f921"
             ]
            ],
            "type": "surface"
           }
          ],
          "table": [
           {
            "cells": {
             "fill": {
              "color": "#506784"
             },
             "line": {
              "color": "rgb(17,17,17)"
             }
            },
            "header": {
             "fill": {
              "color": "#2a3f5f"
             },
             "line": {
              "color": "rgb(17,17,17)"
             }
            },
            "type": "table"
           }
          ]
         },
         "layout": {
          "annotationdefaults": {
           "arrowcolor": "#f2f5fa",
           "arrowhead": 0,
           "arrowwidth": 1
          },
          "coloraxis": {
           "colorbar": {
            "outlinewidth": 0,
            "ticks": ""
           }
          },
          "colorscale": {
           "diverging": [
            [
             0,
             "#8e0152"
            ],
            [
             0.1,
             "#c51b7d"
            ],
            [
             0.2,
             "#de77ae"
            ],
            [
             0.3,
             "#f1b6da"
            ],
            [
             0.4,
             "#fde0ef"
            ],
            [
             0.5,
             "#f7f7f7"
            ],
            [
             0.6,
             "#e6f5d0"
            ],
            [
             0.7,
             "#b8e186"
            ],
            [
             0.8,
             "#7fbc41"
            ],
            [
             0.9,
             "#4d9221"
            ],
            [
             1,
             "#276419"
            ]
           ],
           "sequential": [
            [
             0,
             "#0d0887"
            ],
            [
             0.1111111111111111,
             "#46039f"
            ],
            [
             0.2222222222222222,
             "#7201a8"
            ],
            [
             0.3333333333333333,
             "#9c179e"
            ],
            [
             0.4444444444444444,
             "#bd3786"
            ],
            [
             0.5555555555555556,
             "#d8576b"
            ],
            [
             0.6666666666666666,
             "#ed7953"
            ],
            [
             0.7777777777777778,
             "#fb9f3a"
            ],
            [
             0.8888888888888888,
             "#fdca26"
            ],
            [
             1,
             "#f0f921"
            ]
           ],
           "sequentialminus": [
            [
             0,
             "#0d0887"
            ],
            [
             0.1111111111111111,
             "#46039f"
            ],
            [
             0.2222222222222222,
             "#7201a8"
            ],
            [
             0.3333333333333333,
             "#9c179e"
            ],
            [
             0.4444444444444444,
             "#bd3786"
            ],
            [
             0.5555555555555556,
             "#d8576b"
            ],
            [
             0.6666666666666666,
             "#ed7953"
            ],
            [
             0.7777777777777778,
             "#fb9f3a"
            ],
            [
             0.8888888888888888,
             "#fdca26"
            ],
            [
             1,
             "#f0f921"
            ]
           ]
          },
          "colorway": [
           "#636efa",
           "#EF553B",
           "#00cc96",
           "#ab63fa",
           "#FFA15A",
           "#19d3f3",
           "#FF6692",
           "#B6E880",
           "#FF97FF",
           "#FECB52"
          ],
          "font": {
           "color": "#f2f5fa"
          },
          "geo": {
           "bgcolor": "rgb(17,17,17)",
           "lakecolor": "rgb(17,17,17)",
           "landcolor": "rgb(17,17,17)",
           "showlakes": true,
           "showland": true,
           "subunitcolor": "#506784"
          },
          "hoverlabel": {
           "align": "left"
          },
          "hovermode": "closest",
          "mapbox": {
           "style": "dark"
          },
          "paper_bgcolor": "rgb(17,17,17)",
          "plot_bgcolor": "rgb(17,17,17)",
          "polar": {
           "angularaxis": {
            "gridcolor": "#506784",
            "linecolor": "#506784",
            "ticks": ""
           },
           "bgcolor": "rgb(17,17,17)",
           "radialaxis": {
            "gridcolor": "#506784",
            "linecolor": "#506784",
            "ticks": ""
           }
          },
          "scene": {
           "xaxis": {
            "backgroundcolor": "rgb(17,17,17)",
            "gridcolor": "#506784",
            "gridwidth": 2,
            "linecolor": "#506784",
            "showbackground": true,
            "ticks": "",
            "zerolinecolor": "#C8D4E3"
           },
           "yaxis": {
            "backgroundcolor": "rgb(17,17,17)",
            "gridcolor": "#506784",
            "gridwidth": 2,
            "linecolor": "#506784",
            "showbackground": true,
            "ticks": "",
            "zerolinecolor": "#C8D4E3"
           },
           "zaxis": {
            "backgroundcolor": "rgb(17,17,17)",
            "gridcolor": "#506784",
            "gridwidth": 2,
            "linecolor": "#506784",
            "showbackground": true,
            "ticks": "",
            "zerolinecolor": "#C8D4E3"
           }
          },
          "shapedefaults": {
           "line": {
            "color": "#f2f5fa"
           }
          },
          "sliderdefaults": {
           "bgcolor": "#C8D4E3",
           "bordercolor": "rgb(17,17,17)",
           "borderwidth": 1,
           "tickwidth": 0
          },
          "ternary": {
           "aaxis": {
            "gridcolor": "#506784",
            "linecolor": "#506784",
            "ticks": ""
           },
           "baxis": {
            "gridcolor": "#506784",
            "linecolor": "#506784",
            "ticks": ""
           },
           "bgcolor": "rgb(17,17,17)",
           "caxis": {
            "gridcolor": "#506784",
            "linecolor": "#506784",
            "ticks": ""
           }
          },
          "title": {
           "x": 0.05
          },
          "updatemenudefaults": {
           "bgcolor": "#506784",
           "borderwidth": 0
          },
          "xaxis": {
           "automargin": true,
           "gridcolor": "#283442",
           "linecolor": "#506784",
           "ticks": "",
           "title": {
            "standoff": 15
           },
           "zerolinecolor": "#283442",
           "zerolinewidth": 2
          },
          "yaxis": {
           "automargin": true,
           "gridcolor": "#283442",
           "linecolor": "#506784",
           "ticks": "",
           "title": {
            "standoff": 15
           },
           "zerolinecolor": "#283442",
           "zerolinewidth": 2
          }
         }
        },
        "title": {
         "text": "State wise Active cases in USA"
        },
        "xaxis": {
         "anchor": "y",
         "domain": [
          0,
          1
         ],
         "title": {
          "text": "Province_State"
         }
        },
        "yaxis": {
         "anchor": "x",
         "domain": [
          0,
          1
         ],
         "title": {
          "text": "Active"
         }
        }
       }
      },
      "text/html": [
       "<div>                            <div id=\"d4f91b93-91f0-44c1-a70a-cc37524c072b\" class=\"plotly-graph-div\" style=\"height:525px; width:100%;\"></div>            <script type=\"text/javascript\">                require([\"plotly\"], function(Plotly) {                    window.PLOTLYENV=window.PLOTLYENV || {};                                    if (document.getElementById(\"d4f91b93-91f0-44c1-a70a-cc37524c072b\")) {                    Plotly.newPlot(                        \"d4f91b93-91f0-44c1-a70a-cc37524c072b\",                        [{\"alignmentgroup\": \"True\", \"hovertemplate\": \"Province_State=%{x}<br>Active=%{text}<extra></extra>\", \"legendgroup\": \"\", \"marker\": {\"color\": \"#636efa\"}, \"name\": \"\", \"offsetgroup\": \"\", \"orientation\": \"v\", \"showlegend\": false, \"text\": [426157.0, 52351.0, 688170.0, 274724.0, 3060265.0, 375770.0, 229022.0, 71496.0, 49.0, 33748.0, 1589145.0, 831910.0, 100.0, 7393.0, 24622.0, 156546.0, 1065910.0, 592344.0, 305995.0, 262144.0, 334732.0, 369876.0, 35102.0, 327784.0, 472274.0, 577449.0, 444683.0, 253449.0, 449179.0, 89549.0, 183478.0, 262433.0, 59332.0, 625429.0, 163779.0, 1251932.0, 689760.0, 94947.0, 127.0, 839186.0, 359906.0, 134130.0, 773075.0, 86996.0, 106710.0, 398119.0, 104727.0, 689099.0, 2174929.0, 328922.0, 10412.0, 2281.0, 453664.0, 292022.0, 110768.0, 569598.0, 49874.0], \"textposition\": \"auto\", \"type\": \"bar\", \"x\": [\"Alabama\", \"Alaska\", \"Arizona\", \"Arkansas\", \"California\", \"Colorado\", \"Connecticut\", \"Delaware\", \"Diamond Princess\", \"District of Columbia\", \"Florida\", \"Georgia\", \"Grand Princess\", \"Guam\", \"Hawaii\", \"Idaho\", \"Illinois\", \"Indiana\", \"Iowa\", \"Kansas\", \"Kentucky\", \"Louisiana\", \"Maine\", \"Maryland\", \"Massachusetts\", \"Michigan\", \"Minnesota\", \"Mississippi\", \"Missouri\", \"Montana\", \"Nebraska\", \"Nevada\", \"New Hampshire\", \"New Jersey\", \"New Mexico\", \"New York\", \"North Carolina\", \"North Dakota\", \"Northern Mariana Islands\", \"Ohio\", \"Oklahoma\", \"Oregon\", \"Pennsylvania\", \"Puerto Rico\", \"Rhode Island\", \"South Carolina\", \"South Dakota\", \"Tennessee\", \"Texas\", \"Utah\", \"Vermont\", \"Virgin Islands\", \"Virginia\", \"Washington\", \"West Virginia\", \"Wisconsin\", \"Wyoming\"], \"xaxis\": \"x\", \"y\": [426157.0, 52351.0, 688170.0, 274724.0, 3060265.0, 375770.0, 229022.0, 71496.0, 49.0, 33748.0, 1589145.0, 831910.0, 100.0, 7393.0, 24622.0, 156546.0, 1065910.0, 592344.0, 305995.0, 262144.0, 334732.0, 369876.0, 35102.0, 327784.0, 472274.0, 577449.0, 444683.0, 253449.0, 449179.0, 89549.0, 183478.0, 262433.0, 59332.0, 625429.0, 163779.0, 1251932.0, 689760.0, 94947.0, 127.0, 839186.0, 359906.0, 134130.0, 773075.0, 86996.0, 106710.0, 398119.0, 104727.0, 689099.0, 2174929.0, 328922.0, 10412.0, 2281.0, 453664.0, 292022.0, 110768.0, 569598.0, 49874.0], \"yaxis\": \"y\"}],                        {\"barmode\": \"relative\", \"legend\": {\"tracegroupgap\": 0}, \"template\": {\"data\": {\"bar\": [{\"error_x\": {\"color\": \"#f2f5fa\"}, \"error_y\": {\"color\": \"#f2f5fa\"}, \"marker\": {\"line\": {\"color\": \"rgb(17,17,17)\", \"width\": 0.5}}, \"type\": \"bar\"}], \"barpolar\": [{\"marker\": {\"line\": {\"color\": \"rgb(17,17,17)\", \"width\": 0.5}}, \"type\": \"barpolar\"}], \"carpet\": [{\"aaxis\": {\"endlinecolor\": \"#A2B1C6\", \"gridcolor\": \"#506784\", \"linecolor\": \"#506784\", \"minorgridcolor\": \"#506784\", \"startlinecolor\": \"#A2B1C6\"}, \"baxis\": {\"endlinecolor\": \"#A2B1C6\", \"gridcolor\": \"#506784\", \"linecolor\": \"#506784\", \"minorgridcolor\": \"#506784\", \"startlinecolor\": \"#A2B1C6\"}, \"type\": \"carpet\"}], \"choropleth\": [{\"colorbar\": {\"outlinewidth\": 0, \"ticks\": \"\"}, \"type\": \"choropleth\"}], \"contour\": [{\"colorbar\": {\"outlinewidth\": 0, \"ticks\": \"\"}, \"colorscale\": [[0.0, \"#0d0887\"], [0.1111111111111111, \"#46039f\"], [0.2222222222222222, \"#7201a8\"], [0.3333333333333333, \"#9c179e\"], [0.4444444444444444, \"#bd3786\"], [0.5555555555555556, \"#d8576b\"], [0.6666666666666666, \"#ed7953\"], [0.7777777777777778, \"#fb9f3a\"], [0.8888888888888888, \"#fdca26\"], [1.0, \"#f0f921\"]], \"type\": \"contour\"}], \"contourcarpet\": [{\"colorbar\": {\"outlinewidth\": 0, \"ticks\": \"\"}, \"type\": \"contourcarpet\"}], \"heatmap\": [{\"colorbar\": {\"outlinewidth\": 0, \"ticks\": \"\"}, \"colorscale\": [[0.0, \"#0d0887\"], [0.1111111111111111, \"#46039f\"], [0.2222222222222222, \"#7201a8\"], [0.3333333333333333, \"#9c179e\"], [0.4444444444444444, \"#bd3786\"], [0.5555555555555556, \"#d8576b\"], [0.6666666666666666, \"#ed7953\"], [0.7777777777777778, \"#fb9f3a\"], [0.8888888888888888, \"#fdca26\"], [1.0, \"#f0f921\"]], \"type\": \"heatmap\"}], \"heatmapgl\": [{\"colorbar\": {\"outlinewidth\": 0, \"ticks\": \"\"}, \"colorscale\": [[0.0, \"#0d0887\"], [0.1111111111111111, \"#46039f\"], [0.2222222222222222, \"#7201a8\"], [0.3333333333333333, \"#9c179e\"], [0.4444444444444444, \"#bd3786\"], [0.5555555555555556, \"#d8576b\"], [0.6666666666666666, \"#ed7953\"], [0.7777777777777778, \"#fb9f3a\"], [0.8888888888888888, \"#fdca26\"], [1.0, \"#f0f921\"]], \"type\": \"heatmapgl\"}], \"histogram\": [{\"marker\": {\"colorbar\": {\"outlinewidth\": 0, \"ticks\": \"\"}}, \"type\": \"histogram\"}], \"histogram2d\": [{\"colorbar\": {\"outlinewidth\": 0, \"ticks\": \"\"}, \"colorscale\": [[0.0, \"#0d0887\"], [0.1111111111111111, \"#46039f\"], [0.2222222222222222, \"#7201a8\"], [0.3333333333333333, \"#9c179e\"], [0.4444444444444444, \"#bd3786\"], [0.5555555555555556, \"#d8576b\"], [0.6666666666666666, \"#ed7953\"], [0.7777777777777778, \"#fb9f3a\"], [0.8888888888888888, \"#fdca26\"], [1.0, \"#f0f921\"]], \"type\": \"histogram2d\"}], \"histogram2dcontour\": [{\"colorbar\": {\"outlinewidth\": 0, \"ticks\": \"\"}, \"colorscale\": [[0.0, \"#0d0887\"], [0.1111111111111111, \"#46039f\"], [0.2222222222222222, \"#7201a8\"], [0.3333333333333333, \"#9c179e\"], [0.4444444444444444, \"#bd3786\"], [0.5555555555555556, \"#d8576b\"], [0.6666666666666666, \"#ed7953\"], [0.7777777777777778, \"#fb9f3a\"], [0.8888888888888888, \"#fdca26\"], [1.0, \"#f0f921\"]], \"type\": \"histogram2dcontour\"}], \"mesh3d\": [{\"colorbar\": {\"outlinewidth\": 0, \"ticks\": \"\"}, \"type\": \"mesh3d\"}], \"parcoords\": [{\"line\": {\"colorbar\": {\"outlinewidth\": 0, \"ticks\": \"\"}}, \"type\": \"parcoords\"}], \"pie\": [{\"automargin\": true, \"type\": \"pie\"}], \"scatter\": [{\"marker\": {\"line\": {\"color\": \"#283442\"}}, \"type\": \"scatter\"}], \"scatter3d\": [{\"line\": {\"colorbar\": {\"outlinewidth\": 0, \"ticks\": \"\"}}, \"marker\": {\"colorbar\": {\"outlinewidth\": 0, \"ticks\": \"\"}}, \"type\": \"scatter3d\"}], \"scattercarpet\": [{\"marker\": {\"colorbar\": {\"outlinewidth\": 0, \"ticks\": \"\"}}, \"type\": \"scattercarpet\"}], \"scattergeo\": [{\"marker\": {\"colorbar\": {\"outlinewidth\": 0, \"ticks\": \"\"}}, \"type\": \"scattergeo\"}], \"scattergl\": [{\"marker\": {\"line\": {\"color\": \"#283442\"}}, \"type\": \"scattergl\"}], \"scattermapbox\": [{\"marker\": {\"colorbar\": {\"outlinewidth\": 0, \"ticks\": \"\"}}, \"type\": \"scattermapbox\"}], \"scatterpolar\": [{\"marker\": {\"colorbar\": {\"outlinewidth\": 0, \"ticks\": \"\"}}, \"type\": \"scatterpolar\"}], \"scatterpolargl\": [{\"marker\": {\"colorbar\": {\"outlinewidth\": 0, \"ticks\": \"\"}}, \"type\": \"scatterpolargl\"}], \"scatterternary\": [{\"marker\": {\"colorbar\": {\"outlinewidth\": 0, \"ticks\": \"\"}}, \"type\": \"scatterternary\"}], \"surface\": [{\"colorbar\": {\"outlinewidth\": 0, \"ticks\": \"\"}, \"colorscale\": [[0.0, \"#0d0887\"], [0.1111111111111111, \"#46039f\"], [0.2222222222222222, \"#7201a8\"], [0.3333333333333333, \"#9c179e\"], [0.4444444444444444, \"#bd3786\"], [0.5555555555555556, \"#d8576b\"], [0.6666666666666666, \"#ed7953\"], [0.7777777777777778, \"#fb9f3a\"], [0.8888888888888888, \"#fdca26\"], [1.0, \"#f0f921\"]], \"type\": \"surface\"}], \"table\": [{\"cells\": {\"fill\": {\"color\": \"#506784\"}, \"line\": {\"color\": \"rgb(17,17,17)\"}}, \"header\": {\"fill\": {\"color\": \"#2a3f5f\"}, \"line\": {\"color\": \"rgb(17,17,17)\"}}, \"type\": \"table\"}]}, \"layout\": {\"annotationdefaults\": {\"arrowcolor\": \"#f2f5fa\", \"arrowhead\": 0, \"arrowwidth\": 1}, \"coloraxis\": {\"colorbar\": {\"outlinewidth\": 0, \"ticks\": \"\"}}, \"colorscale\": {\"diverging\": [[0, \"#8e0152\"], [0.1, \"#c51b7d\"], [0.2, \"#de77ae\"], [0.3, \"#f1b6da\"], [0.4, \"#fde0ef\"], [0.5, \"#f7f7f7\"], [0.6, \"#e6f5d0\"], [0.7, \"#b8e186\"], [0.8, \"#7fbc41\"], [0.9, \"#4d9221\"], [1, \"#276419\"]], \"sequential\": [[0.0, \"#0d0887\"], [0.1111111111111111, \"#46039f\"], [0.2222222222222222, \"#7201a8\"], [0.3333333333333333, \"#9c179e\"], [0.4444444444444444, \"#bd3786\"], [0.5555555555555556, \"#d8576b\"], [0.6666666666666666, \"#ed7953\"], [0.7777777777777778, \"#fb9f3a\"], [0.8888888888888888, \"#fdca26\"], [1.0, \"#f0f921\"]], \"sequentialminus\": [[0.0, \"#0d0887\"], [0.1111111111111111, \"#46039f\"], [0.2222222222222222, \"#7201a8\"], [0.3333333333333333, \"#9c179e\"], [0.4444444444444444, \"#bd3786\"], [0.5555555555555556, \"#d8576b\"], [0.6666666666666666, \"#ed7953\"], [0.7777777777777778, \"#fb9f3a\"], [0.8888888888888888, \"#fdca26\"], [1.0, \"#f0f921\"]]}, \"colorway\": [\"#636efa\", \"#EF553B\", \"#00cc96\", \"#ab63fa\", \"#FFA15A\", \"#19d3f3\", \"#FF6692\", \"#B6E880\", \"#FF97FF\", \"#FECB52\"], \"font\": {\"color\": \"#f2f5fa\"}, \"geo\": {\"bgcolor\": \"rgb(17,17,17)\", \"lakecolor\": \"rgb(17,17,17)\", \"landcolor\": \"rgb(17,17,17)\", \"showlakes\": true, \"showland\": true, \"subunitcolor\": \"#506784\"}, \"hoverlabel\": {\"align\": \"left\"}, \"hovermode\": \"closest\", \"mapbox\": {\"style\": \"dark\"}, \"paper_bgcolor\": \"rgb(17,17,17)\", \"plot_bgcolor\": \"rgb(17,17,17)\", \"polar\": {\"angularaxis\": {\"gridcolor\": \"#506784\", \"linecolor\": \"#506784\", \"ticks\": \"\"}, \"bgcolor\": \"rgb(17,17,17)\", \"radialaxis\": {\"gridcolor\": \"#506784\", \"linecolor\": \"#506784\", \"ticks\": \"\"}}, \"scene\": {\"xaxis\": {\"backgroundcolor\": \"rgb(17,17,17)\", \"gridcolor\": \"#506784\", \"gridwidth\": 2, \"linecolor\": \"#506784\", \"showbackground\": true, \"ticks\": \"\", \"zerolinecolor\": \"#C8D4E3\"}, \"yaxis\": {\"backgroundcolor\": \"rgb(17,17,17)\", \"gridcolor\": \"#506784\", \"gridwidth\": 2, \"linecolor\": \"#506784\", \"showbackground\": true, \"ticks\": \"\", \"zerolinecolor\": \"#C8D4E3\"}, \"zaxis\": {\"backgroundcolor\": \"rgb(17,17,17)\", \"gridcolor\": \"#506784\", \"gridwidth\": 2, \"linecolor\": \"#506784\", \"showbackground\": true, \"ticks\": \"\", \"zerolinecolor\": \"#C8D4E3\"}}, \"shapedefaults\": {\"line\": {\"color\": \"#f2f5fa\"}}, \"sliderdefaults\": {\"bgcolor\": \"#C8D4E3\", \"bordercolor\": \"rgb(17,17,17)\", \"borderwidth\": 1, \"tickwidth\": 0}, \"ternary\": {\"aaxis\": {\"gridcolor\": \"#506784\", \"linecolor\": \"#506784\", \"ticks\": \"\"}, \"baxis\": {\"gridcolor\": \"#506784\", \"linecolor\": \"#506784\", \"ticks\": \"\"}, \"bgcolor\": \"rgb(17,17,17)\", \"caxis\": {\"gridcolor\": \"#506784\", \"linecolor\": \"#506784\", \"ticks\": \"\"}}, \"title\": {\"x\": 0.05}, \"updatemenudefaults\": {\"bgcolor\": \"#506784\", \"borderwidth\": 0}, \"xaxis\": {\"automargin\": true, \"gridcolor\": \"#283442\", \"linecolor\": \"#506784\", \"ticks\": \"\", \"title\": {\"standoff\": 15}, \"zerolinecolor\": \"#283442\", \"zerolinewidth\": 2}, \"yaxis\": {\"automargin\": true, \"gridcolor\": \"#283442\", \"linecolor\": \"#506784\", \"ticks\": \"\", \"title\": {\"standoff\": 15}, \"zerolinecolor\": \"#283442\", \"zerolinewidth\": 2}}}, \"title\": {\"text\": \"State wise Active cases in USA\"}, \"xaxis\": {\"anchor\": \"y\", \"domain\": [0.0, 1.0], \"title\": {\"text\": \"Province_State\"}}, \"yaxis\": {\"anchor\": \"x\", \"domain\": [0.0, 1.0], \"title\": {\"text\": \"Active\"}}},                        {\"responsive\": true}                    ).then(function(){\n",
       "                            \n",
       "var gd = document.getElementById('d4f91b93-91f0-44c1-a70a-cc37524c072b');\n",
       "var x = new MutationObserver(function (mutations, observer) {{\n",
       "        var display = window.getComputedStyle(gd).display;\n",
       "        if (!display || display === 'none') {{\n",
       "            console.log([gd, 'removed!']);\n",
       "            Plotly.purge(gd);\n",
       "            observer.disconnect();\n",
       "        }}\n",
       "}});\n",
       "\n",
       "// Listen for the removal of the full notebook cells\n",
       "var notebookContainer = gd.closest('#notebook-container');\n",
       "if (notebookContainer) {{\n",
       "    x.observe(notebookContainer, {childList: true});\n",
       "}}\n",
       "\n",
       "// Listen for the clearing of the current output cell\n",
       "var outputEl = gd.closest('.output');\n",
       "if (outputEl) {{\n",
       "    x.observe(outputEl, {childList: true});\n",
       "}}\n",
       "\n",
       "                        })                };                });            </script>        </div>"
      ]
     },
     "metadata": {},
     "output_type": "display_data"
    }
   ],
   "source": [
    "import pandas as pd\n",
    "import plotly.express as px\n",
    "pio.templates.default = \"plotly_dark\"\n",
    "us_data = data[data['Country_Region']=='US'].drop(['Country_Region','Lat', 'Long_'], axis=1)\n",
    "us_data = us_data[us_data.sum(axis = 1) > 0]\n",
    "us_data = us_data.groupby(['Province_State'])['Active'].sum().reset_index()\n",
    "us_data_death = us_data[us_data['Active'] > 0]\n",
    "state_fig = px.bar(us_data_death, x='Province_State', y='Active', title='State wise Active cases in USA', text='Active')\n",
    "state_fig.show()"
   ]
  },
  {
   "cell_type": "markdown",
   "metadata": {},
   "source": [
    "### Question 8"
   ]
  },
  {
   "cell_type": "markdown",
   "metadata": {},
   "source": [
    "### Plot Province/State Wise Confirmed cases in USA"
   ]
  },
  {
   "cell_type": "code",
   "execution_count": 26,
   "metadata": {},
   "outputs": [
    {
     "data": {
      "application/vnd.plotly.v1+json": {
       "config": {
        "plotlyServerURL": "https://plot.ly"
       },
       "data": [
        {
         "alignmentgroup": "True",
         "hovertemplate": "Province_State=%{x}<br>Confirmed=%{text}<extra></extra>",
         "legendgroup": "",
         "marker": {
          "color": "#636efa"
         },
         "name": "",
         "offsetgroup": "",
         "orientation": "v",
         "showlegend": false,
         "text": [
          432536,
          52627,
          699942,
          279220,
          3173403,
          381210,
          235796,
          72523,
          49,
          34612,
          1613884,
          844799,
          103,
          7521,
          25441,
          158200,
          1086333,
          601937,
          310440,
          265709,
          338033,
          378318,
          35638,
          334519,
          486180,
          592382,
          450762,
          259117,
          511631,
          90649,
          185346,
          266343,
          60588,
          646189,
          166823,
          1293719,
          698099,
          96369,
          129,
          849704,
          363614,
          135973,
          794787,
          88728,
          108786,
          404492,
          106400,
          697783,
          2208871,
          330469,
          10580,
          2321,
          459604,
          296087,
          112617,
          575688,
          50424
         ],
         "textposition": "auto",
         "type": "bar",
         "x": [
          "Alabama",
          "Alaska",
          "Arizona",
          "Arkansas",
          "California",
          "Colorado",
          "Connecticut",
          "Delaware",
          "Diamond Princess",
          "District of Columbia",
          "Florida",
          "Georgia",
          "Grand Princess",
          "Guam",
          "Hawaii",
          "Idaho",
          "Illinois",
          "Indiana",
          "Iowa",
          "Kansas",
          "Kentucky",
          "Louisiana",
          "Maine",
          "Maryland",
          "Massachusetts",
          "Michigan",
          "Minnesota",
          "Mississippi",
          "Missouri",
          "Montana",
          "Nebraska",
          "Nevada",
          "New Hampshire",
          "New Jersey",
          "New Mexico",
          "New York",
          "North Carolina",
          "North Dakota",
          "Northern Mariana Islands",
          "Ohio",
          "Oklahoma",
          "Oregon",
          "Pennsylvania",
          "Puerto Rico",
          "Rhode Island",
          "South Carolina",
          "South Dakota",
          "Tennessee",
          "Texas",
          "Utah",
          "Vermont",
          "Virgin Islands",
          "Virginia",
          "Washington",
          "West Virginia",
          "Wisconsin",
          "Wyoming"
         ],
         "xaxis": "x",
         "y": [
          432536,
          52627,
          699942,
          279220,
          3173403,
          381210,
          235796,
          72523,
          49,
          34612,
          1613884,
          844799,
          103,
          7521,
          25441,
          158200,
          1086333,
          601937,
          310440,
          265709,
          338033,
          378318,
          35638,
          334519,
          486180,
          592382,
          450762,
          259117,
          511631,
          90649,
          185346,
          266343,
          60588,
          646189,
          166823,
          1293719,
          698099,
          96369,
          129,
          849704,
          363614,
          135973,
          794787,
          88728,
          108786,
          404492,
          106400,
          697783,
          2208871,
          330469,
          10580,
          2321,
          459604,
          296087,
          112617,
          575688,
          50424
         ],
         "yaxis": "y"
        }
       ],
       "layout": {
        "barmode": "relative",
        "legend": {
         "tracegroupgap": 0
        },
        "template": {
         "data": {
          "bar": [
           {
            "error_x": {
             "color": "#2a3f5f"
            },
            "error_y": {
             "color": "#2a3f5f"
            },
            "marker": {
             "line": {
              "color": "#E5ECF6",
              "width": 0.5
             }
            },
            "type": "bar"
           }
          ],
          "barpolar": [
           {
            "marker": {
             "line": {
              "color": "#E5ECF6",
              "width": 0.5
             }
            },
            "type": "barpolar"
           }
          ],
          "carpet": [
           {
            "aaxis": {
             "endlinecolor": "#2a3f5f",
             "gridcolor": "white",
             "linecolor": "white",
             "minorgridcolor": "white",
             "startlinecolor": "#2a3f5f"
            },
            "baxis": {
             "endlinecolor": "#2a3f5f",
             "gridcolor": "white",
             "linecolor": "white",
             "minorgridcolor": "white",
             "startlinecolor": "#2a3f5f"
            },
            "type": "carpet"
           }
          ],
          "choropleth": [
           {
            "colorbar": {
             "outlinewidth": 0,
             "ticks": ""
            },
            "type": "choropleth"
           }
          ],
          "contour": [
           {
            "colorbar": {
             "outlinewidth": 0,
             "ticks": ""
            },
            "colorscale": [
             [
              0,
              "#0d0887"
             ],
             [
              0.1111111111111111,
              "#46039f"
             ],
             [
              0.2222222222222222,
              "#7201a8"
             ],
             [
              0.3333333333333333,
              "#9c179e"
             ],
             [
              0.4444444444444444,
              "#bd3786"
             ],
             [
              0.5555555555555556,
              "#d8576b"
             ],
             [
              0.6666666666666666,
              "#ed7953"
             ],
             [
              0.7777777777777778,
              "#fb9f3a"
             ],
             [
              0.8888888888888888,
              "#fdca26"
             ],
             [
              1,
              "#f0f921"
             ]
            ],
            "type": "contour"
           }
          ],
          "contourcarpet": [
           {
            "colorbar": {
             "outlinewidth": 0,
             "ticks": ""
            },
            "type": "contourcarpet"
           }
          ],
          "heatmap": [
           {
            "colorbar": {
             "outlinewidth": 0,
             "ticks": ""
            },
            "colorscale": [
             [
              0,
              "#0d0887"
             ],
             [
              0.1111111111111111,
              "#46039f"
             ],
             [
              0.2222222222222222,
              "#7201a8"
             ],
             [
              0.3333333333333333,
              "#9c179e"
             ],
             [
              0.4444444444444444,
              "#bd3786"
             ],
             [
              0.5555555555555556,
              "#d8576b"
             ],
             [
              0.6666666666666666,
              "#ed7953"
             ],
             [
              0.7777777777777778,
              "#fb9f3a"
             ],
             [
              0.8888888888888888,
              "#fdca26"
             ],
             [
              1,
              "#f0f921"
             ]
            ],
            "type": "heatmap"
           }
          ],
          "heatmapgl": [
           {
            "colorbar": {
             "outlinewidth": 0,
             "ticks": ""
            },
            "colorscale": [
             [
              0,
              "#0d0887"
             ],
             [
              0.1111111111111111,
              "#46039f"
             ],
             [
              0.2222222222222222,
              "#7201a8"
             ],
             [
              0.3333333333333333,
              "#9c179e"
             ],
             [
              0.4444444444444444,
              "#bd3786"
             ],
             [
              0.5555555555555556,
              "#d8576b"
             ],
             [
              0.6666666666666666,
              "#ed7953"
             ],
             [
              0.7777777777777778,
              "#fb9f3a"
             ],
             [
              0.8888888888888888,
              "#fdca26"
             ],
             [
              1,
              "#f0f921"
             ]
            ],
            "type": "heatmapgl"
           }
          ],
          "histogram": [
           {
            "marker": {
             "colorbar": {
              "outlinewidth": 0,
              "ticks": ""
             }
            },
            "type": "histogram"
           }
          ],
          "histogram2d": [
           {
            "colorbar": {
             "outlinewidth": 0,
             "ticks": ""
            },
            "colorscale": [
             [
              0,
              "#0d0887"
             ],
             [
              0.1111111111111111,
              "#46039f"
             ],
             [
              0.2222222222222222,
              "#7201a8"
             ],
             [
              0.3333333333333333,
              "#9c179e"
             ],
             [
              0.4444444444444444,
              "#bd3786"
             ],
             [
              0.5555555555555556,
              "#d8576b"
             ],
             [
              0.6666666666666666,
              "#ed7953"
             ],
             [
              0.7777777777777778,
              "#fb9f3a"
             ],
             [
              0.8888888888888888,
              "#fdca26"
             ],
             [
              1,
              "#f0f921"
             ]
            ],
            "type": "histogram2d"
           }
          ],
          "histogram2dcontour": [
           {
            "colorbar": {
             "outlinewidth": 0,
             "ticks": ""
            },
            "colorscale": [
             [
              0,
              "#0d0887"
             ],
             [
              0.1111111111111111,
              "#46039f"
             ],
             [
              0.2222222222222222,
              "#7201a8"
             ],
             [
              0.3333333333333333,
              "#9c179e"
             ],
             [
              0.4444444444444444,
              "#bd3786"
             ],
             [
              0.5555555555555556,
              "#d8576b"
             ],
             [
              0.6666666666666666,
              "#ed7953"
             ],
             [
              0.7777777777777778,
              "#fb9f3a"
             ],
             [
              0.8888888888888888,
              "#fdca26"
             ],
             [
              1,
              "#f0f921"
             ]
            ],
            "type": "histogram2dcontour"
           }
          ],
          "mesh3d": [
           {
            "colorbar": {
             "outlinewidth": 0,
             "ticks": ""
            },
            "type": "mesh3d"
           }
          ],
          "parcoords": [
           {
            "line": {
             "colorbar": {
              "outlinewidth": 0,
              "ticks": ""
             }
            },
            "type": "parcoords"
           }
          ],
          "pie": [
           {
            "automargin": true,
            "type": "pie"
           }
          ],
          "scatter": [
           {
            "marker": {
             "colorbar": {
              "outlinewidth": 0,
              "ticks": ""
             }
            },
            "type": "scatter"
           }
          ],
          "scatter3d": [
           {
            "line": {
             "colorbar": {
              "outlinewidth": 0,
              "ticks": ""
             }
            },
            "marker": {
             "colorbar": {
              "outlinewidth": 0,
              "ticks": ""
             }
            },
            "type": "scatter3d"
           }
          ],
          "scattercarpet": [
           {
            "marker": {
             "colorbar": {
              "outlinewidth": 0,
              "ticks": ""
             }
            },
            "type": "scattercarpet"
           }
          ],
          "scattergeo": [
           {
            "marker": {
             "colorbar": {
              "outlinewidth": 0,
              "ticks": ""
             }
            },
            "type": "scattergeo"
           }
          ],
          "scattergl": [
           {
            "marker": {
             "colorbar": {
              "outlinewidth": 0,
              "ticks": ""
             }
            },
            "type": "scattergl"
           }
          ],
          "scattermapbox": [
           {
            "marker": {
             "colorbar": {
              "outlinewidth": 0,
              "ticks": ""
             }
            },
            "type": "scattermapbox"
           }
          ],
          "scatterpolar": [
           {
            "marker": {
             "colorbar": {
              "outlinewidth": 0,
              "ticks": ""
             }
            },
            "type": "scatterpolar"
           }
          ],
          "scatterpolargl": [
           {
            "marker": {
             "colorbar": {
              "outlinewidth": 0,
              "ticks": ""
             }
            },
            "type": "scatterpolargl"
           }
          ],
          "scatterternary": [
           {
            "marker": {
             "colorbar": {
              "outlinewidth": 0,
              "ticks": ""
             }
            },
            "type": "scatterternary"
           }
          ],
          "surface": [
           {
            "colorbar": {
             "outlinewidth": 0,
             "ticks": ""
            },
            "colorscale": [
             [
              0,
              "#0d0887"
             ],
             [
              0.1111111111111111,
              "#46039f"
             ],
             [
              0.2222222222222222,
              "#7201a8"
             ],
             [
              0.3333333333333333,
              "#9c179e"
             ],
             [
              0.4444444444444444,
              "#bd3786"
             ],
             [
              0.5555555555555556,
              "#d8576b"
             ],
             [
              0.6666666666666666,
              "#ed7953"
             ],
             [
              0.7777777777777778,
              "#fb9f3a"
             ],
             [
              0.8888888888888888,
              "#fdca26"
             ],
             [
              1,
              "#f0f921"
             ]
            ],
            "type": "surface"
           }
          ],
          "table": [
           {
            "cells": {
             "fill": {
              "color": "#EBF0F8"
             },
             "line": {
              "color": "white"
             }
            },
            "header": {
             "fill": {
              "color": "#C8D4E3"
             },
             "line": {
              "color": "white"
             }
            },
            "type": "table"
           }
          ]
         },
         "layout": {
          "annotationdefaults": {
           "arrowcolor": "#2a3f5f",
           "arrowhead": 0,
           "arrowwidth": 1
          },
          "coloraxis": {
           "colorbar": {
            "outlinewidth": 0,
            "ticks": ""
           }
          },
          "colorscale": {
           "diverging": [
            [
             0,
             "#8e0152"
            ],
            [
             0.1,
             "#c51b7d"
            ],
            [
             0.2,
             "#de77ae"
            ],
            [
             0.3,
             "#f1b6da"
            ],
            [
             0.4,
             "#fde0ef"
            ],
            [
             0.5,
             "#f7f7f7"
            ],
            [
             0.6,
             "#e6f5d0"
            ],
            [
             0.7,
             "#b8e186"
            ],
            [
             0.8,
             "#7fbc41"
            ],
            [
             0.9,
             "#4d9221"
            ],
            [
             1,
             "#276419"
            ]
           ],
           "sequential": [
            [
             0,
             "#0d0887"
            ],
            [
             0.1111111111111111,
             "#46039f"
            ],
            [
             0.2222222222222222,
             "#7201a8"
            ],
            [
             0.3333333333333333,
             "#9c179e"
            ],
            [
             0.4444444444444444,
             "#bd3786"
            ],
            [
             0.5555555555555556,
             "#d8576b"
            ],
            [
             0.6666666666666666,
             "#ed7953"
            ],
            [
             0.7777777777777778,
             "#fb9f3a"
            ],
            [
             0.8888888888888888,
             "#fdca26"
            ],
            [
             1,
             "#f0f921"
            ]
           ],
           "sequentialminus": [
            [
             0,
             "#0d0887"
            ],
            [
             0.1111111111111111,
             "#46039f"
            ],
            [
             0.2222222222222222,
             "#7201a8"
            ],
            [
             0.3333333333333333,
             "#9c179e"
            ],
            [
             0.4444444444444444,
             "#bd3786"
            ],
            [
             0.5555555555555556,
             "#d8576b"
            ],
            [
             0.6666666666666666,
             "#ed7953"
            ],
            [
             0.7777777777777778,
             "#fb9f3a"
            ],
            [
             0.8888888888888888,
             "#fdca26"
            ],
            [
             1,
             "#f0f921"
            ]
           ]
          },
          "colorway": [
           "#636efa",
           "#EF553B",
           "#00cc96",
           "#ab63fa",
           "#FFA15A",
           "#19d3f3",
           "#FF6692",
           "#B6E880",
           "#FF97FF",
           "#FECB52"
          ],
          "font": {
           "color": "#2a3f5f"
          },
          "geo": {
           "bgcolor": "white",
           "lakecolor": "white",
           "landcolor": "#E5ECF6",
           "showlakes": true,
           "showland": true,
           "subunitcolor": "white"
          },
          "hoverlabel": {
           "align": "left"
          },
          "hovermode": "closest",
          "mapbox": {
           "style": "light"
          },
          "paper_bgcolor": "white",
          "plot_bgcolor": "#E5ECF6",
          "polar": {
           "angularaxis": {
            "gridcolor": "white",
            "linecolor": "white",
            "ticks": ""
           },
           "bgcolor": "#E5ECF6",
           "radialaxis": {
            "gridcolor": "white",
            "linecolor": "white",
            "ticks": ""
           }
          },
          "scene": {
           "xaxis": {
            "backgroundcolor": "#E5ECF6",
            "gridcolor": "white",
            "gridwidth": 2,
            "linecolor": "white",
            "showbackground": true,
            "ticks": "",
            "zerolinecolor": "white"
           },
           "yaxis": {
            "backgroundcolor": "#E5ECF6",
            "gridcolor": "white",
            "gridwidth": 2,
            "linecolor": "white",
            "showbackground": true,
            "ticks": "",
            "zerolinecolor": "white"
           },
           "zaxis": {
            "backgroundcolor": "#E5ECF6",
            "gridcolor": "white",
            "gridwidth": 2,
            "linecolor": "white",
            "showbackground": true,
            "ticks": "",
            "zerolinecolor": "white"
           }
          },
          "shapedefaults": {
           "line": {
            "color": "#2a3f5f"
           }
          },
          "ternary": {
           "aaxis": {
            "gridcolor": "white",
            "linecolor": "white",
            "ticks": ""
           },
           "baxis": {
            "gridcolor": "white",
            "linecolor": "white",
            "ticks": ""
           },
           "bgcolor": "#E5ECF6",
           "caxis": {
            "gridcolor": "white",
            "linecolor": "white",
            "ticks": ""
           }
          },
          "title": {
           "x": 0.05
          },
          "xaxis": {
           "automargin": true,
           "gridcolor": "white",
           "linecolor": "white",
           "ticks": "",
           "title": {
            "standoff": 15
           },
           "zerolinecolor": "white",
           "zerolinewidth": 2
          },
          "yaxis": {
           "automargin": true,
           "gridcolor": "white",
           "linecolor": "white",
           "ticks": "",
           "title": {
            "standoff": 15
           },
           "zerolinecolor": "white",
           "zerolinewidth": 2
          }
         }
        },
        "title": {
         "text": "State wise confirmed cases in USA"
        },
        "xaxis": {
         "anchor": "y",
         "domain": [
          0,
          1
         ],
         "title": {
          "text": "Province_State"
         }
        },
        "yaxis": {
         "anchor": "x",
         "domain": [
          0,
          1
         ],
         "title": {
          "text": "Confirmed"
         }
        }
       }
      },
      "text/html": [
       "<div>                            <div id=\"90eb7d24-ccc3-4cc9-831c-05136809543e\" class=\"plotly-graph-div\" style=\"height:525px; width:100%;\"></div>            <script type=\"text/javascript\">                require([\"plotly\"], function(Plotly) {                    window.PLOTLYENV=window.PLOTLYENV || {};                                    if (document.getElementById(\"90eb7d24-ccc3-4cc9-831c-05136809543e\")) {                    Plotly.newPlot(                        \"90eb7d24-ccc3-4cc9-831c-05136809543e\",                        [{\"alignmentgroup\": \"True\", \"hovertemplate\": \"Province_State=%{x}<br>Confirmed=%{text}<extra></extra>\", \"legendgroup\": \"\", \"marker\": {\"color\": \"#636efa\"}, \"name\": \"\", \"offsetgroup\": \"\", \"orientation\": \"v\", \"showlegend\": false, \"text\": [432536.0, 52627.0, 699942.0, 279220.0, 3173403.0, 381210.0, 235796.0, 72523.0, 49.0, 34612.0, 1613884.0, 844799.0, 103.0, 7521.0, 25441.0, 158200.0, 1086333.0, 601937.0, 310440.0, 265709.0, 338033.0, 378318.0, 35638.0, 334519.0, 486180.0, 592382.0, 450762.0, 259117.0, 511631.0, 90649.0, 185346.0, 266343.0, 60588.0, 646189.0, 166823.0, 1293719.0, 698099.0, 96369.0, 129.0, 849704.0, 363614.0, 135973.0, 794787.0, 88728.0, 108786.0, 404492.0, 106400.0, 697783.0, 2208871.0, 330469.0, 10580.0, 2321.0, 459604.0, 296087.0, 112617.0, 575688.0, 50424.0], \"textposition\": \"auto\", \"type\": \"bar\", \"x\": [\"Alabama\", \"Alaska\", \"Arizona\", \"Arkansas\", \"California\", \"Colorado\", \"Connecticut\", \"Delaware\", \"Diamond Princess\", \"District of Columbia\", \"Florida\", \"Georgia\", \"Grand Princess\", \"Guam\", \"Hawaii\", \"Idaho\", \"Illinois\", \"Indiana\", \"Iowa\", \"Kansas\", \"Kentucky\", \"Louisiana\", \"Maine\", \"Maryland\", \"Massachusetts\", \"Michigan\", \"Minnesota\", \"Mississippi\", \"Missouri\", \"Montana\", \"Nebraska\", \"Nevada\", \"New Hampshire\", \"New Jersey\", \"New Mexico\", \"New York\", \"North Carolina\", \"North Dakota\", \"Northern Mariana Islands\", \"Ohio\", \"Oklahoma\", \"Oregon\", \"Pennsylvania\", \"Puerto Rico\", \"Rhode Island\", \"South Carolina\", \"South Dakota\", \"Tennessee\", \"Texas\", \"Utah\", \"Vermont\", \"Virgin Islands\", \"Virginia\", \"Washington\", \"West Virginia\", \"Wisconsin\", \"Wyoming\"], \"xaxis\": \"x\", \"y\": [432536, 52627, 699942, 279220, 3173403, 381210, 235796, 72523, 49, 34612, 1613884, 844799, 103, 7521, 25441, 158200, 1086333, 601937, 310440, 265709, 338033, 378318, 35638, 334519, 486180, 592382, 450762, 259117, 511631, 90649, 185346, 266343, 60588, 646189, 166823, 1293719, 698099, 96369, 129, 849704, 363614, 135973, 794787, 88728, 108786, 404492, 106400, 697783, 2208871, 330469, 10580, 2321, 459604, 296087, 112617, 575688, 50424], \"yaxis\": \"y\"}],                        {\"barmode\": \"relative\", \"legend\": {\"tracegroupgap\": 0}, \"template\": {\"data\": {\"bar\": [{\"error_x\": {\"color\": \"#2a3f5f\"}, \"error_y\": {\"color\": \"#2a3f5f\"}, \"marker\": {\"line\": {\"color\": \"#E5ECF6\", \"width\": 0.5}}, \"type\": \"bar\"}], \"barpolar\": [{\"marker\": {\"line\": {\"color\": \"#E5ECF6\", \"width\": 0.5}}, \"type\": \"barpolar\"}], \"carpet\": [{\"aaxis\": {\"endlinecolor\": \"#2a3f5f\", \"gridcolor\": \"white\", \"linecolor\": \"white\", \"minorgridcolor\": \"white\", \"startlinecolor\": \"#2a3f5f\"}, \"baxis\": {\"endlinecolor\": \"#2a3f5f\", \"gridcolor\": \"white\", \"linecolor\": \"white\", \"minorgridcolor\": \"white\", \"startlinecolor\": \"#2a3f5f\"}, \"type\": \"carpet\"}], \"choropleth\": [{\"colorbar\": {\"outlinewidth\": 0, \"ticks\": \"\"}, \"type\": \"choropleth\"}], \"contour\": [{\"colorbar\": {\"outlinewidth\": 0, \"ticks\": \"\"}, \"colorscale\": [[0.0, \"#0d0887\"], [0.1111111111111111, \"#46039f\"], [0.2222222222222222, \"#7201a8\"], [0.3333333333333333, \"#9c179e\"], [0.4444444444444444, \"#bd3786\"], [0.5555555555555556, \"#d8576b\"], [0.6666666666666666, \"#ed7953\"], [0.7777777777777778, \"#fb9f3a\"], [0.8888888888888888, \"#fdca26\"], [1.0, \"#f0f921\"]], \"type\": \"contour\"}], \"contourcarpet\": [{\"colorbar\": {\"outlinewidth\": 0, \"ticks\": \"\"}, \"type\": \"contourcarpet\"}], \"heatmap\": [{\"colorbar\": {\"outlinewidth\": 0, \"ticks\": \"\"}, \"colorscale\": [[0.0, \"#0d0887\"], [0.1111111111111111, \"#46039f\"], [0.2222222222222222, \"#7201a8\"], [0.3333333333333333, \"#9c179e\"], [0.4444444444444444, \"#bd3786\"], [0.5555555555555556, \"#d8576b\"], [0.6666666666666666, \"#ed7953\"], [0.7777777777777778, \"#fb9f3a\"], [0.8888888888888888, \"#fdca26\"], [1.0, \"#f0f921\"]], \"type\": \"heatmap\"}], \"heatmapgl\": [{\"colorbar\": {\"outlinewidth\": 0, \"ticks\": \"\"}, \"colorscale\": [[0.0, \"#0d0887\"], [0.1111111111111111, \"#46039f\"], [0.2222222222222222, \"#7201a8\"], [0.3333333333333333, \"#9c179e\"], [0.4444444444444444, \"#bd3786\"], [0.5555555555555556, \"#d8576b\"], [0.6666666666666666, \"#ed7953\"], [0.7777777777777778, \"#fb9f3a\"], [0.8888888888888888, \"#fdca26\"], [1.0, \"#f0f921\"]], \"type\": \"heatmapgl\"}], \"histogram\": [{\"marker\": {\"colorbar\": {\"outlinewidth\": 0, \"ticks\": \"\"}}, \"type\": \"histogram\"}], \"histogram2d\": [{\"colorbar\": {\"outlinewidth\": 0, \"ticks\": \"\"}, \"colorscale\": [[0.0, \"#0d0887\"], [0.1111111111111111, \"#46039f\"], [0.2222222222222222, \"#7201a8\"], [0.3333333333333333, \"#9c179e\"], [0.4444444444444444, \"#bd3786\"], [0.5555555555555556, \"#d8576b\"], [0.6666666666666666, \"#ed7953\"], [0.7777777777777778, \"#fb9f3a\"], [0.8888888888888888, \"#fdca26\"], [1.0, \"#f0f921\"]], \"type\": \"histogram2d\"}], \"histogram2dcontour\": [{\"colorbar\": {\"outlinewidth\": 0, \"ticks\": \"\"}, \"colorscale\": [[0.0, \"#0d0887\"], [0.1111111111111111, \"#46039f\"], [0.2222222222222222, \"#7201a8\"], [0.3333333333333333, \"#9c179e\"], [0.4444444444444444, \"#bd3786\"], [0.5555555555555556, \"#d8576b\"], [0.6666666666666666, \"#ed7953\"], [0.7777777777777778, \"#fb9f3a\"], [0.8888888888888888, \"#fdca26\"], [1.0, \"#f0f921\"]], \"type\": \"histogram2dcontour\"}], \"mesh3d\": [{\"colorbar\": {\"outlinewidth\": 0, \"ticks\": \"\"}, \"type\": \"mesh3d\"}], \"parcoords\": [{\"line\": {\"colorbar\": {\"outlinewidth\": 0, \"ticks\": \"\"}}, \"type\": \"parcoords\"}], \"pie\": [{\"automargin\": true, \"type\": \"pie\"}], \"scatter\": [{\"marker\": {\"colorbar\": {\"outlinewidth\": 0, \"ticks\": \"\"}}, \"type\": \"scatter\"}], \"scatter3d\": [{\"line\": {\"colorbar\": {\"outlinewidth\": 0, \"ticks\": \"\"}}, \"marker\": {\"colorbar\": {\"outlinewidth\": 0, \"ticks\": \"\"}}, \"type\": \"scatter3d\"}], \"scattercarpet\": [{\"marker\": {\"colorbar\": {\"outlinewidth\": 0, \"ticks\": \"\"}}, \"type\": \"scattercarpet\"}], \"scattergeo\": [{\"marker\": {\"colorbar\": {\"outlinewidth\": 0, \"ticks\": \"\"}}, \"type\": \"scattergeo\"}], \"scattergl\": [{\"marker\": {\"colorbar\": {\"outlinewidth\": 0, \"ticks\": \"\"}}, \"type\": \"scattergl\"}], \"scattermapbox\": [{\"marker\": {\"colorbar\": {\"outlinewidth\": 0, \"ticks\": \"\"}}, \"type\": \"scattermapbox\"}], \"scatterpolar\": [{\"marker\": {\"colorbar\": {\"outlinewidth\": 0, \"ticks\": \"\"}}, \"type\": \"scatterpolar\"}], \"scatterpolargl\": [{\"marker\": {\"colorbar\": {\"outlinewidth\": 0, \"ticks\": \"\"}}, \"type\": \"scatterpolargl\"}], \"scatterternary\": [{\"marker\": {\"colorbar\": {\"outlinewidth\": 0, \"ticks\": \"\"}}, \"type\": \"scatterternary\"}], \"surface\": [{\"colorbar\": {\"outlinewidth\": 0, \"ticks\": \"\"}, \"colorscale\": [[0.0, \"#0d0887\"], [0.1111111111111111, \"#46039f\"], [0.2222222222222222, \"#7201a8\"], [0.3333333333333333, \"#9c179e\"], [0.4444444444444444, \"#bd3786\"], [0.5555555555555556, \"#d8576b\"], [0.6666666666666666, \"#ed7953\"], [0.7777777777777778, \"#fb9f3a\"], [0.8888888888888888, \"#fdca26\"], [1.0, \"#f0f921\"]], \"type\": \"surface\"}], \"table\": [{\"cells\": {\"fill\": {\"color\": \"#EBF0F8\"}, \"line\": {\"color\": \"white\"}}, \"header\": {\"fill\": {\"color\": \"#C8D4E3\"}, \"line\": {\"color\": \"white\"}}, \"type\": \"table\"}]}, \"layout\": {\"annotationdefaults\": {\"arrowcolor\": \"#2a3f5f\", \"arrowhead\": 0, \"arrowwidth\": 1}, \"coloraxis\": {\"colorbar\": {\"outlinewidth\": 0, \"ticks\": \"\"}}, \"colorscale\": {\"diverging\": [[0, \"#8e0152\"], [0.1, \"#c51b7d\"], [0.2, \"#de77ae\"], [0.3, \"#f1b6da\"], [0.4, \"#fde0ef\"], [0.5, \"#f7f7f7\"], [0.6, \"#e6f5d0\"], [0.7, \"#b8e186\"], [0.8, \"#7fbc41\"], [0.9, \"#4d9221\"], [1, \"#276419\"]], \"sequential\": [[0.0, \"#0d0887\"], [0.1111111111111111, \"#46039f\"], [0.2222222222222222, \"#7201a8\"], [0.3333333333333333, \"#9c179e\"], [0.4444444444444444, \"#bd3786\"], [0.5555555555555556, \"#d8576b\"], [0.6666666666666666, \"#ed7953\"], [0.7777777777777778, \"#fb9f3a\"], [0.8888888888888888, \"#fdca26\"], [1.0, \"#f0f921\"]], \"sequentialminus\": [[0.0, \"#0d0887\"], [0.1111111111111111, \"#46039f\"], [0.2222222222222222, \"#7201a8\"], [0.3333333333333333, \"#9c179e\"], [0.4444444444444444, \"#bd3786\"], [0.5555555555555556, \"#d8576b\"], [0.6666666666666666, \"#ed7953\"], [0.7777777777777778, \"#fb9f3a\"], [0.8888888888888888, \"#fdca26\"], [1.0, \"#f0f921\"]]}, \"colorway\": [\"#636efa\", \"#EF553B\", \"#00cc96\", \"#ab63fa\", \"#FFA15A\", \"#19d3f3\", \"#FF6692\", \"#B6E880\", \"#FF97FF\", \"#FECB52\"], \"font\": {\"color\": \"#2a3f5f\"}, \"geo\": {\"bgcolor\": \"white\", \"lakecolor\": \"white\", \"landcolor\": \"#E5ECF6\", \"showlakes\": true, \"showland\": true, \"subunitcolor\": \"white\"}, \"hoverlabel\": {\"align\": \"left\"}, \"hovermode\": \"closest\", \"mapbox\": {\"style\": \"light\"}, \"paper_bgcolor\": \"white\", \"plot_bgcolor\": \"#E5ECF6\", \"polar\": {\"angularaxis\": {\"gridcolor\": \"white\", \"linecolor\": \"white\", \"ticks\": \"\"}, \"bgcolor\": \"#E5ECF6\", \"radialaxis\": {\"gridcolor\": \"white\", \"linecolor\": \"white\", \"ticks\": \"\"}}, \"scene\": {\"xaxis\": {\"backgroundcolor\": \"#E5ECF6\", \"gridcolor\": \"white\", \"gridwidth\": 2, \"linecolor\": \"white\", \"showbackground\": true, \"ticks\": \"\", \"zerolinecolor\": \"white\"}, \"yaxis\": {\"backgroundcolor\": \"#E5ECF6\", \"gridcolor\": \"white\", \"gridwidth\": 2, \"linecolor\": \"white\", \"showbackground\": true, \"ticks\": \"\", \"zerolinecolor\": \"white\"}, \"zaxis\": {\"backgroundcolor\": \"#E5ECF6\", \"gridcolor\": \"white\", \"gridwidth\": 2, \"linecolor\": \"white\", \"showbackground\": true, \"ticks\": \"\", \"zerolinecolor\": \"white\"}}, \"shapedefaults\": {\"line\": {\"color\": \"#2a3f5f\"}}, \"ternary\": {\"aaxis\": {\"gridcolor\": \"white\", \"linecolor\": \"white\", \"ticks\": \"\"}, \"baxis\": {\"gridcolor\": \"white\", \"linecolor\": \"white\", \"ticks\": \"\"}, \"bgcolor\": \"#E5ECF6\", \"caxis\": {\"gridcolor\": \"white\", \"linecolor\": \"white\", \"ticks\": \"\"}}, \"title\": {\"x\": 0.05}, \"xaxis\": {\"automargin\": true, \"gridcolor\": \"white\", \"linecolor\": \"white\", \"ticks\": \"\", \"title\": {\"standoff\": 15}, \"zerolinecolor\": \"white\", \"zerolinewidth\": 2}, \"yaxis\": {\"automargin\": true, \"gridcolor\": \"white\", \"linecolor\": \"white\", \"ticks\": \"\", \"title\": {\"standoff\": 15}, \"zerolinecolor\": \"white\", \"zerolinewidth\": 2}}}, \"title\": {\"text\": \"State wise confirmed cases in USA\"}, \"xaxis\": {\"anchor\": \"y\", \"domain\": [0.0, 1.0], \"title\": {\"text\": \"Province_State\"}}, \"yaxis\": {\"anchor\": \"x\", \"domain\": [0.0, 1.0], \"title\": {\"text\": \"Confirmed\"}}},                        {\"responsive\": true}                    ).then(function(){\n",
       "                            \n",
       "var gd = document.getElementById('90eb7d24-ccc3-4cc9-831c-05136809543e');\n",
       "var x = new MutationObserver(function (mutations, observer) {{\n",
       "        var display = window.getComputedStyle(gd).display;\n",
       "        if (!display || display === 'none') {{\n",
       "            console.log([gd, 'removed!']);\n",
       "            Plotly.purge(gd);\n",
       "            observer.disconnect();\n",
       "        }}\n",
       "}});\n",
       "\n",
       "// Listen for the removal of the full notebook cells\n",
       "var notebookContainer = gd.closest('#notebook-container');\n",
       "if (notebookContainer) {{\n",
       "    x.observe(notebookContainer, {childList: true});\n",
       "}}\n",
       "\n",
       "// Listen for the clearing of the current output cell\n",
       "var outputEl = gd.closest('.output');\n",
       "if (outputEl) {{\n",
       "    x.observe(outputEl, {childList: true});\n",
       "}}\n",
       "\n",
       "                        })                };                });            </script>        </div>"
      ]
     },
     "metadata": {},
     "output_type": "display_data"
    }
   ],
   "source": [
    "import pandas as pd\n",
    "import plotly.express as px\n",
    "pio.templates.default = \"plotly\"\n",
    "us_data = data[data['Country_Region']=='US'].drop(['Country_Region','Lat', 'Long_'], axis=1)\n",
    "us_data = us_data[us_data.sum(axis = 1) > 0]\n",
    "us_data = us_data.groupby(['Province_State'])['Confirmed'].sum().reset_index()\n",
    "us_data_death = us_data[us_data['Confirmed'] > 0]\n",
    "state_fig = px.bar(us_data_death, x='Province_State', y='Confirmed', title='State wise confirmed cases in USA', text='Confirmed')\n",
    "state_fig.show()"
   ]
  },
  {
   "cell_type": "markdown",
   "metadata": {},
   "source": [
    "### Question 9"
   ]
  },
  {
   "cell_type": "markdown",
   "metadata": {},
   "source": [
    "### Plot Worldwide Confirmed Cases over time"
   ]
  },
  {
   "cell_type": "code",
   "execution_count": 30,
   "metadata": {},
   "outputs": [
    {
     "data": {
      "application/vnd.plotly.v1+json": {
       "config": {
        "plotlyServerURL": "https://plot.ly"
       },
       "data": [
        {
         "hovertemplate": "Last_Update=%{x}<br>Confirmed=%{y}<extra></extra>",
         "legendgroup": "",
         "line": {
          "color": "rgb(76,114,176)",
          "dash": "solid"
         },
         "mode": "lines",
         "name": "",
         "orientation": "v",
         "showlegend": false,
         "type": "scatter",
         "x": [
          "2020-08-04 02:27:56",
          "2020-08-07 22:34:20",
          "2020-12-21 13:27:30",
          "2021-01-08 23:22:27",
          "2021-01-22 05:22:10",
          "2021-04-02 15:13:53"
         ],
         "xaxis": "x",
         "y": [
          152,
          0,
          791,
          196,
          97653356,
          425
         ],
         "yaxis": "y"
        }
       ],
       "layout": {
        "legend": {
         "tracegroupgap": 0
        },
        "template": {
         "data": {
          "bar": [
           {
            "error_x": {
             "color": "rgb(36,36,36)"
            },
            "error_y": {
             "color": "rgb(36,36,36)"
            },
            "marker": {
             "line": {
              "color": "rgb(234,234,242)",
              "width": 0.5
             }
            },
            "type": "bar"
           }
          ],
          "barpolar": [
           {
            "marker": {
             "line": {
              "color": "rgb(234,234,242)",
              "width": 0.5
             }
            },
            "type": "barpolar"
           }
          ],
          "carpet": [
           {
            "aaxis": {
             "endlinecolor": "rgb(36,36,36)",
             "gridcolor": "white",
             "linecolor": "white",
             "minorgridcolor": "white",
             "startlinecolor": "rgb(36,36,36)"
            },
            "baxis": {
             "endlinecolor": "rgb(36,36,36)",
             "gridcolor": "white",
             "linecolor": "white",
             "minorgridcolor": "white",
             "startlinecolor": "rgb(36,36,36)"
            },
            "type": "carpet"
           }
          ],
          "choropleth": [
           {
            "colorbar": {
             "outlinewidth": 0,
             "tickcolor": "rgb(36,36,36)",
             "ticklen": 8,
             "ticks": "outside",
             "tickwidth": 2
            },
            "type": "choropleth"
           }
          ],
          "contour": [
           {
            "colorbar": {
             "outlinewidth": 0,
             "tickcolor": "rgb(36,36,36)",
             "ticklen": 8,
             "ticks": "outside",
             "tickwidth": 2
            },
            "colorscale": [
             [
              0,
              "rgb(2,4,25)"
             ],
             [
              0.06274509803921569,
              "rgb(24,15,41)"
             ],
             [
              0.12549019607843137,
              "rgb(47,23,57)"
             ],
             [
              0.18823529411764706,
              "rgb(71,28,72)"
             ],
             [
              0.25098039215686274,
              "rgb(97,30,82)"
             ],
             [
              0.3137254901960784,
              "rgb(123,30,89)"
             ],
             [
              0.3764705882352941,
              "rgb(150,27,91)"
             ],
             [
              0.4392156862745098,
              "rgb(177,22,88)"
             ],
             [
              0.5019607843137255,
              "rgb(203,26,79)"
             ],
             [
              0.5647058823529412,
              "rgb(223,47,67)"
             ],
             [
              0.6274509803921569,
              "rgb(236,76,61)"
             ],
             [
              0.6901960784313725,
              "rgb(242,107,73)"
             ],
             [
              0.7529411764705882,
              "rgb(244,135,95)"
             ],
             [
              0.8156862745098039,
              "rgb(245,162,122)"
             ],
             [
              0.8784313725490196,
              "rgb(246,188,153)"
             ],
             [
              0.9411764705882353,
              "rgb(247,212,187)"
             ],
             [
              1,
              "rgb(250,234,220)"
             ]
            ],
            "type": "contour"
           }
          ],
          "contourcarpet": [
           {
            "colorbar": {
             "outlinewidth": 0,
             "tickcolor": "rgb(36,36,36)",
             "ticklen": 8,
             "ticks": "outside",
             "tickwidth": 2
            },
            "type": "contourcarpet"
           }
          ],
          "heatmap": [
           {
            "colorbar": {
             "outlinewidth": 0,
             "tickcolor": "rgb(36,36,36)",
             "ticklen": 8,
             "ticks": "outside",
             "tickwidth": 2
            },
            "colorscale": [
             [
              0,
              "rgb(2,4,25)"
             ],
             [
              0.06274509803921569,
              "rgb(24,15,41)"
             ],
             [
              0.12549019607843137,
              "rgb(47,23,57)"
             ],
             [
              0.18823529411764706,
              "rgb(71,28,72)"
             ],
             [
              0.25098039215686274,
              "rgb(97,30,82)"
             ],
             [
              0.3137254901960784,
              "rgb(123,30,89)"
             ],
             [
              0.3764705882352941,
              "rgb(150,27,91)"
             ],
             [
              0.4392156862745098,
              "rgb(177,22,88)"
             ],
             [
              0.5019607843137255,
              "rgb(203,26,79)"
             ],
             [
              0.5647058823529412,
              "rgb(223,47,67)"
             ],
             [
              0.6274509803921569,
              "rgb(236,76,61)"
             ],
             [
              0.6901960784313725,
              "rgb(242,107,73)"
             ],
             [
              0.7529411764705882,
              "rgb(244,135,95)"
             ],
             [
              0.8156862745098039,
              "rgb(245,162,122)"
             ],
             [
              0.8784313725490196,
              "rgb(246,188,153)"
             ],
             [
              0.9411764705882353,
              "rgb(247,212,187)"
             ],
             [
              1,
              "rgb(250,234,220)"
             ]
            ],
            "type": "heatmap"
           }
          ],
          "heatmapgl": [
           {
            "colorbar": {
             "outlinewidth": 0,
             "tickcolor": "rgb(36,36,36)",
             "ticklen": 8,
             "ticks": "outside",
             "tickwidth": 2
            },
            "colorscale": [
             [
              0,
              "rgb(2,4,25)"
             ],
             [
              0.06274509803921569,
              "rgb(24,15,41)"
             ],
             [
              0.12549019607843137,
              "rgb(47,23,57)"
             ],
             [
              0.18823529411764706,
              "rgb(71,28,72)"
             ],
             [
              0.25098039215686274,
              "rgb(97,30,82)"
             ],
             [
              0.3137254901960784,
              "rgb(123,30,89)"
             ],
             [
              0.3764705882352941,
              "rgb(150,27,91)"
             ],
             [
              0.4392156862745098,
              "rgb(177,22,88)"
             ],
             [
              0.5019607843137255,
              "rgb(203,26,79)"
             ],
             [
              0.5647058823529412,
              "rgb(223,47,67)"
             ],
             [
              0.6274509803921569,
              "rgb(236,76,61)"
             ],
             [
              0.6901960784313725,
              "rgb(242,107,73)"
             ],
             [
              0.7529411764705882,
              "rgb(244,135,95)"
             ],
             [
              0.8156862745098039,
              "rgb(245,162,122)"
             ],
             [
              0.8784313725490196,
              "rgb(246,188,153)"
             ],
             [
              0.9411764705882353,
              "rgb(247,212,187)"
             ],
             [
              1,
              "rgb(250,234,220)"
             ]
            ],
            "type": "heatmapgl"
           }
          ],
          "histogram": [
           {
            "marker": {
             "colorbar": {
              "outlinewidth": 0,
              "tickcolor": "rgb(36,36,36)",
              "ticklen": 8,
              "ticks": "outside",
              "tickwidth": 2
             }
            },
            "type": "histogram"
           }
          ],
          "histogram2d": [
           {
            "colorbar": {
             "outlinewidth": 0,
             "tickcolor": "rgb(36,36,36)",
             "ticklen": 8,
             "ticks": "outside",
             "tickwidth": 2
            },
            "colorscale": [
             [
              0,
              "rgb(2,4,25)"
             ],
             [
              0.06274509803921569,
              "rgb(24,15,41)"
             ],
             [
              0.12549019607843137,
              "rgb(47,23,57)"
             ],
             [
              0.18823529411764706,
              "rgb(71,28,72)"
             ],
             [
              0.25098039215686274,
              "rgb(97,30,82)"
             ],
             [
              0.3137254901960784,
              "rgb(123,30,89)"
             ],
             [
              0.3764705882352941,
              "rgb(150,27,91)"
             ],
             [
              0.4392156862745098,
              "rgb(177,22,88)"
             ],
             [
              0.5019607843137255,
              "rgb(203,26,79)"
             ],
             [
              0.5647058823529412,
              "rgb(223,47,67)"
             ],
             [
              0.6274509803921569,
              "rgb(236,76,61)"
             ],
             [
              0.6901960784313725,
              "rgb(242,107,73)"
             ],
             [
              0.7529411764705882,
              "rgb(244,135,95)"
             ],
             [
              0.8156862745098039,
              "rgb(245,162,122)"
             ],
             [
              0.8784313725490196,
              "rgb(246,188,153)"
             ],
             [
              0.9411764705882353,
              "rgb(247,212,187)"
             ],
             [
              1,
              "rgb(250,234,220)"
             ]
            ],
            "type": "histogram2d"
           }
          ],
          "histogram2dcontour": [
           {
            "colorbar": {
             "outlinewidth": 0,
             "tickcolor": "rgb(36,36,36)",
             "ticklen": 8,
             "ticks": "outside",
             "tickwidth": 2
            },
            "colorscale": [
             [
              0,
              "rgb(2,4,25)"
             ],
             [
              0.06274509803921569,
              "rgb(24,15,41)"
             ],
             [
              0.12549019607843137,
              "rgb(47,23,57)"
             ],
             [
              0.18823529411764706,
              "rgb(71,28,72)"
             ],
             [
              0.25098039215686274,
              "rgb(97,30,82)"
             ],
             [
              0.3137254901960784,
              "rgb(123,30,89)"
             ],
             [
              0.3764705882352941,
              "rgb(150,27,91)"
             ],
             [
              0.4392156862745098,
              "rgb(177,22,88)"
             ],
             [
              0.5019607843137255,
              "rgb(203,26,79)"
             ],
             [
              0.5647058823529412,
              "rgb(223,47,67)"
             ],
             [
              0.6274509803921569,
              "rgb(236,76,61)"
             ],
             [
              0.6901960784313725,
              "rgb(242,107,73)"
             ],
             [
              0.7529411764705882,
              "rgb(244,135,95)"
             ],
             [
              0.8156862745098039,
              "rgb(245,162,122)"
             ],
             [
              0.8784313725490196,
              "rgb(246,188,153)"
             ],
             [
              0.9411764705882353,
              "rgb(247,212,187)"
             ],
             [
              1,
              "rgb(250,234,220)"
             ]
            ],
            "type": "histogram2dcontour"
           }
          ],
          "mesh3d": [
           {
            "colorbar": {
             "outlinewidth": 0,
             "tickcolor": "rgb(36,36,36)",
             "ticklen": 8,
             "ticks": "outside",
             "tickwidth": 2
            },
            "type": "mesh3d"
           }
          ],
          "parcoords": [
           {
            "line": {
             "colorbar": {
              "outlinewidth": 0,
              "tickcolor": "rgb(36,36,36)",
              "ticklen": 8,
              "ticks": "outside",
              "tickwidth": 2
             }
            },
            "type": "parcoords"
           }
          ],
          "pie": [
           {
            "automargin": true,
            "type": "pie"
           }
          ],
          "scatter": [
           {
            "marker": {
             "colorbar": {
              "outlinewidth": 0,
              "tickcolor": "rgb(36,36,36)",
              "ticklen": 8,
              "ticks": "outside",
              "tickwidth": 2
             }
            },
            "type": "scatter"
           }
          ],
          "scatter3d": [
           {
            "line": {
             "colorbar": {
              "outlinewidth": 0,
              "tickcolor": "rgb(36,36,36)",
              "ticklen": 8,
              "ticks": "outside",
              "tickwidth": 2
             }
            },
            "marker": {
             "colorbar": {
              "outlinewidth": 0,
              "tickcolor": "rgb(36,36,36)",
              "ticklen": 8,
              "ticks": "outside",
              "tickwidth": 2
             }
            },
            "type": "scatter3d"
           }
          ],
          "scattercarpet": [
           {
            "marker": {
             "colorbar": {
              "outlinewidth": 0,
              "tickcolor": "rgb(36,36,36)",
              "ticklen": 8,
              "ticks": "outside",
              "tickwidth": 2
             }
            },
            "type": "scattercarpet"
           }
          ],
          "scattergeo": [
           {
            "marker": {
             "colorbar": {
              "outlinewidth": 0,
              "tickcolor": "rgb(36,36,36)",
              "ticklen": 8,
              "ticks": "outside",
              "tickwidth": 2
             }
            },
            "type": "scattergeo"
           }
          ],
          "scattergl": [
           {
            "marker": {
             "colorbar": {
              "outlinewidth": 0,
              "tickcolor": "rgb(36,36,36)",
              "ticklen": 8,
              "ticks": "outside",
              "tickwidth": 2
             }
            },
            "type": "scattergl"
           }
          ],
          "scattermapbox": [
           {
            "marker": {
             "colorbar": {
              "outlinewidth": 0,
              "tickcolor": "rgb(36,36,36)",
              "ticklen": 8,
              "ticks": "outside",
              "tickwidth": 2
             }
            },
            "type": "scattermapbox"
           }
          ],
          "scatterpolar": [
           {
            "marker": {
             "colorbar": {
              "outlinewidth": 0,
              "tickcolor": "rgb(36,36,36)",
              "ticklen": 8,
              "ticks": "outside",
              "tickwidth": 2
             }
            },
            "type": "scatterpolar"
           }
          ],
          "scatterpolargl": [
           {
            "marker": {
             "colorbar": {
              "outlinewidth": 0,
              "tickcolor": "rgb(36,36,36)",
              "ticklen": 8,
              "ticks": "outside",
              "tickwidth": 2
             }
            },
            "type": "scatterpolargl"
           }
          ],
          "scatterternary": [
           {
            "marker": {
             "colorbar": {
              "outlinewidth": 0,
              "tickcolor": "rgb(36,36,36)",
              "ticklen": 8,
              "ticks": "outside",
              "tickwidth": 2
             }
            },
            "type": "scatterternary"
           }
          ],
          "surface": [
           {
            "colorbar": {
             "outlinewidth": 0,
             "tickcolor": "rgb(36,36,36)",
             "ticklen": 8,
             "ticks": "outside",
             "tickwidth": 2
            },
            "colorscale": [
             [
              0,
              "rgb(2,4,25)"
             ],
             [
              0.06274509803921569,
              "rgb(24,15,41)"
             ],
             [
              0.12549019607843137,
              "rgb(47,23,57)"
             ],
             [
              0.18823529411764706,
              "rgb(71,28,72)"
             ],
             [
              0.25098039215686274,
              "rgb(97,30,82)"
             ],
             [
              0.3137254901960784,
              "rgb(123,30,89)"
             ],
             [
              0.3764705882352941,
              "rgb(150,27,91)"
             ],
             [
              0.4392156862745098,
              "rgb(177,22,88)"
             ],
             [
              0.5019607843137255,
              "rgb(203,26,79)"
             ],
             [
              0.5647058823529412,
              "rgb(223,47,67)"
             ],
             [
              0.6274509803921569,
              "rgb(236,76,61)"
             ],
             [
              0.6901960784313725,
              "rgb(242,107,73)"
             ],
             [
              0.7529411764705882,
              "rgb(244,135,95)"
             ],
             [
              0.8156862745098039,
              "rgb(245,162,122)"
             ],
             [
              0.8784313725490196,
              "rgb(246,188,153)"
             ],
             [
              0.9411764705882353,
              "rgb(247,212,187)"
             ],
             [
              1,
              "rgb(250,234,220)"
             ]
            ],
            "type": "surface"
           }
          ],
          "table": [
           {
            "cells": {
             "fill": {
              "color": "rgb(231,231,240)"
             },
             "line": {
              "color": "white"
             }
            },
            "header": {
             "fill": {
              "color": "rgb(183,183,191)"
             },
             "line": {
              "color": "white"
             }
            },
            "type": "table"
           }
          ]
         },
         "layout": {
          "annotationdefaults": {
           "arrowcolor": "rgb(67,103,167)"
          },
          "coloraxis": {
           "colorbar": {
            "outlinewidth": 0,
            "tickcolor": "rgb(36,36,36)",
            "ticklen": 8,
            "ticks": "outside",
            "tickwidth": 2
           }
          },
          "colorscale": {
           "sequential": [
            [
             0,
             "rgb(2,4,25)"
            ],
            [
             0.06274509803921569,
             "rgb(24,15,41)"
            ],
            [
             0.12549019607843137,
             "rgb(47,23,57)"
            ],
            [
             0.18823529411764706,
             "rgb(71,28,72)"
            ],
            [
             0.25098039215686274,
             "rgb(97,30,82)"
            ],
            [
             0.3137254901960784,
             "rgb(123,30,89)"
            ],
            [
             0.3764705882352941,
             "rgb(150,27,91)"
            ],
            [
             0.4392156862745098,
             "rgb(177,22,88)"
            ],
            [
             0.5019607843137255,
             "rgb(203,26,79)"
            ],
            [
             0.5647058823529412,
             "rgb(223,47,67)"
            ],
            [
             0.6274509803921569,
             "rgb(236,76,61)"
            ],
            [
             0.6901960784313725,
             "rgb(242,107,73)"
            ],
            [
             0.7529411764705882,
             "rgb(244,135,95)"
            ],
            [
             0.8156862745098039,
             "rgb(245,162,122)"
            ],
            [
             0.8784313725490196,
             "rgb(246,188,153)"
            ],
            [
             0.9411764705882353,
             "rgb(247,212,187)"
            ],
            [
             1,
             "rgb(250,234,220)"
            ]
           ],
           "sequentialminus": [
            [
             0,
             "rgb(2,4,25)"
            ],
            [
             0.06274509803921569,
             "rgb(24,15,41)"
            ],
            [
             0.12549019607843137,
             "rgb(47,23,57)"
            ],
            [
             0.18823529411764706,
             "rgb(71,28,72)"
            ],
            [
             0.25098039215686274,
             "rgb(97,30,82)"
            ],
            [
             0.3137254901960784,
             "rgb(123,30,89)"
            ],
            [
             0.3764705882352941,
             "rgb(150,27,91)"
            ],
            [
             0.4392156862745098,
             "rgb(177,22,88)"
            ],
            [
             0.5019607843137255,
             "rgb(203,26,79)"
            ],
            [
             0.5647058823529412,
             "rgb(223,47,67)"
            ],
            [
             0.6274509803921569,
             "rgb(236,76,61)"
            ],
            [
             0.6901960784313725,
             "rgb(242,107,73)"
            ],
            [
             0.7529411764705882,
             "rgb(244,135,95)"
            ],
            [
             0.8156862745098039,
             "rgb(245,162,122)"
            ],
            [
             0.8784313725490196,
             "rgb(246,188,153)"
            ],
            [
             0.9411764705882353,
             "rgb(247,212,187)"
            ],
            [
             1,
             "rgb(250,234,220)"
            ]
           ]
          },
          "colorway": [
           "rgb(76,114,176)",
           "rgb(221,132,82)",
           "rgb(85,168,104)",
           "rgb(196,78,82)",
           "rgb(129,114,179)",
           "rgb(147,120,96)",
           "rgb(218,139,195)",
           "rgb(140,140,140)",
           "rgb(204,185,116)",
           "rgb(100,181,205)"
          ],
          "font": {
           "color": "rgb(36,36,36)"
          },
          "geo": {
           "bgcolor": "white",
           "lakecolor": "white",
           "landcolor": "rgb(234,234,242)",
           "showlakes": true,
           "showland": true,
           "subunitcolor": "white"
          },
          "hoverlabel": {
           "align": "left"
          },
          "hovermode": "closest",
          "paper_bgcolor": "white",
          "plot_bgcolor": "rgb(234,234,242)",
          "polar": {
           "angularaxis": {
            "gridcolor": "white",
            "linecolor": "white",
            "showgrid": true,
            "ticks": ""
           },
           "bgcolor": "rgb(234,234,242)",
           "radialaxis": {
            "gridcolor": "white",
            "linecolor": "white",
            "showgrid": true,
            "ticks": ""
           }
          },
          "scene": {
           "xaxis": {
            "backgroundcolor": "rgb(234,234,242)",
            "gridcolor": "white",
            "gridwidth": 2,
            "linecolor": "white",
            "showbackground": true,
            "showgrid": true,
            "ticks": "",
            "zerolinecolor": "white"
           },
           "yaxis": {
            "backgroundcolor": "rgb(234,234,242)",
            "gridcolor": "white",
            "gridwidth": 2,
            "linecolor": "white",
            "showbackground": true,
            "showgrid": true,
            "ticks": "",
            "zerolinecolor": "white"
           },
           "zaxis": {
            "backgroundcolor": "rgb(234,234,242)",
            "gridcolor": "white",
            "gridwidth": 2,
            "linecolor": "white",
            "showbackground": true,
            "showgrid": true,
            "ticks": "",
            "zerolinecolor": "white"
           }
          },
          "shapedefaults": {
           "fillcolor": "rgb(67,103,167)",
           "line": {
            "width": 0
           },
           "opacity": 0.5
          },
          "ternary": {
           "aaxis": {
            "gridcolor": "white",
            "linecolor": "white",
            "showgrid": true,
            "ticks": ""
           },
           "baxis": {
            "gridcolor": "white",
            "linecolor": "white",
            "showgrid": true,
            "ticks": ""
           },
           "bgcolor": "rgb(234,234,242)",
           "caxis": {
            "gridcolor": "white",
            "linecolor": "white",
            "showgrid": true,
            "ticks": ""
           }
          },
          "xaxis": {
           "automargin": true,
           "gridcolor": "white",
           "linecolor": "white",
           "showgrid": true,
           "ticks": "",
           "title": {
            "standoff": 15
           },
           "zerolinecolor": "white"
          },
          "yaxis": {
           "automargin": true,
           "gridcolor": "white",
           "linecolor": "white",
           "showgrid": true,
           "ticks": "",
           "title": {
            "standoff": 15
           },
           "zerolinecolor": "white"
          }
         }
        },
        "title": {
         "text": "Worldwide Confirmed Cases Over Time"
        },
        "xaxis": {
         "anchor": "y",
         "domain": [
          0,
          1
         ],
         "title": {
          "text": "Last_Update"
         }
        },
        "yaxis": {
         "anchor": "x",
         "domain": [
          0,
          1
         ],
         "title": {
          "text": "Confirmed"
         }
        }
       }
      },
      "text/html": [
       "<div>                            <div id=\"eae9b1e4-1d3c-4555-b71a-75401c00f2b1\" class=\"plotly-graph-div\" style=\"height:525px; width:100%;\"></div>            <script type=\"text/javascript\">                require([\"plotly\"], function(Plotly) {                    window.PLOTLYENV=window.PLOTLYENV || {};                                    if (document.getElementById(\"eae9b1e4-1d3c-4555-b71a-75401c00f2b1\")) {                    Plotly.newPlot(                        \"eae9b1e4-1d3c-4555-b71a-75401c00f2b1\",                        [{\"hovertemplate\": \"Last_Update=%{x}<br>Confirmed=%{y}<extra></extra>\", \"legendgroup\": \"\", \"line\": {\"color\": \"rgb(76,114,176)\", \"dash\": \"solid\"}, \"mode\": \"lines\", \"name\": \"\", \"orientation\": \"v\", \"showlegend\": false, \"type\": \"scatter\", \"x\": [\"2020-08-04 02:27:56\", \"2020-08-07 22:34:20\", \"2020-12-21 13:27:30\", \"2021-01-08 23:22:27\", \"2021-01-22 05:22:10\", \"2021-04-02 15:13:53\"], \"xaxis\": \"x\", \"y\": [152, 0, 791, 196, 97653356, 425], \"yaxis\": \"y\"}],                        {\"legend\": {\"tracegroupgap\": 0}, \"template\": {\"data\": {\"bar\": [{\"error_x\": {\"color\": \"rgb(36,36,36)\"}, \"error_y\": {\"color\": \"rgb(36,36,36)\"}, \"marker\": {\"line\": {\"color\": \"rgb(234,234,242)\", \"width\": 0.5}}, \"type\": \"bar\"}], \"barpolar\": [{\"marker\": {\"line\": {\"color\": \"rgb(234,234,242)\", \"width\": 0.5}}, \"type\": \"barpolar\"}], \"carpet\": [{\"aaxis\": {\"endlinecolor\": \"rgb(36,36,36)\", \"gridcolor\": \"white\", \"linecolor\": \"white\", \"minorgridcolor\": \"white\", \"startlinecolor\": \"rgb(36,36,36)\"}, \"baxis\": {\"endlinecolor\": \"rgb(36,36,36)\", \"gridcolor\": \"white\", \"linecolor\": \"white\", \"minorgridcolor\": \"white\", \"startlinecolor\": \"rgb(36,36,36)\"}, \"type\": \"carpet\"}], \"choropleth\": [{\"colorbar\": {\"outlinewidth\": 0, \"tickcolor\": \"rgb(36,36,36)\", \"ticklen\": 8, \"ticks\": \"outside\", \"tickwidth\": 2}, \"type\": \"choropleth\"}], \"contour\": [{\"colorbar\": {\"outlinewidth\": 0, \"tickcolor\": \"rgb(36,36,36)\", \"ticklen\": 8, \"ticks\": \"outside\", \"tickwidth\": 2}, \"colorscale\": [[0.0, \"rgb(2,4,25)\"], [0.06274509803921569, \"rgb(24,15,41)\"], [0.12549019607843137, \"rgb(47,23,57)\"], [0.18823529411764706, \"rgb(71,28,72)\"], [0.25098039215686274, \"rgb(97,30,82)\"], [0.3137254901960784, \"rgb(123,30,89)\"], [0.3764705882352941, \"rgb(150,27,91)\"], [0.4392156862745098, \"rgb(177,22,88)\"], [0.5019607843137255, \"rgb(203,26,79)\"], [0.5647058823529412, \"rgb(223,47,67)\"], [0.6274509803921569, \"rgb(236,76,61)\"], [0.6901960784313725, \"rgb(242,107,73)\"], [0.7529411764705882, \"rgb(244,135,95)\"], [0.8156862745098039, \"rgb(245,162,122)\"], [0.8784313725490196, \"rgb(246,188,153)\"], [0.9411764705882353, \"rgb(247,212,187)\"], [1.0, \"rgb(250,234,220)\"]], \"type\": \"contour\"}], \"contourcarpet\": [{\"colorbar\": {\"outlinewidth\": 0, \"tickcolor\": \"rgb(36,36,36)\", \"ticklen\": 8, \"ticks\": \"outside\", \"tickwidth\": 2}, \"type\": \"contourcarpet\"}], \"heatmap\": [{\"colorbar\": {\"outlinewidth\": 0, \"tickcolor\": \"rgb(36,36,36)\", \"ticklen\": 8, \"ticks\": \"outside\", \"tickwidth\": 2}, \"colorscale\": [[0.0, \"rgb(2,4,25)\"], [0.06274509803921569, \"rgb(24,15,41)\"], [0.12549019607843137, \"rgb(47,23,57)\"], [0.18823529411764706, \"rgb(71,28,72)\"], [0.25098039215686274, \"rgb(97,30,82)\"], [0.3137254901960784, \"rgb(123,30,89)\"], [0.3764705882352941, \"rgb(150,27,91)\"], [0.4392156862745098, \"rgb(177,22,88)\"], [0.5019607843137255, \"rgb(203,26,79)\"], [0.5647058823529412, \"rgb(223,47,67)\"], [0.6274509803921569, \"rgb(236,76,61)\"], [0.6901960784313725, \"rgb(242,107,73)\"], [0.7529411764705882, \"rgb(244,135,95)\"], [0.8156862745098039, \"rgb(245,162,122)\"], [0.8784313725490196, \"rgb(246,188,153)\"], [0.9411764705882353, \"rgb(247,212,187)\"], [1.0, \"rgb(250,234,220)\"]], \"type\": \"heatmap\"}], \"heatmapgl\": [{\"colorbar\": {\"outlinewidth\": 0, \"tickcolor\": \"rgb(36,36,36)\", \"ticklen\": 8, \"ticks\": \"outside\", \"tickwidth\": 2}, \"colorscale\": [[0.0, \"rgb(2,4,25)\"], [0.06274509803921569, \"rgb(24,15,41)\"], [0.12549019607843137, \"rgb(47,23,57)\"], [0.18823529411764706, \"rgb(71,28,72)\"], [0.25098039215686274, \"rgb(97,30,82)\"], [0.3137254901960784, \"rgb(123,30,89)\"], [0.3764705882352941, \"rgb(150,27,91)\"], [0.4392156862745098, \"rgb(177,22,88)\"], [0.5019607843137255, \"rgb(203,26,79)\"], [0.5647058823529412, \"rgb(223,47,67)\"], [0.6274509803921569, \"rgb(236,76,61)\"], [0.6901960784313725, \"rgb(242,107,73)\"], [0.7529411764705882, \"rgb(244,135,95)\"], [0.8156862745098039, \"rgb(245,162,122)\"], [0.8784313725490196, \"rgb(246,188,153)\"], [0.9411764705882353, \"rgb(247,212,187)\"], [1.0, \"rgb(250,234,220)\"]], \"type\": \"heatmapgl\"}], \"histogram\": [{\"marker\": {\"colorbar\": {\"outlinewidth\": 0, \"tickcolor\": \"rgb(36,36,36)\", \"ticklen\": 8, \"ticks\": \"outside\", \"tickwidth\": 2}}, \"type\": \"histogram\"}], \"histogram2d\": [{\"colorbar\": {\"outlinewidth\": 0, \"tickcolor\": \"rgb(36,36,36)\", \"ticklen\": 8, \"ticks\": \"outside\", \"tickwidth\": 2}, \"colorscale\": [[0.0, \"rgb(2,4,25)\"], [0.06274509803921569, \"rgb(24,15,41)\"], [0.12549019607843137, \"rgb(47,23,57)\"], [0.18823529411764706, \"rgb(71,28,72)\"], [0.25098039215686274, \"rgb(97,30,82)\"], [0.3137254901960784, \"rgb(123,30,89)\"], [0.3764705882352941, \"rgb(150,27,91)\"], [0.4392156862745098, \"rgb(177,22,88)\"], [0.5019607843137255, \"rgb(203,26,79)\"], [0.5647058823529412, \"rgb(223,47,67)\"], [0.6274509803921569, \"rgb(236,76,61)\"], [0.6901960784313725, \"rgb(242,107,73)\"], [0.7529411764705882, \"rgb(244,135,95)\"], [0.8156862745098039, \"rgb(245,162,122)\"], [0.8784313725490196, \"rgb(246,188,153)\"], [0.9411764705882353, \"rgb(247,212,187)\"], [1.0, \"rgb(250,234,220)\"]], \"type\": \"histogram2d\"}], \"histogram2dcontour\": [{\"colorbar\": {\"outlinewidth\": 0, \"tickcolor\": \"rgb(36,36,36)\", \"ticklen\": 8, \"ticks\": \"outside\", \"tickwidth\": 2}, \"colorscale\": [[0.0, \"rgb(2,4,25)\"], [0.06274509803921569, \"rgb(24,15,41)\"], [0.12549019607843137, \"rgb(47,23,57)\"], [0.18823529411764706, \"rgb(71,28,72)\"], [0.25098039215686274, \"rgb(97,30,82)\"], [0.3137254901960784, \"rgb(123,30,89)\"], [0.3764705882352941, \"rgb(150,27,91)\"], [0.4392156862745098, \"rgb(177,22,88)\"], [0.5019607843137255, \"rgb(203,26,79)\"], [0.5647058823529412, \"rgb(223,47,67)\"], [0.6274509803921569, \"rgb(236,76,61)\"], [0.6901960784313725, \"rgb(242,107,73)\"], [0.7529411764705882, \"rgb(244,135,95)\"], [0.8156862745098039, \"rgb(245,162,122)\"], [0.8784313725490196, \"rgb(246,188,153)\"], [0.9411764705882353, \"rgb(247,212,187)\"], [1.0, \"rgb(250,234,220)\"]], \"type\": \"histogram2dcontour\"}], \"mesh3d\": [{\"colorbar\": {\"outlinewidth\": 0, \"tickcolor\": \"rgb(36,36,36)\", \"ticklen\": 8, \"ticks\": \"outside\", \"tickwidth\": 2}, \"type\": \"mesh3d\"}], \"parcoords\": [{\"line\": {\"colorbar\": {\"outlinewidth\": 0, \"tickcolor\": \"rgb(36,36,36)\", \"ticklen\": 8, \"ticks\": \"outside\", \"tickwidth\": 2}}, \"type\": \"parcoords\"}], \"pie\": [{\"automargin\": true, \"type\": \"pie\"}], \"scatter\": [{\"marker\": {\"colorbar\": {\"outlinewidth\": 0, \"tickcolor\": \"rgb(36,36,36)\", \"ticklen\": 8, \"ticks\": \"outside\", \"tickwidth\": 2}}, \"type\": \"scatter\"}], \"scatter3d\": [{\"line\": {\"colorbar\": {\"outlinewidth\": 0, \"tickcolor\": \"rgb(36,36,36)\", \"ticklen\": 8, \"ticks\": \"outside\", \"tickwidth\": 2}}, \"marker\": {\"colorbar\": {\"outlinewidth\": 0, \"tickcolor\": \"rgb(36,36,36)\", \"ticklen\": 8, \"ticks\": \"outside\", \"tickwidth\": 2}}, \"type\": \"scatter3d\"}], \"scattercarpet\": [{\"marker\": {\"colorbar\": {\"outlinewidth\": 0, \"tickcolor\": \"rgb(36,36,36)\", \"ticklen\": 8, \"ticks\": \"outside\", \"tickwidth\": 2}}, \"type\": \"scattercarpet\"}], \"scattergeo\": [{\"marker\": {\"colorbar\": {\"outlinewidth\": 0, \"tickcolor\": \"rgb(36,36,36)\", \"ticklen\": 8, \"ticks\": \"outside\", \"tickwidth\": 2}}, \"type\": \"scattergeo\"}], \"scattergl\": [{\"marker\": {\"colorbar\": {\"outlinewidth\": 0, \"tickcolor\": \"rgb(36,36,36)\", \"ticklen\": 8, \"ticks\": \"outside\", \"tickwidth\": 2}}, \"type\": \"scattergl\"}], \"scattermapbox\": [{\"marker\": {\"colorbar\": {\"outlinewidth\": 0, \"tickcolor\": \"rgb(36,36,36)\", \"ticklen\": 8, \"ticks\": \"outside\", \"tickwidth\": 2}}, \"type\": \"scattermapbox\"}], \"scatterpolar\": [{\"marker\": {\"colorbar\": {\"outlinewidth\": 0, \"tickcolor\": \"rgb(36,36,36)\", \"ticklen\": 8, \"ticks\": \"outside\", \"tickwidth\": 2}}, \"type\": \"scatterpolar\"}], \"scatterpolargl\": [{\"marker\": {\"colorbar\": {\"outlinewidth\": 0, \"tickcolor\": \"rgb(36,36,36)\", \"ticklen\": 8, \"ticks\": \"outside\", \"tickwidth\": 2}}, \"type\": \"scatterpolargl\"}], \"scatterternary\": [{\"marker\": {\"colorbar\": {\"outlinewidth\": 0, \"tickcolor\": \"rgb(36,36,36)\", \"ticklen\": 8, \"ticks\": \"outside\", \"tickwidth\": 2}}, \"type\": \"scatterternary\"}], \"surface\": [{\"colorbar\": {\"outlinewidth\": 0, \"tickcolor\": \"rgb(36,36,36)\", \"ticklen\": 8, \"ticks\": \"outside\", \"tickwidth\": 2}, \"colorscale\": [[0.0, \"rgb(2,4,25)\"], [0.06274509803921569, \"rgb(24,15,41)\"], [0.12549019607843137, \"rgb(47,23,57)\"], [0.18823529411764706, \"rgb(71,28,72)\"], [0.25098039215686274, \"rgb(97,30,82)\"], [0.3137254901960784, \"rgb(123,30,89)\"], [0.3764705882352941, \"rgb(150,27,91)\"], [0.4392156862745098, \"rgb(177,22,88)\"], [0.5019607843137255, \"rgb(203,26,79)\"], [0.5647058823529412, \"rgb(223,47,67)\"], [0.6274509803921569, \"rgb(236,76,61)\"], [0.6901960784313725, \"rgb(242,107,73)\"], [0.7529411764705882, \"rgb(244,135,95)\"], [0.8156862745098039, \"rgb(245,162,122)\"], [0.8784313725490196, \"rgb(246,188,153)\"], [0.9411764705882353, \"rgb(247,212,187)\"], [1.0, \"rgb(250,234,220)\"]], \"type\": \"surface\"}], \"table\": [{\"cells\": {\"fill\": {\"color\": \"rgb(231,231,240)\"}, \"line\": {\"color\": \"white\"}}, \"header\": {\"fill\": {\"color\": \"rgb(183,183,191)\"}, \"line\": {\"color\": \"white\"}}, \"type\": \"table\"}]}, \"layout\": {\"annotationdefaults\": {\"arrowcolor\": \"rgb(67,103,167)\"}, \"coloraxis\": {\"colorbar\": {\"outlinewidth\": 0, \"tickcolor\": \"rgb(36,36,36)\", \"ticklen\": 8, \"ticks\": \"outside\", \"tickwidth\": 2}}, \"colorscale\": {\"sequential\": [[0.0, \"rgb(2,4,25)\"], [0.06274509803921569, \"rgb(24,15,41)\"], [0.12549019607843137, \"rgb(47,23,57)\"], [0.18823529411764706, \"rgb(71,28,72)\"], [0.25098039215686274, \"rgb(97,30,82)\"], [0.3137254901960784, \"rgb(123,30,89)\"], [0.3764705882352941, \"rgb(150,27,91)\"], [0.4392156862745098, \"rgb(177,22,88)\"], [0.5019607843137255, \"rgb(203,26,79)\"], [0.5647058823529412, \"rgb(223,47,67)\"], [0.6274509803921569, \"rgb(236,76,61)\"], [0.6901960784313725, \"rgb(242,107,73)\"], [0.7529411764705882, \"rgb(244,135,95)\"], [0.8156862745098039, \"rgb(245,162,122)\"], [0.8784313725490196, \"rgb(246,188,153)\"], [0.9411764705882353, \"rgb(247,212,187)\"], [1.0, \"rgb(250,234,220)\"]], \"sequentialminus\": [[0.0, \"rgb(2,4,25)\"], [0.06274509803921569, \"rgb(24,15,41)\"], [0.12549019607843137, \"rgb(47,23,57)\"], [0.18823529411764706, \"rgb(71,28,72)\"], [0.25098039215686274, \"rgb(97,30,82)\"], [0.3137254901960784, \"rgb(123,30,89)\"], [0.3764705882352941, \"rgb(150,27,91)\"], [0.4392156862745098, \"rgb(177,22,88)\"], [0.5019607843137255, \"rgb(203,26,79)\"], [0.5647058823529412, \"rgb(223,47,67)\"], [0.6274509803921569, \"rgb(236,76,61)\"], [0.6901960784313725, \"rgb(242,107,73)\"], [0.7529411764705882, \"rgb(244,135,95)\"], [0.8156862745098039, \"rgb(245,162,122)\"], [0.8784313725490196, \"rgb(246,188,153)\"], [0.9411764705882353, \"rgb(247,212,187)\"], [1.0, \"rgb(250,234,220)\"]]}, \"colorway\": [\"rgb(76,114,176)\", \"rgb(221,132,82)\", \"rgb(85,168,104)\", \"rgb(196,78,82)\", \"rgb(129,114,179)\", \"rgb(147,120,96)\", \"rgb(218,139,195)\", \"rgb(140,140,140)\", \"rgb(204,185,116)\", \"rgb(100,181,205)\"], \"font\": {\"color\": \"rgb(36,36,36)\"}, \"geo\": {\"bgcolor\": \"white\", \"lakecolor\": \"white\", \"landcolor\": \"rgb(234,234,242)\", \"showlakes\": true, \"showland\": true, \"subunitcolor\": \"white\"}, \"hoverlabel\": {\"align\": \"left\"}, \"hovermode\": \"closest\", \"paper_bgcolor\": \"white\", \"plot_bgcolor\": \"rgb(234,234,242)\", \"polar\": {\"angularaxis\": {\"gridcolor\": \"white\", \"linecolor\": \"white\", \"showgrid\": true, \"ticks\": \"\"}, \"bgcolor\": \"rgb(234,234,242)\", \"radialaxis\": {\"gridcolor\": \"white\", \"linecolor\": \"white\", \"showgrid\": true, \"ticks\": \"\"}}, \"scene\": {\"xaxis\": {\"backgroundcolor\": \"rgb(234,234,242)\", \"gridcolor\": \"white\", \"gridwidth\": 2, \"linecolor\": \"white\", \"showbackground\": true, \"showgrid\": true, \"ticks\": \"\", \"zerolinecolor\": \"white\"}, \"yaxis\": {\"backgroundcolor\": \"rgb(234,234,242)\", \"gridcolor\": \"white\", \"gridwidth\": 2, \"linecolor\": \"white\", \"showbackground\": true, \"showgrid\": true, \"ticks\": \"\", \"zerolinecolor\": \"white\"}, \"zaxis\": {\"backgroundcolor\": \"rgb(234,234,242)\", \"gridcolor\": \"white\", \"gridwidth\": 2, \"linecolor\": \"white\", \"showbackground\": true, \"showgrid\": true, \"ticks\": \"\", \"zerolinecolor\": \"white\"}}, \"shapedefaults\": {\"fillcolor\": \"rgb(67,103,167)\", \"line\": {\"width\": 0}, \"opacity\": 0.5}, \"ternary\": {\"aaxis\": {\"gridcolor\": \"white\", \"linecolor\": \"white\", \"showgrid\": true, \"ticks\": \"\"}, \"baxis\": {\"gridcolor\": \"white\", \"linecolor\": \"white\", \"showgrid\": true, \"ticks\": \"\"}, \"bgcolor\": \"rgb(234,234,242)\", \"caxis\": {\"gridcolor\": \"white\", \"linecolor\": \"white\", \"showgrid\": true, \"ticks\": \"\"}}, \"xaxis\": {\"automargin\": true, \"gridcolor\": \"white\", \"linecolor\": \"white\", \"showgrid\": true, \"ticks\": \"\", \"title\": {\"standoff\": 15}, \"zerolinecolor\": \"white\"}, \"yaxis\": {\"automargin\": true, \"gridcolor\": \"white\", \"linecolor\": \"white\", \"showgrid\": true, \"ticks\": \"\", \"title\": {\"standoff\": 15}, \"zerolinecolor\": \"white\"}}}, \"title\": {\"text\": \"Worldwide Confirmed Cases Over Time\"}, \"xaxis\": {\"anchor\": \"y\", \"domain\": [0.0, 1.0], \"title\": {\"text\": \"Last_Update\"}}, \"yaxis\": {\"anchor\": \"x\", \"domain\": [0.0, 1.0], \"title\": {\"text\": \"Confirmed\"}}},                        {\"responsive\": true}                    ).then(function(){\n",
       "                            \n",
       "var gd = document.getElementById('eae9b1e4-1d3c-4555-b71a-75401c00f2b1');\n",
       "var x = new MutationObserver(function (mutations, observer) {{\n",
       "        var display = window.getComputedStyle(gd).display;\n",
       "        if (!display || display === 'none') {{\n",
       "            console.log([gd, 'removed!']);\n",
       "            Plotly.purge(gd);\n",
       "            observer.disconnect();\n",
       "        }}\n",
       "}});\n",
       "\n",
       "// Listen for the removal of the full notebook cells\n",
       "var notebookContainer = gd.closest('#notebook-container');\n",
       "if (notebookContainer) {{\n",
       "    x.observe(notebookContainer, {childList: true});\n",
       "}}\n",
       "\n",
       "// Listen for the clearing of the current output cell\n",
       "var outputEl = gd.closest('.output');\n",
       "if (outputEl) {{\n",
       "    x.observe(outputEl, {childList: true});\n",
       "}}\n",
       "\n",
       "                        })                };                });            </script>        </div>"
      ]
     },
     "metadata": {},
     "output_type": "display_data"
    }
   ],
   "source": [
    "\n",
    "import pandas as pd\n",
    "import plotly.express as px\n",
    "import plotly.io as pio\n",
    "pio.templates.default = \"seaborn\"\n",
    " \n",
    "data = pd.read_csv('https://raw.githubusercontent.com/CSSEGISandData/COVID-19/master/csse_covid_19_data/csse_covid_19_daily_reports/01-21-2021.csv')\n",
    "data\n",
    "grouping = data.groupby('Last_Update')['Last_Update', 'Confirmed', 'Deaths'].sum().reset_index()\n",
    "fig = px.line(grouping, x=\"Last_Update\", y=\"Confirmed\",\n",
    "             title=\"Worldwide Confirmed Cases Over Time\")\n",
    "fig.show()"
   ]
  },
  {
   "cell_type": "code",
   "execution_count": null,
   "metadata": {},
   "outputs": [],
   "source": []
  }
 ],
 "metadata": {
  "kernelspec": {
   "display_name": "Python 3",
   "language": "python",
   "name": "python3"
  },
  "language_info": {
   "codemirror_mode": {
    "name": "ipython",
    "version": 3
   },
   "file_extension": ".py",
   "mimetype": "text/x-python",
   "name": "python",
   "nbconvert_exporter": "python",
   "pygments_lexer": "ipython3",
   "version": "3.6.5"
  }
 },
 "nbformat": 4,
 "nbformat_minor": 4
}
